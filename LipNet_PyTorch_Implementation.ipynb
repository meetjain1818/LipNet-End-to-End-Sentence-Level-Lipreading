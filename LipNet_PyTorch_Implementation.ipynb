{
 "cells": [
  {
   "cell_type": "code",
   "execution_count": 1,
   "id": "bf1ece22-b52e-440b-b9f5-e702e54eedb9",
   "metadata": {},
   "outputs": [],
   "source": [
    "import torch\n",
    "import torch.nn as nn\n",
    "import torch.optim as optim\n",
    "import torch.nn.functional as F\n",
    "from torch.utils.data import Dataset, DataLoader\n",
    "from torch.nn.utils.rnn import pad_sequence\n",
    "import torch.nn.init as init\n",
    "\n",
    "import numpy as np\n",
    "import os\n",
    "import glob\n",
    "import matplotlib.pyplot as plt\n",
    "import seaborn as sns\n",
    "from typing import List, Tuple, Optional\n",
    "import imageio\n",
    "import dlib\n",
    "from tqdm import tqdm\n",
    "import warnings\n",
    "import cv2\n",
    "import time\n",
    "import random\n",
    "\n",
    "warnings.filterwarnings('ignore')\n",
    "plt.style.use('seaborn-v0_8-dark-palette') # Use a compatible style\n",
    "plt.rcParams[\"figure.figsize\"] = (9, 5)"
   ]
  },
  {
   "cell_type": "code",
   "execution_count": 2,
   "id": "63956a29-bc4d-4178-85eb-cfecf0cf6d9e",
   "metadata": {},
   "outputs": [
    {
     "name": "stdout",
     "output_type": "stream",
     "text": [
      "Using device: cpu\n"
     ]
    }
   ],
   "source": [
    "# --- Configuration ---\n",
    "SEED = 6543\n",
    "torch.manual_seed(SEED)\n",
    "np.random.seed(SEED)\n",
    "if torch.cuda.is_available():\n",
    "    torch.cuda.manual_seed_all(SEED)\n",
    "    torch.backends.cudnn.deterministic = True\n",
    "    torch.backends.cudnn.benchmark = False\n",
    "\n",
    "DEVICE = torch.device(\"cuda\" if torch.cuda.is_available() else \"cpu\")\n",
    "print(f\"Using device: {DEVICE}\")"
   ]
  },
  {
   "cell_type": "code",
   "execution_count": 4,
   "id": "8d9ff14b-bfef-4f0c-9378-307c9d7902cb",
   "metadata": {},
   "outputs": [],
   "source": [
    "FRAME_COUNT = 75\n",
    "FRAME_HEIGHT = 50\n",
    "FRAME_WIDTH = 100\n",
    "FRAME_CHANNELS = 3\n",
    "DROPOUT_P = 0.5\n",
    "\n",
    "BASE_PROCESSED_PATH = './GRIDCorpus/processed_mouth_data/'\n",
    "BASE_ALIGN_PATH = './GRIDCorpus/data/'\n",
    "\n",
    "# ALL_SPEAKER_IDS = [f's{i}' for i in range(1, 2) if i != 21]\n",
    "ALL_SPEAKER_IDS = [\"s23_processed\", \"s24_processed\", \"s25_processed\"]"
   ]
  },
  {
   "cell_type": "code",
   "execution_count": 5,
   "id": "72549801-190e-4f2f-b05a-d65f533e208a",
   "metadata": {},
   "outputs": [],
   "source": [
    "# TEST_SPEAKERS_UNSEEN = ['s1', 's2', 's20', 's22']\n",
    "NUM_TEST_SENTENCES_OVERLAPPED = 200 \n",
    "SPLIT_MODE = 'overlapped' # Choose 'unseen' or 'overlapped'\n",
    "\n",
    "# Normalization constants\n",
    "NORM_MEAN = np.array([0.7136, 0.4906, 0.3283], dtype=np.float32)\n",
    "NORM_STD = np.array([0.1138, 0.1078, 0.0917], dtype=np.float32)"
   ]
  },
  {
   "cell_type": "code",
   "execution_count": 6,
   "id": "2513c15e-8248-48ef-8868-76f8d5b76333",
   "metadata": {},
   "outputs": [
    {
     "name": "stdout",
     "output_type": "stream",
     "text": [
      "The vocabulary is: ['a', 'b', 'c', 'd', 'e', 'f', 'g', 'h', 'i', 'j', 'k', 'l', 'm', 'n', 'o', 'p', 'q', 'r', 's', 't', 'u', 'v', 'w', 'x', 'y', 'z', ' '] (size =27)\n",
      "CTC Blank Index: 0\n",
      "Label Padding Value: 0\n"
     ]
    }
   ],
   "source": [
    "# --- Vocabulary ---\n",
    "vocab = [x for x in \"abcdefghijklmnopqrstuvwxyz \"]\n",
    "char_to_num_dict = {char: i + 1 for i, char in enumerate(vocab)} # Start indices from 1\n",
    "num_to_char_dict = {i + 1: char for i, char in enumerate(vocab)}\n",
    "VOCAB_SIZE = len(vocab)\n",
    "CTC_BLANK_INDEX = 0 # CTC blank is often index 0 by convention in PyTorch\n",
    "LABEL_PADDING_VALUE = CTC_BLANK_INDEX\n",
    "\n",
    "print(\n",
    "    f\"The vocabulary is: {vocab} \"\n",
    "    f\"(size ={VOCAB_SIZE})\"\n",
    ")\n",
    "print(f\"CTC Blank Index: {CTC_BLANK_INDEX}\")\n",
    "print(f\"Label Padding Value: {LABEL_PADDING_VALUE}\")"
   ]
  },
  {
   "cell_type": "code",
   "execution_count": 9,
   "id": "8424bde4-0652-4476-a445-3757e6e72fbf",
   "metadata": {},
   "outputs": [],
   "source": [
    "def load_alignments(align_file: str) -> Optional[List[str]]:\n",
    "    alignments_chars = []\n",
    "    try:\n",
    "        with open(align_file, 'r') as f:\n",
    "            for line in f:\n",
    "                parts = line.strip().split()\n",
    "                if len(parts) != 3:\n",
    "                    continue\n",
    "                _, _, token = parts\n",
    "                if token != 'sil':\n",
    "                    token_characters = list(token.lower() + ' ')\n",
    "                    alignments_chars.extend(token_characters)\n",
    "        return alignments_chars[:-1] if alignments_chars else []\n",
    "    except FileNotFoundError:\n",
    "         print(f\"Warning: Alignment file not found: {align_file}\")\n",
    "         return None\n",
    "    except Exception as e:\n",
    "        print(f\"Error loading alignments {align_file}: {e}\")\n",
    "        return None"
   ]
  },
  {
   "cell_type": "code",
   "execution_count": 10,
   "id": "b14035da-9807-462e-9066-c4aca1bb0e73",
   "metadata": {},
   "outputs": [
    {
     "name": "stdout",
     "output_type": "stream",
     "text": [
      "['l', 'a', 'y', ' ', 'r', 'e', 'd', ' ', 'w', 'i', 't', 'h', ' ', 'z', ' ', 'f', 'o', 'u', 'r', ' ', 'p', 'l', 'e', 'a', 's', 'e']\n"
     ]
    }
   ],
   "source": [
    "example_alignment = load_alignments(\"./GRIDCorpus/data/s1_processed/align/lrwz4p.align\")\n",
    "print(example_alignment)"
   ]
  },
  {
   "cell_type": "code",
   "execution_count": 11,
   "id": "338b18fd-fec0-4a19-99ce-7fdbd8eb4e59",
   "metadata": {},
   "outputs": [
    {
     "name": "stdout",
     "output_type": "stream",
     "text": [
      "Using overlapped speakers split. 200 test sentences per speaker.\n",
      "Total files found: 3000\n",
      "Training files: 2400\n",
      "Test files: 600\n"
     ]
    }
   ],
   "source": [
    "# --- File Listing and Splitting ---\n",
    "all_npy_files = []\n",
    "for speaker_id in ALL_SPEAKER_IDS:\n",
    "    speaker_path = os.path.join(BASE_PROCESSED_PATH, speaker_id, '*.npy')\n",
    "    files = glob.glob(speaker_path)\n",
    "    if not files:\n",
    "        print(f\"Warning: No .npy files found for speaker {speaker_id} in {os.path.join(BASE_PROCESSED_PATH, speaker_id)}\")\n",
    "    all_npy_files.extend(files)\n",
    "\n",
    "if not all_npy_files:\n",
    "    raise FileNotFoundError(f\"No .npy files found in {BASE_PROCESSED_PATH} for speakers {ALL_SPEAKER_IDS}. Did preprocessing run?\")\n",
    "\n",
    "np.random.shuffle(all_npy_files)\n",
    "train_files, test_files = [], []\n",
    "\n",
    "if SPLIT_MODE == 'unseen':\n",
    "    print(f\"Using unseen speakers split. Test speakers: {TEST_SPEAKERS_UNSEEN}\")\n",
    "    for f in all_npy_files:\n",
    "        speaker_id = os.path.basename(os.path.dirname(f))\n",
    "        if speaker_id in TEST_SPEAKERS_UNSEEN:\n",
    "            test_files.append(f)\n",
    "        else:\n",
    "            train_files.append(f)\n",
    "elif SPLIT_MODE == 'overlapped':\n",
    "    print(f\"Using overlapped speakers split. {NUM_TEST_SENTENCES_OVERLAPPED} test sentences per speaker.\")\n",
    "    files_by_speaker = {}\n",
    "    for f in all_npy_files:\n",
    "        speaker_id = os.path.basename(os.path.dirname(f))\n",
    "        if speaker_id not in files_by_speaker:\n",
    "            files_by_speaker[speaker_id] = []\n",
    "        files_by_speaker[speaker_id].append(f)\n",
    "\n",
    "    for speaker_id, files in files_by_speaker.items():\n",
    "        np.random.shuffle(files)\n",
    "        test_count = min(NUM_TEST_SENTENCES_OVERLAPPED, len(files))\n",
    "        test_files.extend(files[:test_count])\n",
    "        train_files.extend(files[test_count:])\n",
    "else:\n",
    "    raise ValueError(\"Invalid SPLIT_MODE. Choose 'unseen' or 'overlapped'.\")\n",
    "\n",
    "print(f\"Total files found: {len(all_npy_files)}\")\n",
    "print(f\"Training files: {len(train_files)}\")\n",
    "print(f\"Test files: {len(test_files)}\")\n",
    "\n",
    "if not train_files or not test_files:\n",
    "    raise ValueError(\"Training or test set is empty. Check file paths and splitting logic.\")"
   ]
  },
  {
   "cell_type": "code",
   "execution_count": 12,
   "id": "834ccdb7-5ff3-44e1-a7d0-b3411f81f4ab",
   "metadata": {},
   "outputs": [],
   "source": [
    "class GRIDDataset(Dataset):\n",
    "    def __init__(self, file_paths: List[str], augment: bool = True):\n",
    "        self.file_paths = file_paths\n",
    "        self.augment = augment\n",
    "        self.target_frame_count = FRAME_COUNT # Define target length\n",
    "\n",
    "    def __len__(self):\n",
    "        return len(self.file_paths)\n",
    "\n",
    "    def __getitem__(self, idx):\n",
    "        npy_path = self.file_paths[idx]\n",
    "        try:\n",
    "            frames_uint8 = np.load(npy_path)\n",
    "\n",
    "            if frames_uint8.ndim != 4 or frames_uint8.shape[1:] != (FRAME_HEIGHT, FRAME_WIDTH, FRAME_CHANNELS):\n",
    "                 print(f\"Warning: Unexpected shape {frames_uint8.shape} for {npy_path}. Skipping.\")\n",
    "                 return torch.zeros((FRAME_COUNT, FRAME_HEIGHT, FRAME_WIDTH, FRAME_CHANNELS), dtype=torch.float32), \\\n",
    "                        torch.tensor([], dtype=torch.long)\n",
    "\n",
    "            current_frame_count = frames_uint8.shape[0]\n",
    "            if current_frame_count != self.target_frame_count:\n",
    "                if current_frame_count > self.target_frame_count:\n",
    "                    frames_uint8 = frames_uint8[:self.target_frame_count, ...]\n",
    "                else:\n",
    "                    pad_width = ((0, self.target_frame_count - current_frame_count), (0, 0), (0, 0), (0, 0))\n",
    "                    frames_uint8 = np.pad(frames_uint8, pad_width, mode='constant', constant_values=0)\n",
    "\n",
    "            frames_float = frames_uint8.astype(np.float32) / 255.0\n",
    "            frames_rgb = frames_float[..., ::-1] # BGR to RGB\n",
    "            frames_normalized = (frames_rgb - NORM_MEAN) / NORM_STD\n",
    "            frames_tensor = torch.tensor(frames_normalized, dtype=torch.float32)\n",
    "            # Shape should now be guaranteed [75, 50, 100, 3]\n",
    "\n",
    "            # getting alignments\n",
    "            parts = npy_path.split(os.path.sep)\n",
    "            speaker_id = parts[-2]\n",
    "            base_name = os.path.splitext(parts[-1])[0]\n",
    "            if base_name.endswith('_mouth'):\n",
    "                base_name = base_name[:-6]\n",
    "            align_file = os.path.join(BASE_ALIGN_PATH, speaker_id, \"align\", f'{base_name}.align')\n",
    "            alignments_list = load_alignments(align_file)\n",
    "\n",
    "            if alignments_list is None:\n",
    "                print(f\"Skipping {npy_path} due to missing alignment.\")\n",
    "                return torch.zeros((FRAME_COUNT, FRAME_HEIGHT, FRAME_WIDTH, FRAME_CHANNELS), dtype=torch.float32), \\\n",
    "                       torch.tensor([], dtype=torch.long)\n",
    "\n",
    "            label_indices = [char_to_num_dict.get(char, CTC_BLANK_INDEX) for char in alignments_list] # Use blank for OOV\n",
    "            label_tensor = torch.tensor(label_indices, dtype=torch.long)\n",
    "\n",
    "            if self.augment and torch.rand(1).item() > 0.5:\n",
    "                frames_tensor = torch.flip(frames_tensor, dims=[2]) # Flip width dimension\n",
    "\n",
    "            return frames_tensor, label_tensor\n",
    "\n",
    "        except FileNotFoundError:\n",
    "            print(f\"Warning: File not found {npy_path}. Skipping.\")\n",
    "            return torch.zeros((FRAME_COUNT, FRAME_HEIGHT, FRAME_WIDTH, FRAME_CHANNELS), dtype=torch.float32), \\\n",
    "                   torch.tensor([], dtype=torch.long)\n",
    "        except Exception as e:\n",
    "            print(f\"Error loading item {idx} ({npy_path}): {e}\")\n",
    "            return torch.zeros((FRAME_COUNT, FRAME_HEIGHT, FRAME_WIDTH, FRAME_CHANNELS), dtype=torch.float32), \\\n",
    "                   torch.tensor([], dtype=torch.long)"
   ]
  },
  {
   "cell_type": "code",
   "execution_count": 13,
   "id": "e1976c66-cadc-42de-aadb-631fc8504b47",
   "metadata": {},
   "outputs": [],
   "source": [
    "def collate_fn(batch):\n",
    "    batch = [(frames, labels) for frames, labels in batch if labels.numel() > 0]\n",
    "    if not batch:\n",
    "        return torch.tensor([]), torch.tensor([]), torch.tensor([]), torch.tensor([])\n",
    "    frames_list, labels_list = zip(*batch)\n",
    "    frames_batch = torch.stack(frames_list, dim=0)\n",
    "    label_lengths = torch.tensor([len(lbl) for lbl in labels_list], dtype=torch.long)\n",
    "    labels_padded = pad_sequence(labels_list, batch_first=True, padding_value=LABEL_PADDING_VALUE)\n",
    "    input_lengths = torch.full(size=(len(batch),), fill_value=FRAME_COUNT, dtype=torch.long)\n",
    "    return frames_batch, labels_padded, input_lengths, label_lengths"
   ]
  },
  {
   "cell_type": "code",
   "execution_count": 1,
   "id": "5965b310-b0b2-4ce7-b6c0-cff303debedc",
   "metadata": {},
   "outputs": [
    {
     "ename": "NameError",
     "evalue": "name 'GRIDDataset' is not defined",
     "output_type": "error",
     "traceback": [
      "\u001b[31m---------------------------------------------------------------------------\u001b[39m",
      "\u001b[31mNameError\u001b[39m                                 Traceback (most recent call last)",
      "\u001b[36mCell\u001b[39m\u001b[36m \u001b[39m\u001b[32mIn[1]\u001b[39m\u001b[32m, line 5\u001b[39m\n\u001b[32m      2\u001b[39m BATCH_SIZE_TRAIN = \u001b[32m32\u001b[39m\n\u001b[32m      3\u001b[39m BATCH_SIZE_TEST = \u001b[32m32\u001b[39m\n\u001b[32m----> \u001b[39m\u001b[32m5\u001b[39m train_dataset = \u001b[43mGRIDDataset\u001b[49m(train_files, augment=\u001b[38;5;28;01mTrue\u001b[39;00m)\n\u001b[32m      6\u001b[39m test_dataset = GRIDDataset(test_files, augment=\u001b[38;5;28;01mFalse\u001b[39;00m)\n\u001b[32m      8\u001b[39m train_loader = DataLoader(train_dataset, batch_size=BATCH_SIZE_TRAIN, shuffle=\u001b[38;5;28;01mTrue\u001b[39;00m,\n\u001b[32m      9\u001b[39m                           collate_fn=collate_fn, num_workers=\u001b[32m4\u001b[39m, pin_memory=\u001b[38;5;28;01mTrue\u001b[39;00m)\n",
      "\u001b[31mNameError\u001b[39m: name 'GRIDDataset' is not defined"
     ]
    }
   ],
   "source": [
    "# --- Data Loaders ---\n",
    "BATCH_SIZE_TRAIN = 32\n",
    "BATCH_SIZE_TEST = 32\n",
    "\n",
    "train_dataset = GRIDDataset(train_files, augment=True)\n",
    "test_dataset = GRIDDataset(test_files, augment=False)\n",
    "\n",
    "train_loader = DataLoader(train_dataset, batch_size=BATCH_SIZE_TRAIN, shuffle=True,\n",
    "                          collate_fn=collate_fn, num_workers=4, pin_memory=True)\n",
    "test_loader = DataLoader(test_dataset, batch_size=BATCH_SIZE_TEST, shuffle=False,\n",
    "                         collate_fn=collate_fn, num_workers=4, pin_memory=True)\n",
    "\n",
    "print(\"DataLoaders created.\")\n",
    "# Test one batch\n",
    "try:\n",
    "    d_frames, d_labels, d_in_len, d_lbl_len = next(iter(train_loader))\n",
    "    print(\"Train Batch Shapes:\", d_frames.shape, d_labels.shape, d_in_len.shape, d_lbl_len.shape)\n",
    "    d_frames, d_labels, d_in_len, d_lbl_len = next(iter(test_loader))\n",
    "    print(\"Test Batch Shapes:\", d_frames.shape, d_labels.shape, d_in_len.shape, d_lbl_len.shape)\n",
    "except Exception as e:\n",
    "     print(f\"Error fetching batch: {e}\")\n"
   ]
  },
  {
   "cell_type": "code",
   "execution_count": 15,
   "id": "984a9fb3-c55e-4c55-af41-0d143b559140",
   "metadata": {},
   "outputs": [],
   "source": [
    "# --- PyTorch LipNet Model ---\n",
    "class LipNet(nn.Module):\n",
    "    def __init__(self, num_classes, dropout_p=DROPOUT_P):\n",
    "        super(LipNet, self).__init__()\n",
    "        self.num_classes = num_classes # Should include blank token\n",
    "        self.dropout_p = dropout_p\n",
    "\n",
    "        # Spatiotemporal Convolutional Layers (STCNN)\n",
    "        self.conv1 = nn.Conv3d(FRAME_CHANNELS, 32, kernel_size=(3, 5, 5), stride=(1, 2, 2), padding=(1, 2, 2))\n",
    "        self.bn1 = nn.BatchNorm3d(32)\n",
    "        self.pool1 = nn.MaxPool3d(kernel_size=(1, 2, 2), stride=(1, 2, 2))\n",
    "        self.drop1 = nn.Dropout3d(dropout_p)\n",
    "\n",
    "        self.conv2 = nn.Conv3d(32, 64, kernel_size=(3, 5, 5), stride=(1, 1, 1), padding=(1, 2, 2))\n",
    "        self.bn2 = nn.BatchNorm3d(64)\n",
    "        self.pool2 = nn.MaxPool3d(kernel_size=(1, 2, 2), stride=(1, 2, 2))\n",
    "        self.drop2 = nn.Dropout3d(dropout_p)\n",
    "\n",
    "        self.conv3 = nn.Conv3d(64, 96, kernel_size=(3, 3, 3), stride=(1, 1, 1), padding=(1, 1, 1))\n",
    "        self.bn3 = nn.BatchNorm3d(96)\n",
    "        self.pool3 = nn.MaxPool3d(kernel_size=(1, 2, 2), stride=(1, 2, 2))\n",
    "        self.drop3 = nn.Dropout3d(dropout_p)\n",
    "        self.rnn_input_size = 96 * 3 * 6 # C_out * H_out * W_out\n",
    "\n",
    "        # Bidirectional GRU Layers\n",
    "        self.gru1 = nn.GRU(self.rnn_input_size, 256, bidirectional=True, batch_first=True)\n",
    "        self.drop_gru1 = nn.Dropout(dropout_p)\n",
    "        self.gru2 = nn.GRU(256 * 2, 256, bidirectional=True, batch_first=True) # Input size is doubled from previous BiGRU\n",
    "        self.drop_gru2 = nn.Dropout(dropout_p)\n",
    "\n",
    "        # Fully Connected Layer\n",
    "        self.fc = nn.Linear(256 * 2, self.num_classes)\n",
    "\n",
    "        #Initialize weights\n",
    "        self._initialize_weights()\n",
    "\n",
    "    def _initialize_weights(self):\n",
    "        for m in self.modules():\n",
    "            if isinstance(m, nn.Conv3d):\n",
    "                init.kaiming_normal_(m.weight, mode='fan_out', nonlinearity='relu')\n",
    "                if m.bias is not None:\n",
    "                    init.constant_(m.bias, 0)\n",
    "            elif isinstance(m, nn.BatchNorm3d):\n",
    "                init.constant_(m.weight, 1)\n",
    "                init.constant_(m.bias, 0)\n",
    "            elif isinstance(m, nn.GRU):\n",
    "                for name, param in m.named_parameters():\n",
    "                    if 'weight_ih' in name: # Input-hidden weights\n",
    "                        init.xavier_uniform_(param.data)\n",
    "                    elif 'weight_hh' in name: # Hidden-hidden weights\n",
    "                        init.orthogonal_(param.data)\n",
    "                    elif 'bias' in name: # Biases\n",
    "                        init.constant_(param.data, 0)\n",
    "            elif isinstance(m, nn.Linear):\n",
    "                 init.kaiming_normal_(m.weight, mode='fan_out', nonlinearity='relu') # He for Dense\n",
    "                 if m.bias is not None:\n",
    "                    init.constant_(m.bias, 0)\n",
    "\n",
    "    def forward(self, x):\n",
    "        x = x.permute(0, 4, 1, 2, 3).contiguous()\n",
    "\n",
    "        # STCNN blocks\n",
    "        x = self.conv1(x)\n",
    "        x = self.bn1(x)\n",
    "        x = F.relu(x)\n",
    "        x = self.pool1(x)\n",
    "        x = self.drop1(x)\n",
    "\n",
    "        x = self.conv2(x)\n",
    "        x = self.bn2(x)\n",
    "        x = F.relu(x)\n",
    "        x = self.pool2(x)\n",
    "        x = self.drop2(x)\n",
    "\n",
    "        x = self.conv3(x)\n",
    "        x = self.bn3(x)\n",
    "        x = F.relu(x)\n",
    "        x = self.pool3(x)\n",
    "        x = self.drop3(x)\n",
    "\n",
    "        N, C, T, H, W = x.size()\n",
    "        x = x.permute(0, 2, 1, 3, 4).contiguous() # (N, T, C, H, W)\n",
    "        x = x.view(N, T, -1) # Flatten C, H, W dims\n",
    "\n",
    "        # Bi-GRU layers\n",
    "        x, _ = self.gru1(x)\n",
    "        x = self.drop_gru1(x)\n",
    "        x, _ = self.gru2(x)\n",
    "        x = self.drop_gru2(x)\n",
    "\n",
    "        # Fully Connected Layer\n",
    "        x = self.fc(x) # Output shape: (N, T, num_classes)\n",
    "\n",
    "        # Prepare for CTC Loss: (T, N, C) and apply log_softmax\n",
    "        x = x.permute(1, 0, 2).contiguous() # T, N, C\n",
    "        log_probs = F.log_softmax(x, dim=2)\n",
    "\n",
    "        return log_probs"
   ]
  },
  {
   "cell_type": "code",
   "execution_count": 16,
   "id": "5d8ccaaf-2b16-44e5-b40f-1a4a1d4b3dda",
   "metadata": {},
   "outputs": [
    {
     "name": "stdout",
     "output_type": "stream",
     "text": [
      "==========================================================================================\n",
      "Layer (type:depth-idx)                   Output Shape              Param #\n",
      "==========================================================================================\n",
      "LipNet                                   [75, 32, 28]              --\n",
      "├─Conv3d: 1-1                            [32, 32, 75, 25, 50]      7,232\n",
      "├─BatchNorm3d: 1-2                       [32, 32, 75, 25, 50]      64\n",
      "├─MaxPool3d: 1-3                         [32, 32, 75, 12, 25]      --\n",
      "├─Dropout3d: 1-4                         [32, 32, 75, 12, 25]      --\n",
      "├─Conv3d: 1-5                            [32, 64, 75, 12, 25]      153,664\n",
      "├─BatchNorm3d: 1-6                       [32, 64, 75, 12, 25]      128\n",
      "├─MaxPool3d: 1-7                         [32, 64, 75, 6, 12]       --\n",
      "├─Dropout3d: 1-8                         [32, 64, 75, 6, 12]       --\n",
      "├─Conv3d: 1-9                            [32, 96, 75, 6, 12]       165,984\n",
      "├─BatchNorm3d: 1-10                      [32, 96, 75, 6, 12]       192\n",
      "├─MaxPool3d: 1-11                        [32, 96, 75, 3, 6]        --\n",
      "├─Dropout3d: 1-12                        [32, 96, 75, 3, 6]        --\n",
      "├─GRU: 1-13                              [32, 75, 512]             3,050,496\n",
      "├─Dropout: 1-14                          [32, 75, 512]             --\n",
      "├─GRU: 1-15                              [32, 75, 512]             1,182,720\n",
      "├─Dropout: 1-16                          [32, 75, 512]             --\n",
      "├─Linear: 1-17                           [32, 75, 28]              14,364\n",
      "==========================================================================================\n",
      "Total params: 4,574,844\n",
      "Trainable params: 4,574,844\n",
      "Non-trainable params: 0\n",
      "Total mult-adds (Units.GIGABYTES): 171.18\n",
      "==========================================================================================\n",
      "Input size (MB): 144.00\n",
      "Forward/backward pass size (MB): 2558.90\n",
      "Params size (MB): 18.30\n",
      "Estimated Total Size (MB): 2721.20\n",
      "==========================================================================================\n"
     ]
    }
   ],
   "source": [
    "model = LipNet(num_classes=VOCAB_SIZE + 1).to(DEVICE) # +1 for blank\n",
    "\n",
    "try:\n",
    "    from torchinfo import summary\n",
    "    print(summary(model, input_size=(BATCH_SIZE_TRAIN, FRAME_COUNT, FRAME_HEIGHT, FRAME_WIDTH, FRAME_CHANNELS)))\n",
    "except ImportError:\n",
    "    print(\"torchinfo not installed. Skipping model summary.\")\n",
    "    print(model)"
   ]
  },
  {
   "cell_type": "code",
   "execution_count": 17,
   "id": "884339bd-d7d2-4b0f-9a4f-7a1e8eaad87f",
   "metadata": {},
   "outputs": [],
   "source": [
    "# --- Loss Function ---\n",
    "ctc_loss = nn.CTCLoss(blank=CTC_BLANK_INDEX, reduction='mean', zero_infinity=True)\n",
    "\n",
    "# --- Optimizer ---\n",
    "LEARNING_RATE = 1e-4\n",
    "optimizer = optim.Adam(model.parameters(), lr=LEARNING_RATE, weight_decay = 1e-4)\n",
    "\n",
    "from torch.optim.lr_scheduler import ReduceLROnPlateau\n",
    "scheduler = ReduceLROnPlateau(optimizer, mode='min', factor=0.2, patience=5, verbose=True)"
   ]
  },
  {
   "cell_type": "code",
   "execution_count": 18,
   "id": "723e00e2-f449-4abb-b93d-a296fe8da20a",
   "metadata": {},
   "outputs": [],
   "source": [
    "# --- Checkpoint Path ---\n",
    "checkpoint_dir = 'models_pytorch'\n",
    "checkpoint_path = os.path.join(checkpoint_dir, 'lipnet_checkpoint.pth')\n",
    "os.makedirs(checkpoint_dir, exist_ok=True)"
   ]
  },
  {
   "cell_type": "code",
   "execution_count": 19,
   "id": "2c134986-8e30-41cb-a21d-11974017a273",
   "metadata": {},
   "outputs": [],
   "source": [
    "def greedy_decoder(log_probs, input_lengths):\n",
    "    decoded_sequences = []\n",
    "    for i in range(log_probs.size(1)): \n",
    "        sample_log_probs = log_probs[:input_lengths[i], i, :]\n",
    "        best_path = torch.argmax(sample_log_probs, dim=1)\n",
    "        decoded = []\n",
    "        last_char = -1\n",
    "        for char_idx in best_path:\n",
    "            idx = char_idx.item()\n",
    "            if idx != last_char and idx != CTC_BLANK_INDEX:\n",
    "                decoded.append(idx)\n",
    "            if idx != CTC_BLANK_INDEX: \n",
    "                last_char = idx\n",
    "        decoded_sequences.append(decoded)\n",
    "    return decoded_sequences\n",
    "def produce_example(model, dataset_loader, num_to_char_map):\n",
    "    model.eval() \n",
    "    with torch.no_grad():\n",
    "        try:\n",
    "            frames_batch, labels_batch, input_lengths, label_lengths = next(iter(dataset_loader))\n",
    "            frames_batch = frames_batch.to(DEVICE)\n",
    "            log_probs = model(frames_batch) \n",
    "            log_probs_cpu = log_probs.cpu()\n",
    "            raw_argmax = torch.argmax(log_probs_cpu[:, 0, :], dim=1) \n",
    "            print(f\"Raw Argmax Indices (Example 1): {raw_argmax.tolist()}\")\n",
    "            input_lengths_cpu = input_lengths.cpu()\n",
    "            decoded_indices_list = greedy_decoder(log_probs_cpu, input_lengths_cpu)\n",
    "            print(\"\\n--- Example Predictions ---\")\n",
    "            N_EXAMPLES_TO_SHOW = min(2, frames_batch.size(0))\n",
    "            for i in range(N_EXAMPLES_TO_SHOW):\n",
    "                original_indices = labels_batch[i][:label_lengths[i]].tolist()\n",
    "                original_text = \"\".join([num_to_char_map.get(idx, '?') for idx in original_indices])\n",
    "                print(f'Original:     {original_text}')\n",
    "                prediction_indices = decoded_indices_list[i]\n",
    "                print(f'Filtered Idx: {prediction_indices}') \n",
    "                prediction_text = \"\".join([num_to_char_map.get(idx, '?') for idx in prediction_indices])\n",
    "                print(f'Prediction:   {prediction_text}')\n",
    "                print('-'*50)\n",
    "            print(\"--- End Examples ---\\n\")\n",
    "        except StopIteration:\n",
    "            print(\"Warning: Could not get a batch from the dataset loader for ProduceExample.\")\n",
    "        except Exception as e:\n",
    "            print(f\"Error during ProduceExample: {e}\")\n",
    "    model.train()"
   ]
  },
  {
   "cell_type": "code",
   "execution_count": 20,
   "id": "e1edb1f6-c6be-4826-a7f8-2f2cc37043e4",
   "metadata": {},
   "outputs": [
    {
     "name": "stdout",
     "output_type": "stream",
     "text": [
      "Loading checkpoint from models_pytorch/lipnet_checkpoint.pth\n",
      "Resuming training from epoch 200, Best loss: 1.6684\n",
      "\n",
      "Starting Training...\n",
      "Training batches per epoch: 75\n",
      "Validation batches per epoch: 19\n",
      "\n",
      "Epoch 201/300\n"
     ]
    },
    {
     "name": "stderr",
     "output_type": "stream",
     "text": [
      "Epoch 201 Train: 100%|██████████| 75/75 [00:45<00:00,  1.65it/s, loss=1.77]"
     ]
    },
    {
     "name": "stdout",
     "output_type": "stream",
     "text": [
      "Epoch 201 Training Loss: 1.7676\n"
     ]
    },
    {
     "name": "stderr",
     "output_type": "stream",
     "text": [
      "\n",
      "Epoch 201 Val: 100%|██████████| 19/19 [00:04<00:00,  3.99it/s, val_loss=1.68]"
     ]
    },
    {
     "name": "stdout",
     "output_type": "stream",
     "text": [
      "Epoch 201 Validation Loss: 1.6841\n",
      "Validation loss (1.6841) did not improve from 1.6684\n",
      "\n",
      "Epoch 202/300\n"
     ]
    },
    {
     "name": "stderr",
     "output_type": "stream",
     "text": [
      "\n",
      "Epoch 202 Train: 100%|██████████| 75/75 [00:45<00:00,  1.65it/s, loss=1.77]"
     ]
    },
    {
     "name": "stdout",
     "output_type": "stream",
     "text": [
      "Epoch 202 Training Loss: 1.7685\n"
     ]
    },
    {
     "name": "stderr",
     "output_type": "stream",
     "text": [
      "\n",
      "Epoch 202 Val: 100%|██████████| 19/19 [00:04<00:00,  3.93it/s, val_loss=1.69]"
     ]
    },
    {
     "name": "stdout",
     "output_type": "stream",
     "text": [
      "Epoch 202 Validation Loss: 1.6896\n",
      "Validation loss (1.6896) did not improve from 1.6684\n",
      "\n",
      "Epoch 203/300\n"
     ]
    },
    {
     "name": "stderr",
     "output_type": "stream",
     "text": [
      "\n",
      "Epoch 203 Train: 100%|██████████| 75/75 [00:45<00:00,  1.65it/s, loss=1.76]"
     ]
    },
    {
     "name": "stdout",
     "output_type": "stream",
     "text": [
      "Epoch 203 Training Loss: 1.7643\n"
     ]
    },
    {
     "name": "stderr",
     "output_type": "stream",
     "text": [
      "\n",
      "Epoch 203 Val: 100%|██████████| 19/19 [00:04<00:00,  3.94it/s, val_loss=1.67]"
     ]
    },
    {
     "name": "stdout",
     "output_type": "stream",
     "text": [
      "Epoch 203 Validation Loss: 1.6727\n",
      "Validation loss (1.6727) did not improve from 1.6684\n",
      "\n",
      "Epoch 204/300\n"
     ]
    },
    {
     "name": "stderr",
     "output_type": "stream",
     "text": [
      "\n",
      "Epoch 204 Train: 100%|██████████| 75/75 [00:45<00:00,  1.65it/s, loss=1.76]"
     ]
    },
    {
     "name": "stdout",
     "output_type": "stream",
     "text": [
      "Epoch 204 Training Loss: 1.7617\n"
     ]
    },
    {
     "name": "stderr",
     "output_type": "stream",
     "text": [
      "\n",
      "Epoch 204 Val: 100%|██████████| 19/19 [00:04<00:00,  4.00it/s, val_loss=1.68]"
     ]
    },
    {
     "name": "stdout",
     "output_type": "stream",
     "text": [
      "Epoch 204 Validation Loss: 1.6799\n",
      "Validation loss (1.6799) did not improve from 1.6684\n",
      "\n",
      "Epoch 205/300\n"
     ]
    },
    {
     "name": "stderr",
     "output_type": "stream",
     "text": [
      "\n",
      "Epoch 205 Train: 100%|██████████| 75/75 [00:45<00:00,  1.64it/s, loss=1.76]"
     ]
    },
    {
     "name": "stdout",
     "output_type": "stream",
     "text": [
      "Epoch 205 Training Loss: 1.7607\n"
     ]
    },
    {
     "name": "stderr",
     "output_type": "stream",
     "text": [
      "\n",
      "Epoch 205 Val: 100%|██████████| 19/19 [00:04<00:00,  3.89it/s, val_loss=1.67]"
     ]
    },
    {
     "name": "stdout",
     "output_type": "stream",
     "text": [
      "Epoch 205 Validation Loss: 1.6739\n",
      "Validation loss (1.6739) did not improve from 1.6684\n"
     ]
    },
    {
     "name": "stderr",
     "output_type": "stream",
     "text": [
      "\n"
     ]
    },
    {
     "name": "stdout",
     "output_type": "stream",
     "text": [
      "Raw Argmax Indices (Example 1): [19, 0, 1, 20, 27, 27, 23, 18, 0, 0, 0, 0, 0, 0, 0, 0, 0, 0, 5, 0, 0, 0, 0, 0, 0, 0, 0, 0, 0, 0, 0, 0, 0, 0, 0, 0, 0, 0, 0, 0, 0, 0, 0, 0, 0, 0, 0, 0, 0, 0, 0, 9, 20, 27, 27, 27, 27, 27, 27, 27, 27, 27, 9, 9, 5, 0, 0, 27, 27, 0, 0, 0, 1, 15, 14]\n",
      "\n",
      "--- Example Predictions ---\n",
      "Original:     set blue with f four now\n",
      "Filtered Idx: [19, 1, 20, 27, 23, 18, 5, 9, 20, 27, 9, 5, 27, 1, 15, 14]\n",
      "Prediction:   sat wreit ie aon\n",
      "--------------------------------------------------\n",
      "Original:     set white in m one again\n",
      "Filtered Idx: [19, 1, 25, 27, 23, 18, 9, 20, 27, 9, 5, 27, 15, 14]\n",
      "Prediction:   say writ ie on\n",
      "--------------------------------------------------\n",
      "--- End Examples ---\n",
      "\n",
      "\n",
      "Epoch 206/300\n"
     ]
    },
    {
     "name": "stderr",
     "output_type": "stream",
     "text": [
      "Epoch 206 Train: 100%|██████████| 75/75 [00:45<00:00,  1.65it/s, loss=1.76]"
     ]
    },
    {
     "name": "stdout",
     "output_type": "stream",
     "text": [
      "Epoch 206 Training Loss: 1.7613\n"
     ]
    },
    {
     "name": "stderr",
     "output_type": "stream",
     "text": [
      "\n",
      "Epoch 206 Val: 100%|██████████| 19/19 [00:04<00:00,  4.07it/s, val_loss=1.67]"
     ]
    },
    {
     "name": "stdout",
     "output_type": "stream",
     "text": [
      "Epoch 206 Validation Loss: 1.6747\n",
      "Validation loss (1.6747) did not improve from 1.6684\n",
      "\n",
      "Epoch 207/300\n"
     ]
    },
    {
     "name": "stderr",
     "output_type": "stream",
     "text": [
      "\n",
      "Epoch 207 Train: 100%|██████████| 75/75 [00:45<00:00,  1.65it/s, loss=1.75]"
     ]
    },
    {
     "name": "stdout",
     "output_type": "stream",
     "text": [
      "Epoch 207 Training Loss: 1.7543\n"
     ]
    },
    {
     "name": "stderr",
     "output_type": "stream",
     "text": [
      "\n",
      "Epoch 207 Val: 100%|██████████| 19/19 [00:04<00:00,  4.07it/s, val_loss=1.66]\n"
     ]
    },
    {
     "name": "stdout",
     "output_type": "stream",
     "text": [
      "Epoch 207 Validation Loss: 1.6604\n",
      "Validation loss improved from 1.6684 to 1.6604, saving model to models_pytorch/lipnet_checkpoint.pth\n",
      "\n",
      "Epoch 208/300\n"
     ]
    },
    {
     "name": "stderr",
     "output_type": "stream",
     "text": [
      "Epoch 208 Train: 100%|██████████| 75/75 [00:45<00:00,  1.64it/s, loss=1.76]"
     ]
    },
    {
     "name": "stdout",
     "output_type": "stream",
     "text": [
      "Epoch 208 Training Loss: 1.7570\n"
     ]
    },
    {
     "name": "stderr",
     "output_type": "stream",
     "text": [
      "\n",
      "Epoch 208 Val: 100%|██████████| 19/19 [00:04<00:00,  4.05it/s, val_loss=1.66]"
     ]
    },
    {
     "name": "stdout",
     "output_type": "stream",
     "text": [
      "Epoch 208 Validation Loss: 1.6633\n",
      "Validation loss (1.6633) did not improve from 1.6604\n",
      "\n",
      "Epoch 209/300\n"
     ]
    },
    {
     "name": "stderr",
     "output_type": "stream",
     "text": [
      "\n",
      "Epoch 209 Train: 100%|██████████| 75/75 [00:45<00:00,  1.65it/s, loss=1.76]"
     ]
    },
    {
     "name": "stdout",
     "output_type": "stream",
     "text": [
      "Epoch 209 Training Loss: 1.7556\n"
     ]
    },
    {
     "name": "stderr",
     "output_type": "stream",
     "text": [
      "\n",
      "Epoch 209 Val: 100%|██████████| 19/19 [00:04<00:00,  4.04it/s, val_loss=1.67]"
     ]
    },
    {
     "name": "stdout",
     "output_type": "stream",
     "text": [
      "Epoch 209 Validation Loss: 1.6673\n",
      "Validation loss (1.6673) did not improve from 1.6604\n",
      "\n",
      "Epoch 210/300\n"
     ]
    },
    {
     "name": "stderr",
     "output_type": "stream",
     "text": [
      "\n",
      "Epoch 210 Train: 100%|██████████| 75/75 [00:45<00:00,  1.65it/s, loss=1.76]"
     ]
    },
    {
     "name": "stdout",
     "output_type": "stream",
     "text": [
      "Epoch 210 Training Loss: 1.7552\n"
     ]
    },
    {
     "name": "stderr",
     "output_type": "stream",
     "text": [
      "\n",
      "Epoch 210 Val: 100%|██████████| 19/19 [00:04<00:00,  4.04it/s, val_loss=1.63]\n"
     ]
    },
    {
     "name": "stdout",
     "output_type": "stream",
     "text": [
      "Epoch 210 Validation Loss: 1.6341\n",
      "Validation loss improved from 1.6604 to 1.6341, saving model to models_pytorch/lipnet_checkpoint.pth\n",
      "Raw Argmax Indices (Example 1): [19, 0, 1, 25, 27, 27, 23, 18, 0, 0, 0, 0, 0, 0, 0, 0, 0, 5, 5, 0, 0, 0, 0, 0, 0, 0, 0, 0, 0, 0, 0, 0, 0, 0, 0, 0, 0, 0, 0, 0, 0, 0, 0, 0, 0, 0, 0, 0, 0, 0, 0, 9, 20, 27, 27, 27, 27, 27, 27, 27, 27, 27, 9, 9, 5, 0, 0, 27, 27, 0, 0, 0, 0, 15, 14]\n",
      "\n",
      "--- Example Predictions ---\n",
      "Original:     set blue with f four now\n",
      "Filtered Idx: [19, 1, 25, 27, 23, 18, 5, 9, 20, 27, 9, 5, 27, 15, 14]\n",
      "Prediction:   say wreit ie on\n",
      "--------------------------------------------------\n",
      "Original:     set white in m one again\n",
      "Filtered Idx: [19, 1, 25, 27, 23, 18, 5, 9, 20, 27, 9, 5, 27, 1, 15, 14]\n",
      "Prediction:   say wreit ie aon\n",
      "--------------------------------------------------\n",
      "--- End Examples ---\n",
      "\n",
      "\n",
      "Epoch 211/300\n"
     ]
    },
    {
     "name": "stderr",
     "output_type": "stream",
     "text": [
      "Epoch 211 Train: 100%|██████████| 75/75 [00:45<00:00,  1.65it/s, loss=1.75]"
     ]
    },
    {
     "name": "stdout",
     "output_type": "stream",
     "text": [
      "Epoch 211 Training Loss: 1.7481\n"
     ]
    },
    {
     "name": "stderr",
     "output_type": "stream",
     "text": [
      "\n",
      "Epoch 211 Val: 100%|██████████| 19/19 [00:04<00:00,  3.98it/s, val_loss=1.67]"
     ]
    },
    {
     "name": "stdout",
     "output_type": "stream",
     "text": [
      "Epoch 211 Validation Loss: 1.6747\n",
      "Validation loss (1.6747) did not improve from 1.6341\n",
      "\n",
      "Epoch 212/300\n"
     ]
    },
    {
     "name": "stderr",
     "output_type": "stream",
     "text": [
      "\n",
      "Epoch 212 Train: 100%|██████████| 75/75 [00:45<00:00,  1.65it/s, loss=1.75]"
     ]
    },
    {
     "name": "stdout",
     "output_type": "stream",
     "text": [
      "Epoch 212 Training Loss: 1.7473\n"
     ]
    },
    {
     "name": "stderr",
     "output_type": "stream",
     "text": [
      "\n",
      "Epoch 212 Val: 100%|██████████| 19/19 [00:04<00:00,  3.85it/s, val_loss=1.65]"
     ]
    },
    {
     "name": "stdout",
     "output_type": "stream",
     "text": [
      "Epoch 212 Validation Loss: 1.6511\n",
      "Validation loss (1.6511) did not improve from 1.6341\n",
      "\n",
      "Epoch 213/300\n"
     ]
    },
    {
     "name": "stderr",
     "output_type": "stream",
     "text": [
      "\n",
      "Epoch 213 Train: 100%|██████████| 75/75 [00:45<00:00,  1.65it/s, loss=1.75]"
     ]
    },
    {
     "name": "stdout",
     "output_type": "stream",
     "text": [
      "Epoch 213 Training Loss: 1.7451\n"
     ]
    },
    {
     "name": "stderr",
     "output_type": "stream",
     "text": [
      "\n",
      "Epoch 213 Val: 100%|██████████| 19/19 [00:05<00:00,  3.78it/s, val_loss=1.64]"
     ]
    },
    {
     "name": "stdout",
     "output_type": "stream",
     "text": [
      "Epoch 213 Validation Loss: 1.6431\n",
      "Validation loss (1.6431) did not improve from 1.6341\n",
      "\n",
      "Epoch 214/300\n"
     ]
    },
    {
     "name": "stderr",
     "output_type": "stream",
     "text": [
      "\n",
      "Epoch 214 Train: 100%|██████████| 75/75 [00:45<00:00,  1.65it/s, loss=1.75]"
     ]
    },
    {
     "name": "stdout",
     "output_type": "stream",
     "text": [
      "Epoch 214 Training Loss: 1.7461\n"
     ]
    },
    {
     "name": "stderr",
     "output_type": "stream",
     "text": [
      "\n",
      "Epoch 214 Val: 100%|██████████| 19/19 [00:04<00:00,  3.96it/s, val_loss=1.64]"
     ]
    },
    {
     "name": "stdout",
     "output_type": "stream",
     "text": [
      "Epoch 214 Validation Loss: 1.6366\n",
      "Validation loss (1.6366) did not improve from 1.6341\n",
      "\n",
      "Epoch 215/300\n"
     ]
    },
    {
     "name": "stderr",
     "output_type": "stream",
     "text": [
      "\n",
      "Epoch 215 Train: 100%|██████████| 75/75 [00:45<00:00,  1.65it/s, loss=1.74]"
     ]
    },
    {
     "name": "stdout",
     "output_type": "stream",
     "text": [
      "Epoch 215 Training Loss: 1.7429\n"
     ]
    },
    {
     "name": "stderr",
     "output_type": "stream",
     "text": [
      "\n",
      "Epoch 215 Val: 100%|██████████| 19/19 [00:04<00:00,  3.95it/s, val_loss=1.65]"
     ]
    },
    {
     "name": "stdout",
     "output_type": "stream",
     "text": [
      "Epoch 215 Validation Loss: 1.6544\n",
      "Validation loss (1.6544) did not improve from 1.6341\n"
     ]
    },
    {
     "name": "stderr",
     "output_type": "stream",
     "text": [
      "\n"
     ]
    },
    {
     "name": "stdout",
     "output_type": "stream",
     "text": [
      "Raw Argmax Indices (Example 1): [19, 0, 1, 20, 27, 27, 23, 18, 0, 0, 0, 0, 0, 0, 0, 0, 0, 5, 5, 0, 0, 0, 0, 0, 0, 0, 0, 0, 0, 0, 0, 0, 0, 0, 0, 0, 0, 0, 0, 0, 0, 0, 0, 0, 0, 0, 0, 0, 0, 0, 0, 9, 20, 27, 27, 27, 27, 27, 27, 27, 27, 27, 9, 9, 5, 0, 0, 27, 27, 27, 0, 14, 1, 15, 14]\n",
      "\n",
      "--- Example Predictions ---\n",
      "Original:     set blue with f four now\n",
      "Filtered Idx: [19, 1, 20, 27, 23, 18, 5, 9, 20, 27, 9, 5, 27, 14, 1, 15, 14]\n",
      "Prediction:   sat wreit ie naon\n",
      "--------------------------------------------------\n",
      "Original:     set white in m one again\n",
      "Filtered Idx: [19, 1, 20, 27, 23, 18, 9, 20, 27, 9, 5, 27, 15, 1, 15, 14]\n",
      "Prediction:   sat writ ie oaon\n",
      "--------------------------------------------------\n",
      "--- End Examples ---\n",
      "\n",
      "\n",
      "Epoch 216/300\n"
     ]
    },
    {
     "name": "stderr",
     "output_type": "stream",
     "text": [
      "Epoch 216 Train: 100%|██████████| 75/75 [00:45<00:00,  1.64it/s, loss=1.74]"
     ]
    },
    {
     "name": "stdout",
     "output_type": "stream",
     "text": [
      "Epoch 216 Training Loss: 1.7414\n"
     ]
    },
    {
     "name": "stderr",
     "output_type": "stream",
     "text": [
      "\n",
      "Epoch 216 Val: 100%|██████████| 19/19 [00:04<00:00,  3.87it/s, val_loss=1.65]"
     ]
    },
    {
     "name": "stdout",
     "output_type": "stream",
     "text": [
      "Epoch 216 Validation Loss: 1.6454\n",
      "Validation loss (1.6454) did not improve from 1.6341\n",
      "\n",
      "Epoch 217/300\n"
     ]
    },
    {
     "name": "stderr",
     "output_type": "stream",
     "text": [
      "\n",
      "Epoch 217 Train: 100%|██████████| 75/75 [00:45<00:00,  1.65it/s, loss=1.74]"
     ]
    },
    {
     "name": "stdout",
     "output_type": "stream",
     "text": [
      "Epoch 217 Training Loss: 1.7384\n"
     ]
    },
    {
     "name": "stderr",
     "output_type": "stream",
     "text": [
      "\n",
      "Epoch 217 Val: 100%|██████████| 19/19 [00:05<00:00,  3.77it/s, val_loss=1.64]"
     ]
    },
    {
     "name": "stdout",
     "output_type": "stream",
     "text": [
      "Epoch 217 Validation Loss: 1.6362\n",
      "Validation loss (1.6362) did not improve from 1.6341\n",
      "\n",
      "Epoch 218/300\n"
     ]
    },
    {
     "name": "stderr",
     "output_type": "stream",
     "text": [
      "\n",
      "Epoch 218 Train: 100%|██████████| 75/75 [00:45<00:00,  1.65it/s, loss=1.74]"
     ]
    },
    {
     "name": "stdout",
     "output_type": "stream",
     "text": [
      "Epoch 218 Training Loss: 1.7382\n"
     ]
    },
    {
     "name": "stderr",
     "output_type": "stream",
     "text": [
      "\n",
      "Epoch 218 Val: 100%|██████████| 19/19 [00:04<00:00,  3.83it/s, val_loss=1.64]"
     ]
    },
    {
     "name": "stdout",
     "output_type": "stream",
     "text": [
      "Epoch 218 Validation Loss: 1.6358\n",
      "Validation loss (1.6358) did not improve from 1.6341\n",
      "\n",
      "Epoch 219/300\n"
     ]
    },
    {
     "name": "stderr",
     "output_type": "stream",
     "text": [
      "\n",
      "Epoch 219 Train: 100%|██████████| 75/75 [00:45<00:00,  1.64it/s, loss=1.74]"
     ]
    },
    {
     "name": "stdout",
     "output_type": "stream",
     "text": [
      "Epoch 219 Training Loss: 1.7372\n"
     ]
    },
    {
     "name": "stderr",
     "output_type": "stream",
     "text": [
      "\n",
      "Epoch 219 Val: 100%|██████████| 19/19 [00:04<00:00,  3.90it/s, val_loss=1.63]\n"
     ]
    },
    {
     "name": "stdout",
     "output_type": "stream",
     "text": [
      "Epoch 219 Validation Loss: 1.6317\n",
      "Validation loss improved from 1.6341 to 1.6317, saving model to models_pytorch/lipnet_checkpoint.pth\n",
      "\n",
      "Epoch 220/300\n"
     ]
    },
    {
     "name": "stderr",
     "output_type": "stream",
     "text": [
      "Epoch 220 Train: 100%|██████████| 75/75 [00:45<00:00,  1.65it/s, loss=1.74]"
     ]
    },
    {
     "name": "stdout",
     "output_type": "stream",
     "text": [
      "Epoch 220 Training Loss: 1.7361\n"
     ]
    },
    {
     "name": "stderr",
     "output_type": "stream",
     "text": [
      "\n",
      "Epoch 220 Val: 100%|██████████| 19/19 [00:04<00:00,  4.05it/s, val_loss=1.63]\n"
     ]
    },
    {
     "name": "stdout",
     "output_type": "stream",
     "text": [
      "Epoch 220 Validation Loss: 1.6267\n",
      "Validation loss improved from 1.6317 to 1.6267, saving model to models_pytorch/lipnet_checkpoint.pth\n",
      "Raw Argmax Indices (Example 1): [19, 0, 1, 20, 27, 27, 23, 18, 0, 0, 0, 0, 0, 0, 0, 0, 0, 0, 5, 0, 0, 0, 0, 0, 0, 0, 0, 0, 0, 0, 0, 0, 0, 0, 0, 0, 0, 0, 0, 0, 0, 0, 0, 0, 0, 0, 0, 0, 0, 0, 0, 9, 20, 27, 27, 27, 27, 27, 27, 27, 27, 27, 19, 9, 5, 0, 0, 27, 27, 27, 0, 14, 1, 15, 14]\n",
      "\n",
      "--- Example Predictions ---\n",
      "Original:     set blue with f four now\n",
      "Filtered Idx: [19, 1, 20, 27, 23, 18, 5, 9, 20, 27, 19, 9, 5, 27, 14, 1, 15, 14]\n",
      "Prediction:   sat wreit sie naon\n",
      "--------------------------------------------------\n",
      "Original:     set white in m one again\n",
      "Filtered Idx: [19, 1, 25, 27, 23, 18, 5, 9, 20, 27, 9, 5, 27, 15, 1, 15, 14]\n",
      "Prediction:   say wreit ie oaon\n",
      "--------------------------------------------------\n",
      "--- End Examples ---\n",
      "\n",
      "\n",
      "Epoch 221/300\n"
     ]
    },
    {
     "name": "stderr",
     "output_type": "stream",
     "text": [
      "Epoch 221 Train: 100%|██████████| 75/75 [00:45<00:00,  1.65it/s, loss=1.74]"
     ]
    },
    {
     "name": "stdout",
     "output_type": "stream",
     "text": [
      "Epoch 221 Training Loss: 1.7352\n"
     ]
    },
    {
     "name": "stderr",
     "output_type": "stream",
     "text": [
      "\n",
      "Epoch 221 Val: 100%|██████████| 19/19 [00:04<00:00,  3.84it/s, val_loss=1.63]\n"
     ]
    },
    {
     "name": "stdout",
     "output_type": "stream",
     "text": [
      "Epoch 221 Validation Loss: 1.6260\n",
      "Validation loss improved from 1.6267 to 1.6260, saving model to models_pytorch/lipnet_checkpoint.pth\n",
      "\n",
      "Epoch 222/300\n"
     ]
    },
    {
     "name": "stderr",
     "output_type": "stream",
     "text": [
      "Epoch 222 Train: 100%|██████████| 75/75 [00:45<00:00,  1.64it/s, loss=1.73]"
     ]
    },
    {
     "name": "stdout",
     "output_type": "stream",
     "text": [
      "Epoch 222 Training Loss: 1.7327\n"
     ]
    },
    {
     "name": "stderr",
     "output_type": "stream",
     "text": [
      "\n",
      "Epoch 222 Val: 100%|██████████| 19/19 [00:04<00:00,  4.05it/s, val_loss=1.63]\n"
     ]
    },
    {
     "name": "stdout",
     "output_type": "stream",
     "text": [
      "Epoch 222 Validation Loss: 1.6260\n",
      "Validation loss improved from 1.6260 to 1.6260, saving model to models_pytorch/lipnet_checkpoint.pth\n",
      "\n",
      "Epoch 223/300\n"
     ]
    },
    {
     "name": "stderr",
     "output_type": "stream",
     "text": [
      "Epoch 223 Train: 100%|██████████| 75/75 [00:45<00:00,  1.65it/s, loss=1.73]"
     ]
    },
    {
     "name": "stdout",
     "output_type": "stream",
     "text": [
      "Epoch 223 Training Loss: 1.7311\n"
     ]
    },
    {
     "name": "stderr",
     "output_type": "stream",
     "text": [
      "\n",
      "Epoch 223 Val: 100%|██████████| 19/19 [00:04<00:00,  3.85it/s, val_loss=1.63]"
     ]
    },
    {
     "name": "stdout",
     "output_type": "stream",
     "text": [
      "Epoch 223 Validation Loss: 1.6267\n",
      "Validation loss (1.6267) did not improve from 1.6260\n",
      "\n",
      "Epoch 224/300\n"
     ]
    },
    {
     "name": "stderr",
     "output_type": "stream",
     "text": [
      "\n",
      "Epoch 224 Train: 100%|██████████| 75/75 [00:45<00:00,  1.65it/s, loss=1.73]"
     ]
    },
    {
     "name": "stdout",
     "output_type": "stream",
     "text": [
      "Epoch 224 Training Loss: 1.7342\n"
     ]
    },
    {
     "name": "stderr",
     "output_type": "stream",
     "text": [
      "\n",
      "Epoch 224 Val: 100%|██████████| 19/19 [00:04<00:00,  3.99it/s, val_loss=1.63]"
     ]
    },
    {
     "name": "stdout",
     "output_type": "stream",
     "text": [
      "Epoch 224 Validation Loss: 1.6287\n",
      "Validation loss (1.6287) did not improve from 1.6260\n",
      "\n",
      "Epoch 225/300\n"
     ]
    },
    {
     "name": "stderr",
     "output_type": "stream",
     "text": [
      "\n",
      "Epoch 225 Train: 100%|██████████| 75/75 [00:45<00:00,  1.65it/s, loss=1.73]"
     ]
    },
    {
     "name": "stdout",
     "output_type": "stream",
     "text": [
      "Epoch 225 Training Loss: 1.7348\n"
     ]
    },
    {
     "name": "stderr",
     "output_type": "stream",
     "text": [
      "\n",
      "Epoch 225 Val: 100%|██████████| 19/19 [00:04<00:00,  3.85it/s, val_loss=1.63]"
     ]
    },
    {
     "name": "stdout",
     "output_type": "stream",
     "text": [
      "Epoch 225 Validation Loss: 1.6262\n",
      "Validation loss (1.6262) did not improve from 1.6260\n"
     ]
    },
    {
     "name": "stderr",
     "output_type": "stream",
     "text": [
      "\n"
     ]
    },
    {
     "name": "stdout",
     "output_type": "stream",
     "text": [
      "Raw Argmax Indices (Example 1): [19, 0, 1, 20, 27, 27, 7, 18, 0, 0, 0, 0, 0, 0, 0, 0, 0, 0, 5, 0, 0, 0, 0, 0, 0, 0, 0, 0, 0, 0, 0, 0, 0, 0, 0, 0, 0, 0, 0, 0, 0, 0, 0, 0, 0, 0, 0, 0, 0, 0, 0, 9, 20, 27, 27, 27, 27, 27, 27, 27, 27, 27, 9, 9, 5, 0, 0, 27, 27, 27, 0, 14, 1, 15, 14]\n",
      "\n",
      "--- Example Predictions ---\n",
      "Original:     set blue with f four now\n",
      "Filtered Idx: [19, 1, 20, 27, 7, 18, 5, 9, 20, 27, 9, 5, 27, 14, 1, 15, 14]\n",
      "Prediction:   sat greit ie naon\n",
      "--------------------------------------------------\n",
      "Original:     set white in m one again\n",
      "Filtered Idx: [19, 1, 25, 27, 23, 18, 5, 9, 20, 27, 9, 5, 27, 15, 1, 15, 14]\n",
      "Prediction:   say wreit ie oaon\n",
      "--------------------------------------------------\n",
      "--- End Examples ---\n",
      "\n",
      "\n",
      "Epoch 226/300\n"
     ]
    },
    {
     "name": "stderr",
     "output_type": "stream",
     "text": [
      "Epoch 226 Train: 100%|██████████| 75/75 [00:45<00:00,  1.65it/s, loss=1.73]"
     ]
    },
    {
     "name": "stdout",
     "output_type": "stream",
     "text": [
      "Epoch 226 Training Loss: 1.7339\n"
     ]
    },
    {
     "name": "stderr",
     "output_type": "stream",
     "text": [
      "\n",
      "Epoch 226 Val: 100%|██████████| 19/19 [00:04<00:00,  3.91it/s, val_loss=1.63]\n"
     ]
    },
    {
     "name": "stdout",
     "output_type": "stream",
     "text": [
      "Epoch 226 Validation Loss: 1.6252\n",
      "Validation loss improved from 1.6260 to 1.6252, saving model to models_pytorch/lipnet_checkpoint.pth\n",
      "\n",
      "Epoch 227/300\n"
     ]
    },
    {
     "name": "stderr",
     "output_type": "stream",
     "text": [
      "Epoch 227 Train: 100%|██████████| 75/75 [00:45<00:00,  1.65it/s, loss=1.73]"
     ]
    },
    {
     "name": "stdout",
     "output_type": "stream",
     "text": [
      "Epoch 227 Training Loss: 1.7346\n"
     ]
    },
    {
     "name": "stderr",
     "output_type": "stream",
     "text": [
      "\n",
      "Epoch 227 Val: 100%|██████████| 19/19 [00:04<00:00,  3.99it/s, val_loss=1.62]\n"
     ]
    },
    {
     "name": "stdout",
     "output_type": "stream",
     "text": [
      "Epoch 227 Validation Loss: 1.6246\n",
      "Validation loss improved from 1.6252 to 1.6246, saving model to models_pytorch/lipnet_checkpoint.pth\n",
      "\n",
      "Epoch 228/300\n"
     ]
    },
    {
     "name": "stderr",
     "output_type": "stream",
     "text": [
      "Epoch 228 Train: 100%|██████████| 75/75 [00:45<00:00,  1.65it/s, loss=1.73]"
     ]
    },
    {
     "name": "stdout",
     "output_type": "stream",
     "text": [
      "Epoch 228 Training Loss: 1.7310\n"
     ]
    },
    {
     "name": "stderr",
     "output_type": "stream",
     "text": [
      "\n",
      "Epoch 228 Val: 100%|██████████| 19/19 [00:04<00:00,  3.91it/s, val_loss=1.63]"
     ]
    },
    {
     "name": "stdout",
     "output_type": "stream",
     "text": [
      "Epoch 228 Validation Loss: 1.6278\n",
      "Validation loss (1.6278) did not improve from 1.6246\n",
      "\n",
      "Epoch 229/300\n"
     ]
    },
    {
     "name": "stderr",
     "output_type": "stream",
     "text": [
      "\n",
      "Epoch 229 Train: 100%|██████████| 75/75 [00:45<00:00,  1.65it/s, loss=1.73]"
     ]
    },
    {
     "name": "stdout",
     "output_type": "stream",
     "text": [
      "Epoch 229 Training Loss: 1.7292\n"
     ]
    },
    {
     "name": "stderr",
     "output_type": "stream",
     "text": [
      "\n",
      "Epoch 229 Val: 100%|██████████| 19/19 [00:04<00:00,  4.04it/s, val_loss=1.62]\n"
     ]
    },
    {
     "name": "stdout",
     "output_type": "stream",
     "text": [
      "Epoch 229 Validation Loss: 1.6218\n",
      "Validation loss improved from 1.6246 to 1.6218, saving model to models_pytorch/lipnet_checkpoint.pth\n",
      "\n",
      "Epoch 230/300\n"
     ]
    },
    {
     "name": "stderr",
     "output_type": "stream",
     "text": [
      "Epoch 230 Train: 100%|██████████| 75/75 [00:45<00:00,  1.64it/s, loss=1.73]"
     ]
    },
    {
     "name": "stdout",
     "output_type": "stream",
     "text": [
      "Epoch 230 Training Loss: 1.7308\n"
     ]
    },
    {
     "name": "stderr",
     "output_type": "stream",
     "text": [
      "\n",
      "Epoch 230 Val: 100%|██████████| 19/19 [00:04<00:00,  4.00it/s, val_loss=1.62]\n"
     ]
    },
    {
     "name": "stdout",
     "output_type": "stream",
     "text": [
      "Epoch 230 Validation Loss: 1.6211\n",
      "Validation loss improved from 1.6218 to 1.6211, saving model to models_pytorch/lipnet_checkpoint.pth\n",
      "Raw Argmax Indices (Example 1): [19, 0, 1, 20, 27, 27, 7, 18, 0, 0, 0, 0, 0, 0, 0, 0, 0, 0, 5, 0, 0, 0, 0, 0, 0, 0, 0, 0, 0, 0, 0, 0, 0, 0, 0, 0, 0, 0, 0, 0, 0, 0, 0, 0, 0, 0, 0, 0, 0, 0, 0, 9, 20, 27, 27, 27, 27, 27, 27, 27, 27, 27, 9, 9, 5, 0, 0, 27, 27, 27, 0, 14, 1, 15, 14]\n",
      "\n",
      "--- Example Predictions ---\n",
      "Original:     set blue with f four now\n",
      "Filtered Idx: [19, 1, 20, 27, 7, 18, 5, 9, 20, 27, 9, 5, 27, 14, 1, 15, 14]\n",
      "Prediction:   sat greit ie naon\n",
      "--------------------------------------------------\n",
      "Original:     set white in m one again\n",
      "Filtered Idx: [19, 1, 25, 27, 23, 18, 5, 20, 27, 9, 5, 27, 15, 1, 15, 14]\n",
      "Prediction:   say wret ie oaon\n",
      "--------------------------------------------------\n",
      "--- End Examples ---\n",
      "\n",
      "\n",
      "Epoch 231/300\n"
     ]
    },
    {
     "name": "stderr",
     "output_type": "stream",
     "text": [
      "Epoch 231 Train: 100%|██████████| 75/75 [00:45<00:00,  1.65it/s, loss=1.73]"
     ]
    },
    {
     "name": "stdout",
     "output_type": "stream",
     "text": [
      "Epoch 231 Training Loss: 1.7307\n"
     ]
    },
    {
     "name": "stderr",
     "output_type": "stream",
     "text": [
      "\n",
      "Epoch 231 Val: 100%|██████████| 19/19 [00:04<00:00,  4.06it/s, val_loss=1.62]"
     ]
    },
    {
     "name": "stdout",
     "output_type": "stream",
     "text": [
      "Epoch 231 Validation Loss: 1.6214\n",
      "Validation loss (1.6214) did not improve from 1.6211\n",
      "\n",
      "Epoch 232/300\n"
     ]
    },
    {
     "name": "stderr",
     "output_type": "stream",
     "text": [
      "\n",
      "Epoch 232 Train: 100%|██████████| 75/75 [00:45<00:00,  1.65it/s, loss=1.73]"
     ]
    },
    {
     "name": "stdout",
     "output_type": "stream",
     "text": [
      "Epoch 232 Training Loss: 1.7314\n"
     ]
    },
    {
     "name": "stderr",
     "output_type": "stream",
     "text": [
      "\n",
      "Epoch 232 Val: 100%|██████████| 19/19 [00:04<00:00,  3.94it/s, val_loss=1.62]\n"
     ]
    },
    {
     "name": "stdout",
     "output_type": "stream",
     "text": [
      "Epoch 232 Validation Loss: 1.6198\n",
      "Validation loss improved from 1.6211 to 1.6198, saving model to models_pytorch/lipnet_checkpoint.pth\n",
      "\n",
      "Epoch 233/300\n"
     ]
    },
    {
     "name": "stderr",
     "output_type": "stream",
     "text": [
      "Epoch 233 Train: 100%|██████████| 75/75 [00:45<00:00,  1.64it/s, loss=1.73]"
     ]
    },
    {
     "name": "stdout",
     "output_type": "stream",
     "text": [
      "Epoch 233 Training Loss: 1.7260\n"
     ]
    },
    {
     "name": "stderr",
     "output_type": "stream",
     "text": [
      "\n",
      "Epoch 233 Val: 100%|██████████| 19/19 [00:04<00:00,  4.05it/s, val_loss=1.63]"
     ]
    },
    {
     "name": "stdout",
     "output_type": "stream",
     "text": [
      "Epoch 233 Validation Loss: 1.6277\n",
      "Validation loss (1.6277) did not improve from 1.6198\n",
      "\n",
      "Epoch 234/300\n"
     ]
    },
    {
     "name": "stderr",
     "output_type": "stream",
     "text": [
      "\n",
      "Epoch 234 Train: 100%|██████████| 75/75 [00:45<00:00,  1.65it/s, loss=1.73]"
     ]
    },
    {
     "name": "stdout",
     "output_type": "stream",
     "text": [
      "Epoch 234 Training Loss: 1.7306\n"
     ]
    },
    {
     "name": "stderr",
     "output_type": "stream",
     "text": [
      "\n",
      "Epoch 234 Val: 100%|██████████| 19/19 [00:04<00:00,  3.85it/s, val_loss=1.63]"
     ]
    },
    {
     "name": "stdout",
     "output_type": "stream",
     "text": [
      "Epoch 234 Validation Loss: 1.6276\n",
      "Validation loss (1.6276) did not improve from 1.6198\n",
      "\n",
      "Epoch 235/300\n"
     ]
    },
    {
     "name": "stderr",
     "output_type": "stream",
     "text": [
      "\n",
      "Epoch 235 Train: 100%|██████████| 75/75 [00:45<00:00,  1.65it/s, loss=1.73]"
     ]
    },
    {
     "name": "stdout",
     "output_type": "stream",
     "text": [
      "Epoch 235 Training Loss: 1.7322\n"
     ]
    },
    {
     "name": "stderr",
     "output_type": "stream",
     "text": [
      "\n",
      "Epoch 235 Val: 100%|██████████| 19/19 [00:04<00:00,  3.84it/s, val_loss=1.62]"
     ]
    },
    {
     "name": "stdout",
     "output_type": "stream",
     "text": [
      "Epoch 235 Validation Loss: 1.6206\n",
      "Validation loss (1.6206) did not improve from 1.6198\n"
     ]
    },
    {
     "name": "stderr",
     "output_type": "stream",
     "text": [
      "\n"
     ]
    },
    {
     "name": "stdout",
     "output_type": "stream",
     "text": [
      "Raw Argmax Indices (Example 1): [19, 0, 1, 20, 27, 27, 7, 18, 0, 0, 0, 0, 0, 0, 0, 0, 0, 0, 5, 0, 0, 0, 0, 0, 0, 0, 0, 0, 0, 0, 0, 0, 0, 0, 0, 0, 0, 0, 0, 0, 0, 0, 0, 0, 0, 0, 0, 0, 0, 0, 0, 9, 20, 27, 27, 27, 27, 27, 27, 27, 27, 27, 19, 9, 5, 0, 0, 27, 27, 27, 0, 14, 1, 15, 14]\n",
      "\n",
      "--- Example Predictions ---\n",
      "Original:     set blue with f four now\n",
      "Filtered Idx: [19, 1, 20, 27, 7, 18, 5, 9, 20, 27, 19, 9, 5, 27, 14, 1, 15, 14]\n",
      "Prediction:   sat greit sie naon\n",
      "--------------------------------------------------\n",
      "Original:     set white in m one again\n",
      "Filtered Idx: [19, 1, 25, 27, 23, 18, 5, 20, 27, 9, 5, 27, 15, 1, 15, 14]\n",
      "Prediction:   say wret ie oaon\n",
      "--------------------------------------------------\n",
      "--- End Examples ---\n",
      "\n",
      "\n",
      "Epoch 236/300\n"
     ]
    },
    {
     "name": "stderr",
     "output_type": "stream",
     "text": [
      "Epoch 236 Train: 100%|██████████| 75/75 [00:45<00:00,  1.65it/s, loss=1.73]"
     ]
    },
    {
     "name": "stdout",
     "output_type": "stream",
     "text": [
      "Epoch 236 Training Loss: 1.7272\n"
     ]
    },
    {
     "name": "stderr",
     "output_type": "stream",
     "text": [
      "\n",
      "Epoch 236 Val: 100%|██████████| 19/19 [00:04<00:00,  3.93it/s, val_loss=1.62]"
     ]
    },
    {
     "name": "stdout",
     "output_type": "stream",
     "text": [
      "Epoch 236 Validation Loss: 1.6202\n",
      "Validation loss (1.6202) did not improve from 1.6198\n",
      "\n",
      "Epoch 237/300\n"
     ]
    },
    {
     "name": "stderr",
     "output_type": "stream",
     "text": [
      "\n",
      "Epoch 237 Train: 100%|██████████| 75/75 [00:45<00:00,  1.65it/s, loss=1.73]"
     ]
    },
    {
     "name": "stdout",
     "output_type": "stream",
     "text": [
      "Epoch 237 Training Loss: 1.7261\n"
     ]
    },
    {
     "name": "stderr",
     "output_type": "stream",
     "text": [
      "\n",
      "Epoch 237 Val: 100%|██████████| 19/19 [00:04<00:00,  3.94it/s, val_loss=1.62]\n"
     ]
    },
    {
     "name": "stdout",
     "output_type": "stream",
     "text": [
      "Epoch 237 Validation Loss: 1.6183\n",
      "Validation loss improved from 1.6198 to 1.6183, saving model to models_pytorch/lipnet_checkpoint.pth\n",
      "\n",
      "Epoch 238/300\n"
     ]
    },
    {
     "name": "stderr",
     "output_type": "stream",
     "text": [
      "Epoch 238 Train: 100%|██████████| 75/75 [00:45<00:00,  1.65it/s, loss=1.73]"
     ]
    },
    {
     "name": "stdout",
     "output_type": "stream",
     "text": [
      "Epoch 238 Training Loss: 1.7267\n"
     ]
    },
    {
     "name": "stderr",
     "output_type": "stream",
     "text": [
      "\n",
      "Epoch 238 Val: 100%|██████████| 19/19 [00:04<00:00,  3.97it/s, val_loss=1.62]\n"
     ]
    },
    {
     "name": "stdout",
     "output_type": "stream",
     "text": [
      "Epoch 238 Validation Loss: 1.6172\n",
      "Validation loss improved from 1.6183 to 1.6172, saving model to models_pytorch/lipnet_checkpoint.pth\n",
      "\n",
      "Epoch 239/300\n"
     ]
    },
    {
     "name": "stderr",
     "output_type": "stream",
     "text": [
      "Epoch 239 Train: 100%|██████████| 75/75 [00:45<00:00,  1.64it/s, loss=1.73]"
     ]
    },
    {
     "name": "stdout",
     "output_type": "stream",
     "text": [
      "Epoch 239 Training Loss: 1.7286\n"
     ]
    },
    {
     "name": "stderr",
     "output_type": "stream",
     "text": [
      "\n",
      "Epoch 239 Val: 100%|██████████| 19/19 [00:04<00:00,  3.99it/s, val_loss=1.62]"
     ]
    },
    {
     "name": "stdout",
     "output_type": "stream",
     "text": [
      "Epoch 239 Validation Loss: 1.6195\n",
      "Validation loss (1.6195) did not improve from 1.6172\n",
      "\n",
      "Epoch 240/300\n"
     ]
    },
    {
     "name": "stderr",
     "output_type": "stream",
     "text": [
      "\n",
      "Epoch 240 Train: 100%|██████████| 75/75 [00:45<00:00,  1.65it/s, loss=1.73]"
     ]
    },
    {
     "name": "stdout",
     "output_type": "stream",
     "text": [
      "Epoch 240 Training Loss: 1.7266\n"
     ]
    },
    {
     "name": "stderr",
     "output_type": "stream",
     "text": [
      "\n",
      "Epoch 240 Val: 100%|██████████| 19/19 [00:04<00:00,  4.06it/s, val_loss=1.62]\n"
     ]
    },
    {
     "name": "stdout",
     "output_type": "stream",
     "text": [
      "Epoch 240 Validation Loss: 1.6153\n",
      "Validation loss improved from 1.6172 to 1.6153, saving model to models_pytorch/lipnet_checkpoint.pth\n",
      "Raw Argmax Indices (Example 1): [19, 0, 1, 20, 27, 27, 7, 18, 0, 0, 0, 0, 0, 0, 0, 0, 0, 0, 5, 5, 0, 0, 0, 0, 0, 0, 0, 0, 0, 0, 0, 0, 0, 0, 0, 0, 0, 0, 0, 0, 0, 0, 0, 0, 0, 0, 0, 0, 0, 0, 0, 9, 20, 27, 27, 27, 27, 27, 27, 27, 27, 27, 19, 9, 5, 0, 0, 27, 27, 27, 0, 14, 1, 15, 14]\n",
      "\n",
      "--- Example Predictions ---\n",
      "Original:     set blue with f four now\n",
      "Filtered Idx: [19, 1, 20, 27, 7, 18, 5, 9, 20, 27, 19, 9, 5, 27, 14, 1, 15, 14]\n",
      "Prediction:   sat greit sie naon\n",
      "--------------------------------------------------\n",
      "Original:     set white in m one again\n",
      "Filtered Idx: [19, 1, 25, 27, 23, 18, 5, 9, 20, 27, 9, 5, 27, 15, 1, 15, 14]\n",
      "Prediction:   say wreit ie oaon\n",
      "--------------------------------------------------\n",
      "--- End Examples ---\n",
      "\n",
      "\n",
      "Epoch 241/300\n"
     ]
    },
    {
     "name": "stderr",
     "output_type": "stream",
     "text": [
      "Epoch 241 Train: 100%|██████████| 75/75 [00:45<00:00,  1.65it/s, loss=1.73]"
     ]
    },
    {
     "name": "stdout",
     "output_type": "stream",
     "text": [
      "Epoch 241 Training Loss: 1.7268\n"
     ]
    },
    {
     "name": "stderr",
     "output_type": "stream",
     "text": [
      "\n",
      "Epoch 241 Val: 100%|██████████| 19/19 [00:04<00:00,  4.00it/s, val_loss=1.62]"
     ]
    },
    {
     "name": "stdout",
     "output_type": "stream",
     "text": [
      "Epoch 241 Validation Loss: 1.6204\n",
      "Validation loss (1.6204) did not improve from 1.6153\n",
      "\n",
      "Epoch 242/300\n"
     ]
    },
    {
     "name": "stderr",
     "output_type": "stream",
     "text": [
      "\n",
      "Epoch 242 Train: 100%|██████████| 75/75 [00:45<00:00,  1.65it/s, loss=1.73]"
     ]
    },
    {
     "name": "stdout",
     "output_type": "stream",
     "text": [
      "Epoch 242 Training Loss: 1.7275\n"
     ]
    },
    {
     "name": "stderr",
     "output_type": "stream",
     "text": [
      "\n",
      "Epoch 242 Val: 100%|██████████| 19/19 [00:04<00:00,  3.97it/s, val_loss=1.62]"
     ]
    },
    {
     "name": "stdout",
     "output_type": "stream",
     "text": [
      "Epoch 242 Validation Loss: 1.6199\n",
      "Validation loss (1.6199) did not improve from 1.6153\n",
      "\n",
      "Epoch 243/300\n"
     ]
    },
    {
     "name": "stderr",
     "output_type": "stream",
     "text": [
      "\n",
      "Epoch 243 Train: 100%|██████████| 75/75 [00:45<00:00,  1.65it/s, loss=1.73]"
     ]
    },
    {
     "name": "stdout",
     "output_type": "stream",
     "text": [
      "Epoch 243 Training Loss: 1.7272\n"
     ]
    },
    {
     "name": "stderr",
     "output_type": "stream",
     "text": [
      "\n",
      "Epoch 243 Val: 100%|██████████| 19/19 [00:04<00:00,  4.00it/s, val_loss=1.61]\n"
     ]
    },
    {
     "name": "stdout",
     "output_type": "stream",
     "text": [
      "Epoch 243 Validation Loss: 1.6127\n",
      "Validation loss improved from 1.6153 to 1.6127, saving model to models_pytorch/lipnet_checkpoint.pth\n",
      "\n",
      "Epoch 244/300\n"
     ]
    },
    {
     "name": "stderr",
     "output_type": "stream",
     "text": [
      "Epoch 244 Train: 100%|██████████| 75/75 [00:45<00:00,  1.65it/s, loss=1.72]"
     ]
    },
    {
     "name": "stdout",
     "output_type": "stream",
     "text": [
      "Epoch 244 Training Loss: 1.7199\n"
     ]
    },
    {
     "name": "stderr",
     "output_type": "stream",
     "text": [
      "\n",
      "Epoch 244 Val: 100%|██████████| 19/19 [00:04<00:00,  4.05it/s, val_loss=1.62]"
     ]
    },
    {
     "name": "stdout",
     "output_type": "stream",
     "text": [
      "Epoch 244 Validation Loss: 1.6174\n",
      "Validation loss (1.6174) did not improve from 1.6127\n",
      "\n",
      "Epoch 245/300\n"
     ]
    },
    {
     "name": "stderr",
     "output_type": "stream",
     "text": [
      "\n",
      "Epoch 245 Train: 100%|██████████| 75/75 [00:45<00:00,  1.65it/s, loss=1.73]"
     ]
    },
    {
     "name": "stdout",
     "output_type": "stream",
     "text": [
      "Epoch 245 Training Loss: 1.7258\n"
     ]
    },
    {
     "name": "stderr",
     "output_type": "stream",
     "text": [
      "\n",
      "Epoch 245 Val: 100%|██████████| 19/19 [00:04<00:00,  3.91it/s, val_loss=1.62]"
     ]
    },
    {
     "name": "stdout",
     "output_type": "stream",
     "text": [
      "Epoch 245 Validation Loss: 1.6158\n",
      "Validation loss (1.6158) did not improve from 1.6127\n"
     ]
    },
    {
     "name": "stderr",
     "output_type": "stream",
     "text": [
      "\n"
     ]
    },
    {
     "name": "stdout",
     "output_type": "stream",
     "text": [
      "Raw Argmax Indices (Example 1): [19, 0, 1, 20, 27, 27, 7, 18, 0, 0, 0, 0, 0, 0, 0, 0, 0, 0, 5, 0, 0, 0, 0, 0, 0, 0, 0, 0, 0, 0, 0, 0, 0, 0, 0, 0, 0, 0, 0, 0, 0, 0, 0, 0, 0, 0, 0, 0, 0, 0, 0, 9, 20, 27, 27, 27, 27, 27, 27, 27, 27, 27, 19, 9, 5, 0, 0, 27, 27, 27, 0, 14, 1, 15, 14]\n",
      "\n",
      "--- Example Predictions ---\n",
      "Original:     set blue with f four now\n",
      "Filtered Idx: [19, 1, 20, 27, 7, 18, 5, 9, 20, 27, 19, 9, 5, 27, 14, 1, 15, 14]\n",
      "Prediction:   sat greit sie naon\n",
      "--------------------------------------------------\n",
      "Original:     set white in m one again\n",
      "Filtered Idx: [19, 1, 25, 27, 23, 18, 5, 9, 20, 27, 9, 5, 27, 15, 1, 15, 14]\n",
      "Prediction:   say wreit ie oaon\n",
      "--------------------------------------------------\n",
      "--- End Examples ---\n",
      "\n",
      "\n",
      "Epoch 246/300\n"
     ]
    },
    {
     "name": "stderr",
     "output_type": "stream",
     "text": [
      "Epoch 246 Train: 100%|██████████| 75/75 [00:45<00:00,  1.64it/s, loss=1.72]"
     ]
    },
    {
     "name": "stdout",
     "output_type": "stream",
     "text": [
      "Epoch 246 Training Loss: 1.7248\n"
     ]
    },
    {
     "name": "stderr",
     "output_type": "stream",
     "text": [
      "\n",
      "Epoch 246 Val: 100%|██████████| 19/19 [00:04<00:00,  3.99it/s, val_loss=1.61]"
     ]
    },
    {
     "name": "stdout",
     "output_type": "stream",
     "text": [
      "Epoch 246 Validation Loss: 1.6141\n",
      "Validation loss (1.6141) did not improve from 1.6127\n",
      "\n",
      "Epoch 247/300\n"
     ]
    },
    {
     "name": "stderr",
     "output_type": "stream",
     "text": [
      "\n",
      "Epoch 247 Train: 100%|██████████| 75/75 [00:45<00:00,  1.65it/s, loss=1.72]"
     ]
    },
    {
     "name": "stdout",
     "output_type": "stream",
     "text": [
      "Epoch 247 Training Loss: 1.7242\n"
     ]
    },
    {
     "name": "stderr",
     "output_type": "stream",
     "text": [
      "\n",
      "Epoch 247 Val: 100%|██████████| 19/19 [00:05<00:00,  3.79it/s, val_loss=1.61]\n"
     ]
    },
    {
     "name": "stdout",
     "output_type": "stream",
     "text": [
      "Epoch 247 Validation Loss: 1.6092\n",
      "Validation loss improved from 1.6127 to 1.6092, saving model to models_pytorch/lipnet_checkpoint.pth\n",
      "\n",
      "Epoch 248/300\n"
     ]
    },
    {
     "name": "stderr",
     "output_type": "stream",
     "text": [
      "Epoch 248 Train: 100%|██████████| 75/75 [00:45<00:00,  1.65it/s, loss=1.72]"
     ]
    },
    {
     "name": "stdout",
     "output_type": "stream",
     "text": [
      "Epoch 248 Training Loss: 1.7198\n"
     ]
    },
    {
     "name": "stderr",
     "output_type": "stream",
     "text": [
      "\n",
      "Epoch 248 Val: 100%|██████████| 19/19 [00:04<00:00,  3.87it/s, val_loss=1.62]"
     ]
    },
    {
     "name": "stdout",
     "output_type": "stream",
     "text": [
      "Epoch 248 Validation Loss: 1.6164\n",
      "Validation loss (1.6164) did not improve from 1.6092\n",
      "\n",
      "Epoch 249/300\n"
     ]
    },
    {
     "name": "stderr",
     "output_type": "stream",
     "text": [
      "\n",
      "Epoch 249 Train: 100%|██████████| 75/75 [00:45<00:00,  1.65it/s, loss=1.72]"
     ]
    },
    {
     "name": "stdout",
     "output_type": "stream",
     "text": [
      "Epoch 249 Training Loss: 1.7223\n"
     ]
    },
    {
     "name": "stderr",
     "output_type": "stream",
     "text": [
      "\n",
      "Epoch 249 Val: 100%|██████████| 19/19 [00:04<00:00,  3.86it/s, val_loss=1.61]"
     ]
    },
    {
     "name": "stdout",
     "output_type": "stream",
     "text": [
      "Epoch 249 Validation Loss: 1.6128\n",
      "Validation loss (1.6128) did not improve from 1.6092\n",
      "\n",
      "Epoch 250/300\n"
     ]
    },
    {
     "name": "stderr",
     "output_type": "stream",
     "text": [
      "\n",
      "Epoch 250 Train: 100%|██████████| 75/75 [00:45<00:00,  1.65it/s, loss=1.72]"
     ]
    },
    {
     "name": "stdout",
     "output_type": "stream",
     "text": [
      "Epoch 250 Training Loss: 1.7204\n"
     ]
    },
    {
     "name": "stderr",
     "output_type": "stream",
     "text": [
      "\n",
      "Epoch 250 Val: 100%|██████████| 19/19 [00:04<00:00,  3.91it/s, val_loss=1.61]\n"
     ]
    },
    {
     "name": "stdout",
     "output_type": "stream",
     "text": [
      "Epoch 250 Validation Loss: 1.6054\n",
      "Validation loss improved from 1.6092 to 1.6054, saving model to models_pytorch/lipnet_checkpoint.pth\n",
      "Raw Argmax Indices (Example 1): [19, 0, 1, 20, 27, 27, 7, 18, 0, 0, 0, 0, 0, 0, 0, 0, 0, 0, 5, 5, 0, 0, 0, 0, 0, 0, 0, 0, 0, 0, 0, 0, 0, 0, 0, 0, 0, 0, 0, 0, 0, 0, 0, 0, 0, 0, 0, 0, 0, 0, 0, 9, 20, 27, 27, 27, 27, 27, 27, 27, 27, 27, 9, 9, 5, 0, 0, 27, 27, 27, 0, 14, 1, 15, 14]\n",
      "\n",
      "--- Example Predictions ---\n",
      "Original:     set blue with f four now\n",
      "Filtered Idx: [19, 1, 20, 27, 7, 18, 5, 9, 20, 27, 9, 5, 27, 14, 1, 15, 14]\n",
      "Prediction:   sat greit ie naon\n",
      "--------------------------------------------------\n",
      "Original:     set white in m one again\n",
      "Filtered Idx: [19, 1, 25, 27, 23, 18, 5, 9, 20, 27, 9, 5, 27, 15, 1, 15, 14]\n",
      "Prediction:   say wreit ie oaon\n",
      "--------------------------------------------------\n",
      "--- End Examples ---\n",
      "\n",
      "\n",
      "Epoch 251/300\n"
     ]
    },
    {
     "name": "stderr",
     "output_type": "stream",
     "text": [
      "Epoch 251 Train: 100%|██████████| 75/75 [00:45<00:00,  1.65it/s, loss=1.72]"
     ]
    },
    {
     "name": "stdout",
     "output_type": "stream",
     "text": [
      "Epoch 251 Training Loss: 1.7232\n"
     ]
    },
    {
     "name": "stderr",
     "output_type": "stream",
     "text": [
      "\n",
      "Epoch 251 Val: 100%|██████████| 19/19 [00:04<00:00,  4.02it/s, val_loss=1.61]"
     ]
    },
    {
     "name": "stdout",
     "output_type": "stream",
     "text": [
      "Epoch 251 Validation Loss: 1.6139\n",
      "Validation loss (1.6139) did not improve from 1.6054\n",
      "\n",
      "Epoch 252/300\n"
     ]
    },
    {
     "name": "stderr",
     "output_type": "stream",
     "text": [
      "\n",
      "Epoch 252 Train: 100%|██████████| 75/75 [00:45<00:00,  1.65it/s, loss=1.72]"
     ]
    },
    {
     "name": "stdout",
     "output_type": "stream",
     "text": [
      "Epoch 252 Training Loss: 1.7231\n"
     ]
    },
    {
     "name": "stderr",
     "output_type": "stream",
     "text": [
      "\n",
      "Epoch 252 Val: 100%|██████████| 19/19 [00:04<00:00,  3.97it/s, val_loss=1.61]"
     ]
    },
    {
     "name": "stdout",
     "output_type": "stream",
     "text": [
      "Epoch 252 Validation Loss: 1.6077\n",
      "Validation loss (1.6077) did not improve from 1.6054\n",
      "\n",
      "Epoch 253/300\n"
     ]
    },
    {
     "name": "stderr",
     "output_type": "stream",
     "text": [
      "\n",
      "Epoch 253 Train: 100%|██████████| 75/75 [00:45<00:00,  1.65it/s, loss=1.72]"
     ]
    },
    {
     "name": "stdout",
     "output_type": "stream",
     "text": [
      "Epoch 253 Training Loss: 1.7209\n"
     ]
    },
    {
     "name": "stderr",
     "output_type": "stream",
     "text": [
      "\n",
      "Epoch 253 Val: 100%|██████████| 19/19 [00:04<00:00,  3.89it/s, val_loss=1.61]"
     ]
    },
    {
     "name": "stdout",
     "output_type": "stream",
     "text": [
      "Epoch 253 Validation Loss: 1.6100\n",
      "Validation loss (1.6100) did not improve from 1.6054\n",
      "\n",
      "Epoch 254/300\n"
     ]
    },
    {
     "name": "stderr",
     "output_type": "stream",
     "text": [
      "\n",
      "Epoch 254 Train: 100%|██████████| 75/75 [00:45<00:00,  1.65it/s, loss=1.72]"
     ]
    },
    {
     "name": "stdout",
     "output_type": "stream",
     "text": [
      "Epoch 254 Training Loss: 1.7218\n"
     ]
    },
    {
     "name": "stderr",
     "output_type": "stream",
     "text": [
      "\n",
      "Epoch 254 Val: 100%|██████████| 19/19 [00:04<00:00,  3.95it/s, val_loss=1.6] \n"
     ]
    },
    {
     "name": "stdout",
     "output_type": "stream",
     "text": [
      "Epoch 254 Validation Loss: 1.6028\n",
      "Validation loss improved from 1.6054 to 1.6028, saving model to models_pytorch/lipnet_checkpoint.pth\n",
      "\n",
      "Epoch 255/300\n"
     ]
    },
    {
     "name": "stderr",
     "output_type": "stream",
     "text": [
      "Epoch 255 Train: 100%|██████████| 75/75 [00:45<00:00,  1.65it/s, loss=1.72]"
     ]
    },
    {
     "name": "stdout",
     "output_type": "stream",
     "text": [
      "Epoch 255 Training Loss: 1.7205\n"
     ]
    },
    {
     "name": "stderr",
     "output_type": "stream",
     "text": [
      "\n",
      "Epoch 255 Val: 100%|██████████| 19/19 [00:04<00:00,  4.01it/s, val_loss=1.6] \n"
     ]
    },
    {
     "name": "stdout",
     "output_type": "stream",
     "text": [
      "Epoch 255 Validation Loss: 1.6021\n",
      "Validation loss improved from 1.6028 to 1.6021, saving model to models_pytorch/lipnet_checkpoint.pth\n",
      "Raw Argmax Indices (Example 1): [19, 0, 1, 20, 27, 27, 7, 18, 0, 0, 0, 0, 0, 0, 0, 0, 0, 0, 5, 5, 0, 0, 0, 0, 0, 0, 0, 0, 0, 0, 0, 0, 0, 0, 0, 0, 0, 0, 0, 0, 0, 0, 0, 0, 0, 0, 0, 0, 0, 0, 0, 9, 20, 27, 27, 27, 27, 27, 27, 27, 27, 27, 19, 9, 5, 0, 0, 27, 27, 27, 0, 14, 1, 15, 14]\n",
      "\n",
      "--- Example Predictions ---\n",
      "Original:     set blue with f four now\n",
      "Filtered Idx: [19, 1, 20, 27, 7, 18, 5, 9, 20, 27, 19, 9, 5, 27, 14, 1, 15, 14]\n",
      "Prediction:   sat greit sie naon\n",
      "--------------------------------------------------\n",
      "Original:     set white in m one again\n",
      "Filtered Idx: [19, 1, 25, 27, 23, 18, 5, 9, 20, 27, 9, 5, 27, 15, 1, 15, 14]\n",
      "Prediction:   say wreit ie oaon\n",
      "--------------------------------------------------\n",
      "--- End Examples ---\n",
      "\n",
      "\n",
      "Epoch 256/300\n"
     ]
    },
    {
     "name": "stderr",
     "output_type": "stream",
     "text": [
      "Epoch 256 Train: 100%|██████████| 75/75 [00:45<00:00,  1.65it/s, loss=1.72]"
     ]
    },
    {
     "name": "stdout",
     "output_type": "stream",
     "text": [
      "Epoch 256 Training Loss: 1.7206\n"
     ]
    },
    {
     "name": "stderr",
     "output_type": "stream",
     "text": [
      "\n",
      "Epoch 256 Val: 100%|██████████| 19/19 [00:04<00:00,  3.83it/s, val_loss=1.61]"
     ]
    },
    {
     "name": "stdout",
     "output_type": "stream",
     "text": [
      "Epoch 256 Validation Loss: 1.6066\n",
      "Validation loss (1.6066) did not improve from 1.6021\n",
      "\n",
      "Epoch 257/300\n"
     ]
    },
    {
     "name": "stderr",
     "output_type": "stream",
     "text": [
      "\n",
      "Epoch 257 Train: 100%|██████████| 75/75 [00:45<00:00,  1.65it/s, loss=1.72]"
     ]
    },
    {
     "name": "stdout",
     "output_type": "stream",
     "text": [
      "Epoch 257 Training Loss: 1.7193\n"
     ]
    },
    {
     "name": "stderr",
     "output_type": "stream",
     "text": [
      "\n",
      "Epoch 257 Val: 100%|██████████| 19/19 [00:04<00:00,  3.89it/s, val_loss=1.6] "
     ]
    },
    {
     "name": "stdout",
     "output_type": "stream",
     "text": [
      "Epoch 257 Validation Loss: 1.6040\n",
      "Validation loss (1.6040) did not improve from 1.6021\n",
      "\n",
      "Epoch 258/300\n"
     ]
    },
    {
     "name": "stderr",
     "output_type": "stream",
     "text": [
      "\n",
      "Epoch 258 Train: 100%|██████████| 75/75 [00:45<00:00,  1.65it/s, loss=1.72]"
     ]
    },
    {
     "name": "stdout",
     "output_type": "stream",
     "text": [
      "Epoch 258 Training Loss: 1.7216\n"
     ]
    },
    {
     "name": "stderr",
     "output_type": "stream",
     "text": [
      "\n",
      "Epoch 258 Val: 100%|██████████| 19/19 [00:04<00:00,  4.01it/s, val_loss=1.6] "
     ]
    },
    {
     "name": "stdout",
     "output_type": "stream",
     "text": [
      "Epoch 258 Validation Loss: 1.6029\n",
      "Validation loss (1.6029) did not improve from 1.6021\n",
      "\n",
      "Epoch 259/300\n"
     ]
    },
    {
     "name": "stderr",
     "output_type": "stream",
     "text": [
      "\n",
      "Epoch 259 Train: 100%|██████████| 75/75 [00:45<00:00,  1.65it/s, loss=1.72]"
     ]
    },
    {
     "name": "stdout",
     "output_type": "stream",
     "text": [
      "Epoch 259 Training Loss: 1.7205\n"
     ]
    },
    {
     "name": "stderr",
     "output_type": "stream",
     "text": [
      "\n",
      "Epoch 259 Val: 100%|██████████| 19/19 [00:04<00:00,  3.91it/s, val_loss=1.6] "
     ]
    },
    {
     "name": "stdout",
     "output_type": "stream",
     "text": [
      "Epoch 259 Validation Loss: 1.6026\n",
      "Validation loss (1.6026) did not improve from 1.6021\n",
      "\n",
      "Epoch 260/300\n"
     ]
    },
    {
     "name": "stderr",
     "output_type": "stream",
     "text": [
      "\n",
      "Epoch 260 Train: 100%|██████████| 75/75 [00:45<00:00,  1.65it/s, loss=1.72]"
     ]
    },
    {
     "name": "stdout",
     "output_type": "stream",
     "text": [
      "Epoch 260 Training Loss: 1.7154\n"
     ]
    },
    {
     "name": "stderr",
     "output_type": "stream",
     "text": [
      "\n",
      "Epoch 260 Val: 100%|██████████| 19/19 [00:04<00:00,  4.00it/s, val_loss=1.6] "
     ]
    },
    {
     "name": "stdout",
     "output_type": "stream",
     "text": [
      "Epoch 260 Validation Loss: 1.6026\n",
      "Validation loss (1.6026) did not improve from 1.6021\n"
     ]
    },
    {
     "name": "stderr",
     "output_type": "stream",
     "text": [
      "\n"
     ]
    },
    {
     "name": "stdout",
     "output_type": "stream",
     "text": [
      "Raw Argmax Indices (Example 1): [19, 0, 1, 20, 27, 27, 7, 18, 0, 0, 0, 0, 0, 0, 0, 0, 0, 0, 5, 5, 0, 0, 0, 0, 0, 0, 0, 0, 0, 0, 0, 0, 0, 0, 0, 0, 0, 0, 0, 0, 0, 0, 0, 0, 0, 0, 0, 0, 0, 0, 0, 9, 20, 27, 27, 27, 27, 27, 27, 27, 27, 27, 19, 9, 5, 0, 0, 27, 27, 27, 0, 14, 1, 15, 14]\n",
      "\n",
      "--- Example Predictions ---\n",
      "Original:     set blue with f four now\n",
      "Filtered Idx: [19, 1, 20, 27, 7, 18, 5, 9, 20, 27, 19, 9, 5, 27, 14, 1, 15, 14]\n",
      "Prediction:   sat greit sie naon\n",
      "--------------------------------------------------\n",
      "Original:     set white in m one again\n",
      "Filtered Idx: [19, 1, 25, 27, 23, 18, 5, 20, 27, 9, 5, 27, 15, 1, 15, 14]\n",
      "Prediction:   say wret ie oaon\n",
      "--------------------------------------------------\n",
      "--- End Examples ---\n",
      "\n",
      "\n",
      "Epoch 261/300\n"
     ]
    },
    {
     "name": "stderr",
     "output_type": "stream",
     "text": [
      "Epoch 261 Train: 100%|██████████| 75/75 [00:45<00:00,  1.65it/s, loss=1.72]"
     ]
    },
    {
     "name": "stdout",
     "output_type": "stream",
     "text": [
      "Epoch 261 Training Loss: 1.7176\n"
     ]
    },
    {
     "name": "stderr",
     "output_type": "stream",
     "text": [
      "\n",
      "Epoch 261 Val: 100%|██████████| 19/19 [00:04<00:00,  4.04it/s, val_loss=1.6] \n"
     ]
    },
    {
     "name": "stdout",
     "output_type": "stream",
     "text": [
      "Epoch 261 Validation Loss: 1.5996\n",
      "Validation loss improved from 1.6021 to 1.5996, saving model to models_pytorch/lipnet_checkpoint.pth\n",
      "\n",
      "Epoch 262/300\n"
     ]
    },
    {
     "name": "stderr",
     "output_type": "stream",
     "text": [
      "Epoch 262 Train: 100%|██████████| 75/75 [00:45<00:00,  1.65it/s, loss=1.71]"
     ]
    },
    {
     "name": "stdout",
     "output_type": "stream",
     "text": [
      "Epoch 262 Training Loss: 1.7141\n"
     ]
    },
    {
     "name": "stderr",
     "output_type": "stream",
     "text": [
      "\n",
      "Epoch 262 Val: 100%|██████████| 19/19 [00:04<00:00,  4.02it/s, val_loss=1.6] "
     ]
    },
    {
     "name": "stdout",
     "output_type": "stream",
     "text": [
      "Epoch 262 Validation Loss: 1.6028\n",
      "Validation loss (1.6028) did not improve from 1.5996\n",
      "\n",
      "Epoch 263/300\n"
     ]
    },
    {
     "name": "stderr",
     "output_type": "stream",
     "text": [
      "\n",
      "Epoch 263 Train: 100%|██████████| 75/75 [00:45<00:00,  1.64it/s, loss=1.72]"
     ]
    },
    {
     "name": "stdout",
     "output_type": "stream",
     "text": [
      "Epoch 263 Training Loss: 1.7155\n"
     ]
    },
    {
     "name": "stderr",
     "output_type": "stream",
     "text": [
      "\n",
      "Epoch 263 Val: 100%|██████████| 19/19 [00:04<00:00,  4.03it/s, val_loss=1.6] \n"
     ]
    },
    {
     "name": "stdout",
     "output_type": "stream",
     "text": [
      "Epoch 263 Validation Loss: 1.5994\n",
      "Validation loss improved from 1.5996 to 1.5994, saving model to models_pytorch/lipnet_checkpoint.pth\n",
      "\n",
      "Epoch 264/300\n"
     ]
    },
    {
     "name": "stderr",
     "output_type": "stream",
     "text": [
      "Epoch 264 Train: 100%|██████████| 75/75 [00:45<00:00,  1.65it/s, loss=1.71]"
     ]
    },
    {
     "name": "stdout",
     "output_type": "stream",
     "text": [
      "Epoch 264 Training Loss: 1.7147\n"
     ]
    },
    {
     "name": "stderr",
     "output_type": "stream",
     "text": [
      "\n",
      "Epoch 264 Val: 100%|██████████| 19/19 [00:05<00:00,  3.69it/s, val_loss=1.6] \n"
     ]
    },
    {
     "name": "stdout",
     "output_type": "stream",
     "text": [
      "Epoch 264 Validation Loss: 1.5987\n",
      "Validation loss improved from 1.5994 to 1.5987, saving model to models_pytorch/lipnet_checkpoint.pth\n",
      "\n",
      "Epoch 265/300\n"
     ]
    },
    {
     "name": "stderr",
     "output_type": "stream",
     "text": [
      "Epoch 265 Train: 100%|██████████| 75/75 [00:45<00:00,  1.64it/s, loss=1.71]"
     ]
    },
    {
     "name": "stdout",
     "output_type": "stream",
     "text": [
      "Epoch 265 Training Loss: 1.7110\n"
     ]
    },
    {
     "name": "stderr",
     "output_type": "stream",
     "text": [
      "\n",
      "Epoch 265 Val: 100%|██████████| 19/19 [00:04<00:00,  3.88it/s, val_loss=1.6] "
     ]
    },
    {
     "name": "stdout",
     "output_type": "stream",
     "text": [
      "Epoch 265 Validation Loss: 1.6023\n",
      "Validation loss (1.6023) did not improve from 1.5987\n"
     ]
    },
    {
     "name": "stderr",
     "output_type": "stream",
     "text": [
      "\n"
     ]
    },
    {
     "name": "stdout",
     "output_type": "stream",
     "text": [
      "Raw Argmax Indices (Example 1): [19, 0, 1, 20, 27, 27, 7, 18, 0, 0, 0, 0, 0, 0, 0, 0, 0, 0, 5, 5, 0, 0, 0, 0, 0, 0, 0, 0, 0, 0, 0, 0, 0, 0, 0, 0, 0, 0, 0, 0, 0, 0, 0, 0, 0, 0, 0, 0, 0, 0, 0, 9, 20, 27, 27, 27, 27, 27, 27, 27, 27, 27, 19, 9, 5, 0, 0, 27, 27, 27, 0, 14, 1, 15, 14]\n",
      "\n",
      "--- Example Predictions ---\n",
      "Original:     set blue with f four now\n",
      "Filtered Idx: [19, 1, 20, 27, 7, 18, 5, 9, 20, 27, 19, 9, 5, 27, 14, 1, 15, 14]\n",
      "Prediction:   sat greit sie naon\n",
      "--------------------------------------------------\n",
      "Original:     set white in m one again\n",
      "Filtered Idx: [19, 1, 25, 27, 23, 18, 5, 9, 20, 27, 9, 5, 27, 15, 1, 15, 14]\n",
      "Prediction:   say wreit ie oaon\n",
      "--------------------------------------------------\n",
      "--- End Examples ---\n",
      "\n",
      "\n",
      "Epoch 266/300\n"
     ]
    },
    {
     "name": "stderr",
     "output_type": "stream",
     "text": [
      "Epoch 266 Train: 100%|██████████| 75/75 [00:45<00:00,  1.64it/s, loss=1.71]"
     ]
    },
    {
     "name": "stdout",
     "output_type": "stream",
     "text": [
      "Epoch 266 Training Loss: 1.7094\n"
     ]
    },
    {
     "name": "stderr",
     "output_type": "stream",
     "text": [
      "\n",
      "Epoch 266 Val: 100%|██████████| 19/19 [00:04<00:00,  4.02it/s, val_loss=1.6] \n"
     ]
    },
    {
     "name": "stdout",
     "output_type": "stream",
     "text": [
      "Epoch 266 Validation Loss: 1.5964\n",
      "Validation loss improved from 1.5987 to 1.5964, saving model to models_pytorch/lipnet_checkpoint.pth\n",
      "\n",
      "Epoch 267/300\n"
     ]
    },
    {
     "name": "stderr",
     "output_type": "stream",
     "text": [
      "Epoch 267 Train: 100%|██████████| 75/75 [00:45<00:00,  1.65it/s, loss=1.72]"
     ]
    },
    {
     "name": "stdout",
     "output_type": "stream",
     "text": [
      "Epoch 267 Training Loss: 1.7155\n"
     ]
    },
    {
     "name": "stderr",
     "output_type": "stream",
     "text": [
      "\n",
      "Epoch 267 Val: 100%|██████████| 19/19 [00:04<00:00,  3.97it/s, val_loss=1.6] \n"
     ]
    },
    {
     "name": "stdout",
     "output_type": "stream",
     "text": [
      "Epoch 267 Validation Loss: 1.5958\n",
      "Validation loss improved from 1.5964 to 1.5958, saving model to models_pytorch/lipnet_checkpoint.pth\n",
      "\n",
      "Epoch 268/300\n"
     ]
    },
    {
     "name": "stderr",
     "output_type": "stream",
     "text": [
      "Epoch 268 Train: 100%|██████████| 75/75 [00:45<00:00,  1.65it/s, loss=1.72]"
     ]
    },
    {
     "name": "stdout",
     "output_type": "stream",
     "text": [
      "Epoch 268 Training Loss: 1.7165\n"
     ]
    },
    {
     "name": "stderr",
     "output_type": "stream",
     "text": [
      "\n",
      "Epoch 268 Val: 100%|██████████| 19/19 [00:04<00:00,  3.99it/s, val_loss=1.59]\n"
     ]
    },
    {
     "name": "stdout",
     "output_type": "stream",
     "text": [
      "Epoch 268 Validation Loss: 1.5943\n",
      "Validation loss improved from 1.5958 to 1.5943, saving model to models_pytorch/lipnet_checkpoint.pth\n",
      "\n",
      "Epoch 269/300\n"
     ]
    },
    {
     "name": "stderr",
     "output_type": "stream",
     "text": [
      "Epoch 269 Train: 100%|██████████| 75/75 [00:45<00:00,  1.64it/s, loss=1.71]"
     ]
    },
    {
     "name": "stdout",
     "output_type": "stream",
     "text": [
      "Epoch 269 Training Loss: 1.7116\n"
     ]
    },
    {
     "name": "stderr",
     "output_type": "stream",
     "text": [
      "\n",
      "Epoch 269 Val: 100%|██████████| 19/19 [00:04<00:00,  4.04it/s, val_loss=1.6] "
     ]
    },
    {
     "name": "stdout",
     "output_type": "stream",
     "text": [
      "Epoch 269 Validation Loss: 1.5965\n",
      "Validation loss (1.5965) did not improve from 1.5943\n",
      "\n",
      "Epoch 270/300\n"
     ]
    },
    {
     "name": "stderr",
     "output_type": "stream",
     "text": [
      "\n",
      "Epoch 270 Train: 100%|██████████| 75/75 [00:45<00:00,  1.65it/s, loss=1.72]"
     ]
    },
    {
     "name": "stdout",
     "output_type": "stream",
     "text": [
      "Epoch 270 Training Loss: 1.7151\n"
     ]
    },
    {
     "name": "stderr",
     "output_type": "stream",
     "text": [
      "\n",
      "Epoch 270 Val: 100%|██████████| 19/19 [00:04<00:00,  3.93it/s, val_loss=1.59]\n"
     ]
    },
    {
     "name": "stdout",
     "output_type": "stream",
     "text": [
      "Epoch 270 Validation Loss: 1.5932\n",
      "Validation loss improved from 1.5943 to 1.5932, saving model to models_pytorch/lipnet_checkpoint.pth\n",
      "Raw Argmax Indices (Example 1): [19, 0, 1, 20, 27, 27, 7, 18, 0, 0, 0, 0, 0, 0, 0, 0, 0, 0, 5, 5, 0, 0, 0, 0, 0, 0, 0, 0, 0, 0, 0, 0, 0, 0, 0, 0, 0, 0, 0, 0, 0, 0, 0, 0, 0, 0, 0, 0, 0, 0, 0, 9, 20, 27, 27, 27, 27, 27, 27, 27, 27, 27, 27, 9, 5, 0, 0, 27, 27, 27, 0, 14, 1, 15, 14]\n",
      "\n",
      "--- Example Predictions ---\n",
      "Original:     set blue with f four now\n",
      "Filtered Idx: [19, 1, 20, 27, 7, 18, 5, 9, 20, 27, 9, 5, 27, 14, 1, 15, 14]\n",
      "Prediction:   sat greit ie naon\n",
      "--------------------------------------------------\n",
      "Original:     set white in m one again\n",
      "Filtered Idx: [19, 1, 25, 27, 23, 18, 5, 9, 20, 27, 9, 5, 27, 7, 1, 15, 14]\n",
      "Prediction:   say wreit ie gaon\n",
      "--------------------------------------------------\n",
      "--- End Examples ---\n",
      "\n",
      "\n",
      "Epoch 271/300\n"
     ]
    },
    {
     "name": "stderr",
     "output_type": "stream",
     "text": [
      "Epoch 271 Train: 100%|██████████| 75/75 [00:45<00:00,  1.65it/s, loss=1.71]"
     ]
    },
    {
     "name": "stdout",
     "output_type": "stream",
     "text": [
      "Epoch 271 Training Loss: 1.7113\n"
     ]
    },
    {
     "name": "stderr",
     "output_type": "stream",
     "text": [
      "\n",
      "Epoch 271 Val: 100%|██████████| 19/19 [00:04<00:00,  3.96it/s, val_loss=1.6] "
     ]
    },
    {
     "name": "stdout",
     "output_type": "stream",
     "text": [
      "Epoch 271 Validation Loss: 1.5963\n",
      "Validation loss (1.5963) did not improve from 1.5932\n",
      "\n",
      "Epoch 272/300\n"
     ]
    },
    {
     "name": "stderr",
     "output_type": "stream",
     "text": [
      "\n",
      "Epoch 272 Train: 100%|██████████| 75/75 [00:45<00:00,  1.65it/s, loss=1.71]"
     ]
    },
    {
     "name": "stdout",
     "output_type": "stream",
     "text": [
      "Epoch 272 Training Loss: 1.7128\n"
     ]
    },
    {
     "name": "stderr",
     "output_type": "stream",
     "text": [
      "\n",
      "Epoch 272 Val: 100%|██████████| 19/19 [00:04<00:00,  3.95it/s, val_loss=1.6] "
     ]
    },
    {
     "name": "stdout",
     "output_type": "stream",
     "text": [
      "Epoch 272 Validation Loss: 1.6023\n",
      "Validation loss (1.6023) did not improve from 1.5932\n",
      "\n",
      "Epoch 273/300\n"
     ]
    },
    {
     "name": "stderr",
     "output_type": "stream",
     "text": [
      "\n",
      "Epoch 273 Train: 100%|██████████| 75/75 [00:45<00:00,  1.65it/s, loss=1.71]"
     ]
    },
    {
     "name": "stdout",
     "output_type": "stream",
     "text": [
      "Epoch 273 Training Loss: 1.7056\n"
     ]
    },
    {
     "name": "stderr",
     "output_type": "stream",
     "text": [
      "\n",
      "Epoch 273 Val: 100%|██████████| 19/19 [00:04<00:00,  3.96it/s, val_loss=1.59]\n"
     ]
    },
    {
     "name": "stdout",
     "output_type": "stream",
     "text": [
      "Epoch 273 Validation Loss: 1.5851\n",
      "Validation loss improved from 1.5932 to 1.5851, saving model to models_pytorch/lipnet_checkpoint.pth\n",
      "\n",
      "Epoch 274/300\n"
     ]
    },
    {
     "name": "stderr",
     "output_type": "stream",
     "text": [
      "Epoch 274 Train: 100%|██████████| 75/75 [00:45<00:00,  1.64it/s, loss=1.71]"
     ]
    },
    {
     "name": "stdout",
     "output_type": "stream",
     "text": [
      "Epoch 274 Training Loss: 1.7105\n"
     ]
    },
    {
     "name": "stderr",
     "output_type": "stream",
     "text": [
      "\n",
      "Epoch 274 Val: 100%|██████████| 19/19 [00:04<00:00,  3.98it/s, val_loss=1.59]"
     ]
    },
    {
     "name": "stdout",
     "output_type": "stream",
     "text": [
      "Epoch 274 Validation Loss: 1.5941\n",
      "Validation loss (1.5941) did not improve from 1.5851\n",
      "\n",
      "Epoch 275/300\n"
     ]
    },
    {
     "name": "stderr",
     "output_type": "stream",
     "text": [
      "\n",
      "Epoch 275 Train: 100%|██████████| 75/75 [00:45<00:00,  1.65it/s, loss=1.71]"
     ]
    },
    {
     "name": "stdout",
     "output_type": "stream",
     "text": [
      "Epoch 275 Training Loss: 1.7082\n"
     ]
    },
    {
     "name": "stderr",
     "output_type": "stream",
     "text": [
      "\n",
      "Epoch 275 Val: 100%|██████████| 19/19 [00:04<00:00,  3.81it/s, val_loss=1.59]"
     ]
    },
    {
     "name": "stdout",
     "output_type": "stream",
     "text": [
      "Epoch 275 Validation Loss: 1.5901\n",
      "Validation loss (1.5901) did not improve from 1.5851\n"
     ]
    },
    {
     "name": "stderr",
     "output_type": "stream",
     "text": [
      "\n"
     ]
    },
    {
     "name": "stdout",
     "output_type": "stream",
     "text": [
      "Raw Argmax Indices (Example 1): [19, 0, 1, 20, 27, 27, 7, 18, 0, 0, 0, 0, 0, 0, 0, 0, 0, 0, 5, 5, 0, 0, 0, 0, 0, 0, 0, 0, 0, 0, 0, 0, 0, 0, 0, 0, 0, 0, 0, 0, 0, 0, 0, 0, 0, 0, 0, 0, 0, 0, 0, 9, 20, 27, 27, 27, 27, 27, 27, 27, 27, 27, 19, 9, 5, 0, 0, 27, 27, 27, 0, 14, 1, 15, 14]\n",
      "\n",
      "--- Example Predictions ---\n",
      "Original:     set blue with f four now\n",
      "Filtered Idx: [19, 1, 20, 27, 7, 18, 5, 9, 20, 27, 19, 9, 5, 27, 14, 1, 15, 14]\n",
      "Prediction:   sat greit sie naon\n",
      "--------------------------------------------------\n",
      "Original:     set white in m one again\n",
      "Filtered Idx: [19, 1, 25, 27, 23, 18, 5, 9, 20, 27, 9, 5, 27, 15, 1, 15, 14]\n",
      "Prediction:   say wreit ie oaon\n",
      "--------------------------------------------------\n",
      "--- End Examples ---\n",
      "\n",
      "\n",
      "Epoch 276/300\n"
     ]
    },
    {
     "name": "stderr",
     "output_type": "stream",
     "text": [
      "Epoch 276 Train: 100%|██████████| 75/75 [00:45<00:00,  1.65it/s, loss=1.71]"
     ]
    },
    {
     "name": "stdout",
     "output_type": "stream",
     "text": [
      "Epoch 276 Training Loss: 1.7082\n"
     ]
    },
    {
     "name": "stderr",
     "output_type": "stream",
     "text": [
      "\n",
      "Epoch 276 Val: 100%|██████████| 19/19 [00:04<00:00,  4.01it/s, val_loss=1.59]"
     ]
    },
    {
     "name": "stdout",
     "output_type": "stream",
     "text": [
      "Epoch 276 Validation Loss: 1.5866\n",
      "Validation loss (1.5866) did not improve from 1.5851\n",
      "\n",
      "Epoch 277/300\n"
     ]
    },
    {
     "name": "stderr",
     "output_type": "stream",
     "text": [
      "\n",
      "Epoch 277 Train: 100%|██████████| 75/75 [00:45<00:00,  1.65it/s, loss=1.71]"
     ]
    },
    {
     "name": "stdout",
     "output_type": "stream",
     "text": [
      "Epoch 277 Training Loss: 1.7095\n"
     ]
    },
    {
     "name": "stderr",
     "output_type": "stream",
     "text": [
      "\n",
      "Epoch 277 Val: 100%|██████████| 19/19 [00:04<00:00,  3.94it/s, val_loss=1.6] "
     ]
    },
    {
     "name": "stdout",
     "output_type": "stream",
     "text": [
      "Epoch 277 Validation Loss: 1.5965\n",
      "Validation loss (1.5965) did not improve from 1.5851\n",
      "\n",
      "Epoch 278/300\n"
     ]
    },
    {
     "name": "stderr",
     "output_type": "stream",
     "text": [
      "\n",
      "Epoch 278 Train: 100%|██████████| 75/75 [00:45<00:00,  1.65it/s, loss=1.71]"
     ]
    },
    {
     "name": "stdout",
     "output_type": "stream",
     "text": [
      "Epoch 278 Training Loss: 1.7100\n"
     ]
    },
    {
     "name": "stderr",
     "output_type": "stream",
     "text": [
      "\n",
      "Epoch 278 Val: 100%|██████████| 19/19 [00:04<00:00,  3.88it/s, val_loss=1.59]"
     ]
    },
    {
     "name": "stdout",
     "output_type": "stream",
     "text": [
      "Epoch 278 Validation Loss: 1.5900\n",
      "Validation loss (1.5900) did not improve from 1.5851\n",
      "\n",
      "Epoch 279/300\n"
     ]
    },
    {
     "name": "stderr",
     "output_type": "stream",
     "text": [
      "\n",
      "Epoch 279 Train: 100%|██████████| 75/75 [00:45<00:00,  1.65it/s, loss=1.71]"
     ]
    },
    {
     "name": "stdout",
     "output_type": "stream",
     "text": [
      "Epoch 279 Training Loss: 1.7117\n"
     ]
    },
    {
     "name": "stderr",
     "output_type": "stream",
     "text": [
      "\n",
      "Epoch 279 Val: 100%|██████████| 19/19 [00:04<00:00,  3.98it/s, val_loss=1.59]"
     ]
    },
    {
     "name": "stdout",
     "output_type": "stream",
     "text": [
      "Epoch 279 Validation Loss: 1.5857\n",
      "Validation loss (1.5857) did not improve from 1.5851\n",
      "\n",
      "Epoch 280/300\n"
     ]
    },
    {
     "name": "stderr",
     "output_type": "stream",
     "text": [
      "\n",
      "Epoch 280 Train: 100%|██████████| 75/75 [00:45<00:00,  1.65it/s, loss=1.7] "
     ]
    },
    {
     "name": "stdout",
     "output_type": "stream",
     "text": [
      "Epoch 280 Training Loss: 1.7042\n"
     ]
    },
    {
     "name": "stderr",
     "output_type": "stream",
     "text": [
      "\n",
      "Epoch 280 Val: 100%|██████████| 19/19 [00:04<00:00,  3.95it/s, val_loss=1.58]\n"
     ]
    },
    {
     "name": "stdout",
     "output_type": "stream",
     "text": [
      "Epoch 280 Validation Loss: 1.5845\n",
      "Validation loss improved from 1.5851 to 1.5845, saving model to models_pytorch/lipnet_checkpoint.pth\n",
      "Raw Argmax Indices (Example 1): [19, 0, 1, 20, 27, 27, 7, 18, 0, 0, 0, 0, 0, 0, 0, 0, 0, 0, 5, 5, 0, 0, 0, 0, 0, 0, 0, 0, 0, 0, 0, 0, 0, 0, 0, 0, 0, 0, 0, 0, 0, 0, 0, 0, 0, 0, 0, 0, 0, 0, 0, 9, 20, 27, 27, 27, 27, 27, 27, 27, 27, 27, 27, 9, 5, 0, 0, 27, 27, 27, 0, 14, 1, 15, 14]\n",
      "\n",
      "--- Example Predictions ---\n",
      "Original:     set blue with f four now\n",
      "Filtered Idx: [19, 1, 20, 27, 7, 18, 5, 9, 20, 27, 9, 5, 27, 14, 1, 15, 14]\n",
      "Prediction:   sat greit ie naon\n",
      "--------------------------------------------------\n",
      "Original:     set white in m one again\n",
      "Filtered Idx: [19, 1, 25, 27, 23, 18, 5, 9, 20, 27, 9, 5, 27, 7, 1, 15, 14]\n",
      "Prediction:   say wreit ie gaon\n",
      "--------------------------------------------------\n",
      "--- End Examples ---\n",
      "\n",
      "\n",
      "Epoch 281/300\n"
     ]
    },
    {
     "name": "stderr",
     "output_type": "stream",
     "text": [
      "Epoch 281 Train: 100%|██████████| 75/75 [00:45<00:00,  1.64it/s, loss=1.71]"
     ]
    },
    {
     "name": "stdout",
     "output_type": "stream",
     "text": [
      "Epoch 281 Training Loss: 1.7075\n"
     ]
    },
    {
     "name": "stderr",
     "output_type": "stream",
     "text": [
      "\n",
      "Epoch 281 Val: 100%|██████████| 19/19 [00:04<00:00,  3.88it/s, val_loss=1.59]"
     ]
    },
    {
     "name": "stdout",
     "output_type": "stream",
     "text": [
      "Epoch 281 Validation Loss: 1.5879\n",
      "Validation loss (1.5879) did not improve from 1.5845\n",
      "\n",
      "Epoch 282/300\n"
     ]
    },
    {
     "name": "stderr",
     "output_type": "stream",
     "text": [
      "\n",
      "Epoch 282 Train: 100%|██████████| 75/75 [00:45<00:00,  1.65it/s, loss=1.71]"
     ]
    },
    {
     "name": "stdout",
     "output_type": "stream",
     "text": [
      "Epoch 282 Training Loss: 1.7131\n"
     ]
    },
    {
     "name": "stderr",
     "output_type": "stream",
     "text": [
      "\n",
      "Epoch 282 Val: 100%|██████████| 19/19 [00:04<00:00,  3.96it/s, val_loss=1.59]"
     ]
    },
    {
     "name": "stdout",
     "output_type": "stream",
     "text": [
      "Epoch 282 Validation Loss: 1.5866\n",
      "Validation loss (1.5866) did not improve from 1.5845\n",
      "\n",
      "Epoch 283/300\n"
     ]
    },
    {
     "name": "stderr",
     "output_type": "stream",
     "text": [
      "\n",
      "Epoch 283 Train: 100%|██████████| 75/75 [00:45<00:00,  1.65it/s, loss=1.7] "
     ]
    },
    {
     "name": "stdout",
     "output_type": "stream",
     "text": [
      "Epoch 283 Training Loss: 1.7050\n"
     ]
    },
    {
     "name": "stderr",
     "output_type": "stream",
     "text": [
      "\n",
      "Epoch 283 Val: 100%|██████████| 19/19 [00:04<00:00,  3.90it/s, val_loss=1.59]"
     ]
    },
    {
     "name": "stdout",
     "output_type": "stream",
     "text": [
      "Epoch 283 Validation Loss: 1.5870\n",
      "Validation loss (1.5870) did not improve from 1.5845\n",
      "\n",
      "Epoch 284/300\n"
     ]
    },
    {
     "name": "stderr",
     "output_type": "stream",
     "text": [
      "\n",
      "Epoch 284 Train: 100%|██████████| 75/75 [00:45<00:00,  1.65it/s, loss=1.71]"
     ]
    },
    {
     "name": "stdout",
     "output_type": "stream",
     "text": [
      "Epoch 284 Training Loss: 1.7062\n"
     ]
    },
    {
     "name": "stderr",
     "output_type": "stream",
     "text": [
      "\n",
      "Epoch 284 Val: 100%|██████████| 19/19 [00:04<00:00,  3.99it/s, val_loss=1.58]\n"
     ]
    },
    {
     "name": "stdout",
     "output_type": "stream",
     "text": [
      "Epoch 284 Validation Loss: 1.5837\n",
      "Validation loss improved from 1.5845 to 1.5837, saving model to models_pytorch/lipnet_checkpoint.pth\n",
      "\n",
      "Epoch 285/300\n"
     ]
    },
    {
     "name": "stderr",
     "output_type": "stream",
     "text": [
      "Epoch 285 Train: 100%|██████████| 75/75 [00:45<00:00,  1.65it/s, loss=1.71]"
     ]
    },
    {
     "name": "stdout",
     "output_type": "stream",
     "text": [
      "Epoch 285 Training Loss: 1.7099\n"
     ]
    },
    {
     "name": "stderr",
     "output_type": "stream",
     "text": [
      "\n",
      "Epoch 285 Val: 100%|██████████| 19/19 [00:04<00:00,  3.97it/s, val_loss=1.58]"
     ]
    },
    {
     "name": "stdout",
     "output_type": "stream",
     "text": [
      "Epoch 285 Validation Loss: 1.5848\n",
      "Validation loss (1.5848) did not improve from 1.5837\n"
     ]
    },
    {
     "name": "stderr",
     "output_type": "stream",
     "text": [
      "\n"
     ]
    },
    {
     "name": "stdout",
     "output_type": "stream",
     "text": [
      "Raw Argmax Indices (Example 1): [19, 0, 1, 20, 27, 27, 7, 18, 0, 0, 0, 0, 0, 0, 0, 0, 0, 0, 5, 5, 0, 0, 0, 0, 0, 0, 0, 0, 0, 0, 0, 0, 0, 0, 0, 0, 0, 0, 0, 0, 0, 0, 0, 0, 0, 0, 0, 0, 0, 0, 0, 9, 20, 27, 27, 27, 27, 27, 27, 27, 27, 27, 19, 9, 5, 0, 0, 27, 27, 27, 0, 14, 1, 15, 14]\n",
      "\n",
      "--- Example Predictions ---\n",
      "Original:     set blue with f four now\n",
      "Filtered Idx: [19, 1, 20, 27, 7, 18, 5, 9, 20, 27, 19, 9, 5, 27, 14, 1, 15, 14]\n",
      "Prediction:   sat greit sie naon\n",
      "--------------------------------------------------\n",
      "Original:     set white in m one again\n",
      "Filtered Idx: [19, 1, 25, 27, 23, 18, 5, 9, 20, 27, 9, 5, 27, 7, 1, 15, 14]\n",
      "Prediction:   say wreit ie gaon\n",
      "--------------------------------------------------\n",
      "--- End Examples ---\n",
      "\n",
      "\n",
      "Epoch 286/300\n"
     ]
    },
    {
     "name": "stderr",
     "output_type": "stream",
     "text": [
      "Epoch 286 Train: 100%|██████████| 75/75 [00:45<00:00,  1.65it/s, loss=1.71]"
     ]
    },
    {
     "name": "stdout",
     "output_type": "stream",
     "text": [
      "Epoch 286 Training Loss: 1.7089\n"
     ]
    },
    {
     "name": "stderr",
     "output_type": "stream",
     "text": [
      "\n",
      "Epoch 286 Val: 100%|██████████| 19/19 [00:04<00:00,  3.99it/s, val_loss=1.58]"
     ]
    },
    {
     "name": "stdout",
     "output_type": "stream",
     "text": [
      "Epoch 286 Validation Loss: 1.5833\n",
      "Validation loss improved from 1.5837 to 1.5833, saving model to models_pytorch/lipnet_checkpoint.pth\n",
      "\n",
      "Epoch 287/300\n"
     ]
    },
    {
     "name": "stderr",
     "output_type": "stream",
     "text": [
      "\n",
      "Epoch 287 Train: 100%|██████████| 75/75 [00:45<00:00,  1.64it/s, loss=1.71]"
     ]
    },
    {
     "name": "stdout",
     "output_type": "stream",
     "text": [
      "Epoch 287 Training Loss: 1.7077\n"
     ]
    },
    {
     "name": "stderr",
     "output_type": "stream",
     "text": [
      "\n",
      "Epoch 287 Val: 100%|██████████| 19/19 [00:04<00:00,  3.97it/s, val_loss=1.58]"
     ]
    },
    {
     "name": "stdout",
     "output_type": "stream",
     "text": [
      "Epoch 287 Validation Loss: 1.5845\n",
      "Validation loss (1.5845) did not improve from 1.5833\n",
      "\n",
      "Epoch 288/300\n"
     ]
    },
    {
     "name": "stderr",
     "output_type": "stream",
     "text": [
      "\n",
      "Epoch 288 Train: 100%|██████████| 75/75 [00:45<00:00,  1.65it/s, loss=1.71]"
     ]
    },
    {
     "name": "stdout",
     "output_type": "stream",
     "text": [
      "Epoch 288 Training Loss: 1.7078\n"
     ]
    },
    {
     "name": "stderr",
     "output_type": "stream",
     "text": [
      "\n",
      "Epoch 288 Val: 100%|██████████| 19/19 [00:04<00:00,  3.96it/s, val_loss=1.59]"
     ]
    },
    {
     "name": "stdout",
     "output_type": "stream",
     "text": [
      "Epoch 288 Validation Loss: 1.5869\n",
      "Validation loss (1.5869) did not improve from 1.5833\n",
      "\n",
      "Epoch 289/300\n"
     ]
    },
    {
     "name": "stderr",
     "output_type": "stream",
     "text": [
      "\n",
      "Epoch 289 Train: 100%|██████████| 75/75 [00:45<00:00,  1.65it/s, loss=1.71]"
     ]
    },
    {
     "name": "stdout",
     "output_type": "stream",
     "text": [
      "Epoch 289 Training Loss: 1.7059\n"
     ]
    },
    {
     "name": "stderr",
     "output_type": "stream",
     "text": [
      "\n",
      "Epoch 289 Val: 100%|██████████| 19/19 [00:04<00:00,  3.95it/s, val_loss=1.59]"
     ]
    },
    {
     "name": "stdout",
     "output_type": "stream",
     "text": [
      "Epoch 289 Validation Loss: 1.5853\n",
      "Validation loss (1.5853) did not improve from 1.5833\n",
      "\n",
      "Epoch 290/300\n"
     ]
    },
    {
     "name": "stderr",
     "output_type": "stream",
     "text": [
      "\n",
      "Epoch 290 Train: 100%|██████████| 75/75 [00:45<00:00,  1.65it/s, loss=1.71]"
     ]
    },
    {
     "name": "stdout",
     "output_type": "stream",
     "text": [
      "Epoch 290 Training Loss: 1.7071\n"
     ]
    },
    {
     "name": "stderr",
     "output_type": "stream",
     "text": [
      "\n",
      "Epoch 290 Val: 100%|██████████| 19/19 [00:04<00:00,  4.02it/s, val_loss=1.58]"
     ]
    },
    {
     "name": "stdout",
     "output_type": "stream",
     "text": [
      "Epoch 290 Validation Loss: 1.5848\n",
      "Validation loss (1.5848) did not improve from 1.5833\n"
     ]
    },
    {
     "name": "stderr",
     "output_type": "stream",
     "text": [
      "\n"
     ]
    },
    {
     "name": "stdout",
     "output_type": "stream",
     "text": [
      "Raw Argmax Indices (Example 1): [19, 0, 1, 20, 27, 27, 7, 18, 0, 0, 0, 0, 0, 0, 0, 0, 0, 0, 5, 5, 0, 0, 0, 0, 0, 0, 0, 0, 0, 0, 0, 0, 0, 0, 0, 0, 0, 0, 0, 0, 0, 0, 0, 0, 0, 0, 0, 0, 0, 0, 0, 9, 20, 27, 27, 27, 27, 27, 27, 27, 27, 27, 27, 9, 5, 0, 0, 27, 27, 27, 0, 14, 1, 15, 14]\n",
      "\n",
      "--- Example Predictions ---\n",
      "Original:     set blue with f four now\n",
      "Filtered Idx: [19, 1, 20, 27, 7, 18, 5, 9, 20, 27, 9, 5, 27, 14, 1, 15, 14]\n",
      "Prediction:   sat greit ie naon\n",
      "--------------------------------------------------\n",
      "Original:     set white in m one again\n",
      "Filtered Idx: [19, 1, 25, 27, 23, 18, 5, 9, 20, 27, 9, 5, 27, 7, 1, 15, 14]\n",
      "Prediction:   say wreit ie gaon\n",
      "--------------------------------------------------\n",
      "--- End Examples ---\n",
      "\n",
      "\n",
      "Epoch 291/300\n"
     ]
    },
    {
     "name": "stderr",
     "output_type": "stream",
     "text": [
      "Epoch 291 Train: 100%|██████████| 75/75 [00:45<00:00,  1.64it/s, loss=1.71]"
     ]
    },
    {
     "name": "stdout",
     "output_type": "stream",
     "text": [
      "Epoch 291 Training Loss: 1.7054\n"
     ]
    },
    {
     "name": "stderr",
     "output_type": "stream",
     "text": [
      "\n",
      "Epoch 291 Val: 100%|██████████| 19/19 [00:04<00:00,  4.00it/s, val_loss=1.58]"
     ]
    },
    {
     "name": "stdout",
     "output_type": "stream",
     "text": [
      "Epoch 291 Validation Loss: 1.5835\n",
      "Validation loss (1.5835) did not improve from 1.5833\n",
      "\n",
      "Epoch 292/300\n"
     ]
    },
    {
     "name": "stderr",
     "output_type": "stream",
     "text": [
      "\n",
      "Epoch 292 Train: 100%|██████████| 75/75 [00:45<00:00,  1.65it/s, loss=1.7] "
     ]
    },
    {
     "name": "stdout",
     "output_type": "stream",
     "text": [
      "Epoch 292 Training Loss: 1.7049\n"
     ]
    },
    {
     "name": "stderr",
     "output_type": "stream",
     "text": [
      "\n",
      "Epoch 292 Val: 100%|██████████| 19/19 [00:04<00:00,  4.04it/s, val_loss=1.59]"
     ]
    },
    {
     "name": "stdout",
     "output_type": "stream",
     "text": [
      "Epoch 292 Validation Loss: 1.5858\n",
      "Validation loss (1.5858) did not improve from 1.5833\n",
      "\n",
      "Epoch 293/300\n"
     ]
    },
    {
     "name": "stderr",
     "output_type": "stream",
     "text": [
      "\n",
      "Epoch 293 Train: 100%|██████████| 75/75 [00:45<00:00,  1.65it/s, loss=1.71]"
     ]
    },
    {
     "name": "stdout",
     "output_type": "stream",
     "text": [
      "Epoch 293 Training Loss: 1.7093\n"
     ]
    },
    {
     "name": "stderr",
     "output_type": "stream",
     "text": [
      "\n",
      "Epoch 293 Val: 100%|██████████| 19/19 [00:04<00:00,  3.87it/s, val_loss=1.59]"
     ]
    },
    {
     "name": "stdout",
     "output_type": "stream",
     "text": [
      "Epoch 293 Validation Loss: 1.5850\n",
      "Validation loss (1.5850) did not improve from 1.5833\n",
      "\n",
      "Epoch 294/300\n"
     ]
    },
    {
     "name": "stderr",
     "output_type": "stream",
     "text": [
      "\n",
      "Epoch 294 Train: 100%|██████████| 75/75 [00:45<00:00,  1.65it/s, loss=1.71]"
     ]
    },
    {
     "name": "stdout",
     "output_type": "stream",
     "text": [
      "Epoch 294 Training Loss: 1.7065\n"
     ]
    },
    {
     "name": "stderr",
     "output_type": "stream",
     "text": [
      "\n",
      "Epoch 294 Val: 100%|██████████| 19/19 [00:04<00:00,  4.05it/s, val_loss=1.59]"
     ]
    },
    {
     "name": "stdout",
     "output_type": "stream",
     "text": [
      "Epoch 294 Validation Loss: 1.5853\n",
      "Validation loss (1.5853) did not improve from 1.5833\n",
      "\n",
      "Epoch 295/300\n"
     ]
    },
    {
     "name": "stderr",
     "output_type": "stream",
     "text": [
      "\n",
      "Epoch 295 Train: 100%|██████████| 75/75 [00:45<00:00,  1.65it/s, loss=1.71]"
     ]
    },
    {
     "name": "stdout",
     "output_type": "stream",
     "text": [
      "Epoch 295 Training Loss: 1.7078\n"
     ]
    },
    {
     "name": "stderr",
     "output_type": "stream",
     "text": [
      "\n",
      "Epoch 295 Val: 100%|██████████| 19/19 [00:04<00:00,  3.84it/s, val_loss=1.59]"
     ]
    },
    {
     "name": "stdout",
     "output_type": "stream",
     "text": [
      "Epoch 295 Validation Loss: 1.5860\n",
      "Validation loss (1.5860) did not improve from 1.5833\n"
     ]
    },
    {
     "name": "stderr",
     "output_type": "stream",
     "text": [
      "\n"
     ]
    },
    {
     "name": "stdout",
     "output_type": "stream",
     "text": [
      "Raw Argmax Indices (Example 1): [19, 0, 1, 20, 27, 27, 7, 18, 0, 0, 0, 0, 0, 0, 0, 0, 0, 0, 5, 5, 0, 0, 0, 0, 0, 0, 0, 0, 0, 0, 0, 0, 0, 0, 0, 0, 0, 0, 0, 0, 0, 0, 0, 0, 0, 0, 0, 0, 0, 0, 0, 9, 20, 27, 27, 27, 27, 27, 27, 27, 27, 27, 27, 9, 5, 0, 0, 27, 27, 27, 0, 14, 1, 15, 14]\n",
      "\n",
      "--- Example Predictions ---\n",
      "Original:     set blue with f four now\n",
      "Filtered Idx: [19, 1, 20, 27, 7, 18, 5, 9, 20, 27, 9, 5, 27, 14, 1, 15, 14]\n",
      "Prediction:   sat greit ie naon\n",
      "--------------------------------------------------\n",
      "Original:     set white in m one again\n",
      "Filtered Idx: [19, 1, 25, 27, 23, 18, 5, 9, 20, 27, 19, 9, 5, 27, 7, 1, 15, 14]\n",
      "Prediction:   say wreit sie gaon\n",
      "--------------------------------------------------\n",
      "--- End Examples ---\n",
      "\n",
      "\n",
      "Epoch 296/300\n"
     ]
    },
    {
     "name": "stderr",
     "output_type": "stream",
     "text": [
      "Epoch 296 Train: 100%|██████████| 75/75 [00:45<00:00,  1.65it/s, loss=1.71]"
     ]
    },
    {
     "name": "stdout",
     "output_type": "stream",
     "text": [
      "Epoch 296 Training Loss: 1.7055\n"
     ]
    },
    {
     "name": "stderr",
     "output_type": "stream",
     "text": [
      "\n",
      "Epoch 296 Val: 100%|██████████| 19/19 [00:04<00:00,  3.80it/s, val_loss=1.59]"
     ]
    },
    {
     "name": "stdout",
     "output_type": "stream",
     "text": [
      "Epoch 296 Validation Loss: 1.5851\n",
      "Validation loss (1.5851) did not improve from 1.5833\n",
      "\n",
      "Epoch 297/300\n"
     ]
    },
    {
     "name": "stderr",
     "output_type": "stream",
     "text": [
      "\n",
      "Epoch 297 Train: 100%|██████████| 75/75 [00:45<00:00,  1.65it/s, loss=1.7] "
     ]
    },
    {
     "name": "stdout",
     "output_type": "stream",
     "text": [
      "Epoch 297 Training Loss: 1.7044\n"
     ]
    },
    {
     "name": "stderr",
     "output_type": "stream",
     "text": [
      "\n",
      "Epoch 297 Val: 100%|██████████| 19/19 [00:05<00:00,  3.78it/s, val_loss=1.58]"
     ]
    },
    {
     "name": "stdout",
     "output_type": "stream",
     "text": [
      "Epoch 297 Validation Loss: 1.5845\n",
      "Validation loss (1.5845) did not improve from 1.5833\n",
      "\n",
      "Epoch 298/300\n"
     ]
    },
    {
     "name": "stderr",
     "output_type": "stream",
     "text": [
      "\n",
      "Epoch 298 Train: 100%|██████████| 75/75 [00:45<00:00,  1.65it/s, loss=1.7] "
     ]
    },
    {
     "name": "stdout",
     "output_type": "stream",
     "text": [
      "Epoch 298 Training Loss: 1.7013\n"
     ]
    },
    {
     "name": "stderr",
     "output_type": "stream",
     "text": [
      "\n",
      "Epoch 298 Val: 100%|██████████| 19/19 [00:05<00:00,  3.59it/s, val_loss=1.58]"
     ]
    },
    {
     "name": "stdout",
     "output_type": "stream",
     "text": [
      "Epoch 298 Validation Loss: 1.5848\n",
      "Validation loss (1.5848) did not improve from 1.5833\n",
      "\n",
      "Epoch 299/300\n"
     ]
    },
    {
     "name": "stderr",
     "output_type": "stream",
     "text": [
      "\n",
      "Epoch 299 Train:  40%|████      | 30/75 [00:19<00:29,  1.53it/s, loss=1.71]\n"
     ]
    },
    {
     "ename": "KeyboardInterrupt",
     "evalue": "",
     "output_type": "error",
     "traceback": [
      "\u001b[31m---------------------------------------------------------------------------\u001b[39m",
      "\u001b[31mKeyboardInterrupt\u001b[39m                         Traceback (most recent call last)",
      "\u001b[36mCell\u001b[39m\u001b[36m \u001b[39m\u001b[32mIn[20]\u001b[39m\u001b[32m, line 66\u001b[39m\n\u001b[32m     64\u001b[39m loss.backward()\n\u001b[32m     65\u001b[39m torch.nn.utils.clip_grad_norm_(model.parameters(), max_norm=\u001b[32m1.0\u001b[39m) \u001b[38;5;66;03m# Clip gradients\u001b[39;00m\n\u001b[32m---> \u001b[39m\u001b[32m66\u001b[39m \u001b[43moptimizer\u001b[49m\u001b[43m.\u001b[49m\u001b[43mstep\u001b[49m\u001b[43m(\u001b[49m\u001b[43m)\u001b[49m\n\u001b[32m     68\u001b[39m running_loss += loss.item()\n\u001b[32m     69\u001b[39m train_pbar.set_postfix({\u001b[33m'\u001b[39m\u001b[33mloss\u001b[39m\u001b[33m'\u001b[39m: running_loss / (i + \u001b[32m1\u001b[39m)})\n",
      "\u001b[36mFile \u001b[39m\u001b[32m/home/zeus/miniconda3/envs/cloudspace/lib/python3.12/site-packages/torch/optim/optimizer.py:493\u001b[39m, in \u001b[36mOptimizer.profile_hook_step.<locals>.wrapper\u001b[39m\u001b[34m(*args, **kwargs)\u001b[39m\n\u001b[32m    488\u001b[39m         \u001b[38;5;28;01melse\u001b[39;00m:\n\u001b[32m    489\u001b[39m             \u001b[38;5;28;01mraise\u001b[39;00m \u001b[38;5;167;01mRuntimeError\u001b[39;00m(\n\u001b[32m    490\u001b[39m                 \u001b[33mf\u001b[39m\u001b[33m\"\u001b[39m\u001b[38;5;132;01m{\u001b[39;00mfunc\u001b[38;5;132;01m}\u001b[39;00m\u001b[33m must return None or a tuple of (new_args, new_kwargs), but got \u001b[39m\u001b[38;5;132;01m{\u001b[39;00mresult\u001b[38;5;132;01m}\u001b[39;00m\u001b[33m.\u001b[39m\u001b[33m\"\u001b[39m\n\u001b[32m    491\u001b[39m             )\n\u001b[32m--> \u001b[39m\u001b[32m493\u001b[39m out = \u001b[43mfunc\u001b[49m\u001b[43m(\u001b[49m\u001b[43m*\u001b[49m\u001b[43margs\u001b[49m\u001b[43m,\u001b[49m\u001b[43m \u001b[49m\u001b[43m*\u001b[49m\u001b[43m*\u001b[49m\u001b[43mkwargs\u001b[49m\u001b[43m)\u001b[49m\n\u001b[32m    494\u001b[39m \u001b[38;5;28mself\u001b[39m._optimizer_step_code()\n\u001b[32m    496\u001b[39m \u001b[38;5;66;03m# call optimizer step post hooks\u001b[39;00m\n",
      "\u001b[36mFile \u001b[39m\u001b[32m/home/zeus/miniconda3/envs/cloudspace/lib/python3.12/site-packages/torch/optim/optimizer.py:91\u001b[39m, in \u001b[36m_use_grad_for_differentiable.<locals>._use_grad\u001b[39m\u001b[34m(self, *args, **kwargs)\u001b[39m\n\u001b[32m     89\u001b[39m     torch.set_grad_enabled(\u001b[38;5;28mself\u001b[39m.defaults[\u001b[33m\"\u001b[39m\u001b[33mdifferentiable\u001b[39m\u001b[33m\"\u001b[39m])\n\u001b[32m     90\u001b[39m     torch._dynamo.graph_break()\n\u001b[32m---> \u001b[39m\u001b[32m91\u001b[39m     ret = \u001b[43mfunc\u001b[49m\u001b[43m(\u001b[49m\u001b[38;5;28;43mself\u001b[39;49m\u001b[43m,\u001b[49m\u001b[43m \u001b[49m\u001b[43m*\u001b[49m\u001b[43margs\u001b[49m\u001b[43m,\u001b[49m\u001b[43m \u001b[49m\u001b[43m*\u001b[49m\u001b[43m*\u001b[49m\u001b[43mkwargs\u001b[49m\u001b[43m)\u001b[49m\n\u001b[32m     92\u001b[39m \u001b[38;5;28;01mfinally\u001b[39;00m:\n\u001b[32m     93\u001b[39m     torch._dynamo.graph_break()\n",
      "\u001b[36mFile \u001b[39m\u001b[32m/home/zeus/miniconda3/envs/cloudspace/lib/python3.12/site-packages/torch/optim/adam.py:244\u001b[39m, in \u001b[36mAdam.step\u001b[39m\u001b[34m(self, closure)\u001b[39m\n\u001b[32m    232\u001b[39m     beta1, beta2 = group[\u001b[33m\"\u001b[39m\u001b[33mbetas\u001b[39m\u001b[33m\"\u001b[39m]\n\u001b[32m    234\u001b[39m     has_complex = \u001b[38;5;28mself\u001b[39m._init_group(\n\u001b[32m    235\u001b[39m         group,\n\u001b[32m    236\u001b[39m         params_with_grad,\n\u001b[32m   (...)\u001b[39m\u001b[32m    241\u001b[39m         state_steps,\n\u001b[32m    242\u001b[39m     )\n\u001b[32m--> \u001b[39m\u001b[32m244\u001b[39m     \u001b[43madam\u001b[49m\u001b[43m(\u001b[49m\n\u001b[32m    245\u001b[39m \u001b[43m        \u001b[49m\u001b[43mparams_with_grad\u001b[49m\u001b[43m,\u001b[49m\n\u001b[32m    246\u001b[39m \u001b[43m        \u001b[49m\u001b[43mgrads\u001b[49m\u001b[43m,\u001b[49m\n\u001b[32m    247\u001b[39m \u001b[43m        \u001b[49m\u001b[43mexp_avgs\u001b[49m\u001b[43m,\u001b[49m\n\u001b[32m    248\u001b[39m \u001b[43m        \u001b[49m\u001b[43mexp_avg_sqs\u001b[49m\u001b[43m,\u001b[49m\n\u001b[32m    249\u001b[39m \u001b[43m        \u001b[49m\u001b[43mmax_exp_avg_sqs\u001b[49m\u001b[43m,\u001b[49m\n\u001b[32m    250\u001b[39m \u001b[43m        \u001b[49m\u001b[43mstate_steps\u001b[49m\u001b[43m,\u001b[49m\n\u001b[32m    251\u001b[39m \u001b[43m        \u001b[49m\u001b[43mamsgrad\u001b[49m\u001b[43m=\u001b[49m\u001b[43mgroup\u001b[49m\u001b[43m[\u001b[49m\u001b[33;43m\"\u001b[39;49m\u001b[33;43mamsgrad\u001b[39;49m\u001b[33;43m\"\u001b[39;49m\u001b[43m]\u001b[49m\u001b[43m,\u001b[49m\n\u001b[32m    252\u001b[39m \u001b[43m        \u001b[49m\u001b[43mhas_complex\u001b[49m\u001b[43m=\u001b[49m\u001b[43mhas_complex\u001b[49m\u001b[43m,\u001b[49m\n\u001b[32m    253\u001b[39m \u001b[43m        \u001b[49m\u001b[43mbeta1\u001b[49m\u001b[43m=\u001b[49m\u001b[43mbeta1\u001b[49m\u001b[43m,\u001b[49m\n\u001b[32m    254\u001b[39m \u001b[43m        \u001b[49m\u001b[43mbeta2\u001b[49m\u001b[43m=\u001b[49m\u001b[43mbeta2\u001b[49m\u001b[43m,\u001b[49m\n\u001b[32m    255\u001b[39m \u001b[43m        \u001b[49m\u001b[43mlr\u001b[49m\u001b[43m=\u001b[49m\u001b[43mgroup\u001b[49m\u001b[43m[\u001b[49m\u001b[33;43m\"\u001b[39;49m\u001b[33;43mlr\u001b[39;49m\u001b[33;43m\"\u001b[39;49m\u001b[43m]\u001b[49m\u001b[43m,\u001b[49m\n\u001b[32m    256\u001b[39m \u001b[43m        \u001b[49m\u001b[43mweight_decay\u001b[49m\u001b[43m=\u001b[49m\u001b[43mgroup\u001b[49m\u001b[43m[\u001b[49m\u001b[33;43m\"\u001b[39;49m\u001b[33;43mweight_decay\u001b[39;49m\u001b[33;43m\"\u001b[39;49m\u001b[43m]\u001b[49m\u001b[43m,\u001b[49m\n\u001b[32m    257\u001b[39m \u001b[43m        \u001b[49m\u001b[43meps\u001b[49m\u001b[43m=\u001b[49m\u001b[43mgroup\u001b[49m\u001b[43m[\u001b[49m\u001b[33;43m\"\u001b[39;49m\u001b[33;43meps\u001b[39;49m\u001b[33;43m\"\u001b[39;49m\u001b[43m]\u001b[49m\u001b[43m,\u001b[49m\n\u001b[32m    258\u001b[39m \u001b[43m        \u001b[49m\u001b[43mmaximize\u001b[49m\u001b[43m=\u001b[49m\u001b[43mgroup\u001b[49m\u001b[43m[\u001b[49m\u001b[33;43m\"\u001b[39;49m\u001b[33;43mmaximize\u001b[39;49m\u001b[33;43m\"\u001b[39;49m\u001b[43m]\u001b[49m\u001b[43m,\u001b[49m\n\u001b[32m    259\u001b[39m \u001b[43m        \u001b[49m\u001b[43mforeach\u001b[49m\u001b[43m=\u001b[49m\u001b[43mgroup\u001b[49m\u001b[43m[\u001b[49m\u001b[33;43m\"\u001b[39;49m\u001b[33;43mforeach\u001b[39;49m\u001b[33;43m\"\u001b[39;49m\u001b[43m]\u001b[49m\u001b[43m,\u001b[49m\n\u001b[32m    260\u001b[39m \u001b[43m        \u001b[49m\u001b[43mcapturable\u001b[49m\u001b[43m=\u001b[49m\u001b[43mgroup\u001b[49m\u001b[43m[\u001b[49m\u001b[33;43m\"\u001b[39;49m\u001b[33;43mcapturable\u001b[39;49m\u001b[33;43m\"\u001b[39;49m\u001b[43m]\u001b[49m\u001b[43m,\u001b[49m\n\u001b[32m    261\u001b[39m \u001b[43m        \u001b[49m\u001b[43mdifferentiable\u001b[49m\u001b[43m=\u001b[49m\u001b[43mgroup\u001b[49m\u001b[43m[\u001b[49m\u001b[33;43m\"\u001b[39;49m\u001b[33;43mdifferentiable\u001b[39;49m\u001b[33;43m\"\u001b[39;49m\u001b[43m]\u001b[49m\u001b[43m,\u001b[49m\n\u001b[32m    262\u001b[39m \u001b[43m        \u001b[49m\u001b[43mfused\u001b[49m\u001b[43m=\u001b[49m\u001b[43mgroup\u001b[49m\u001b[43m[\u001b[49m\u001b[33;43m\"\u001b[39;49m\u001b[33;43mfused\u001b[39;49m\u001b[33;43m\"\u001b[39;49m\u001b[43m]\u001b[49m\u001b[43m,\u001b[49m\n\u001b[32m    263\u001b[39m \u001b[43m        \u001b[49m\u001b[43mgrad_scale\u001b[49m\u001b[43m=\u001b[49m\u001b[38;5;28;43mgetattr\u001b[39;49m\u001b[43m(\u001b[49m\u001b[38;5;28;43mself\u001b[39;49m\u001b[43m,\u001b[49m\u001b[43m \u001b[49m\u001b[33;43m\"\u001b[39;49m\u001b[33;43mgrad_scale\u001b[39;49m\u001b[33;43m\"\u001b[39;49m\u001b[43m,\u001b[49m\u001b[43m \u001b[49m\u001b[38;5;28;43;01mNone\u001b[39;49;00m\u001b[43m)\u001b[49m\u001b[43m,\u001b[49m\n\u001b[32m    264\u001b[39m \u001b[43m        \u001b[49m\u001b[43mfound_inf\u001b[49m\u001b[43m=\u001b[49m\u001b[38;5;28;43mgetattr\u001b[39;49m\u001b[43m(\u001b[49m\u001b[38;5;28;43mself\u001b[39;49m\u001b[43m,\u001b[49m\u001b[43m \u001b[49m\u001b[33;43m\"\u001b[39;49m\u001b[33;43mfound_inf\u001b[39;49m\u001b[33;43m\"\u001b[39;49m\u001b[43m,\u001b[49m\u001b[43m \u001b[49m\u001b[38;5;28;43;01mNone\u001b[39;49;00m\u001b[43m)\u001b[49m\u001b[43m,\u001b[49m\n\u001b[32m    265\u001b[39m \u001b[43m    \u001b[49m\u001b[43m)\u001b[49m\n\u001b[32m    267\u001b[39m \u001b[38;5;28;01mreturn\u001b[39;00m loss\n",
      "\u001b[36mFile \u001b[39m\u001b[32m/home/zeus/miniconda3/envs/cloudspace/lib/python3.12/site-packages/torch/optim/optimizer.py:154\u001b[39m, in \u001b[36m_disable_dynamo_if_unsupported.<locals>.wrapper.<locals>.maybe_fallback\u001b[39m\u001b[34m(*args, **kwargs)\u001b[39m\n\u001b[32m    152\u001b[39m     \u001b[38;5;28;01mreturn\u001b[39;00m disabled_func(*args, **kwargs)\n\u001b[32m    153\u001b[39m \u001b[38;5;28;01melse\u001b[39;00m:\n\u001b[32m--> \u001b[39m\u001b[32m154\u001b[39m     \u001b[38;5;28;01mreturn\u001b[39;00m \u001b[43mfunc\u001b[49m\u001b[43m(\u001b[49m\u001b[43m*\u001b[49m\u001b[43margs\u001b[49m\u001b[43m,\u001b[49m\u001b[43m \u001b[49m\u001b[43m*\u001b[49m\u001b[43m*\u001b[49m\u001b[43mkwargs\u001b[49m\u001b[43m)\u001b[49m\n",
      "\u001b[36mFile \u001b[39m\u001b[32m/home/zeus/miniconda3/envs/cloudspace/lib/python3.12/site-packages/torch/optim/adam.py:876\u001b[39m, in \u001b[36madam\u001b[39m\u001b[34m(params, grads, exp_avgs, exp_avg_sqs, max_exp_avg_sqs, state_steps, foreach, capturable, differentiable, fused, grad_scale, found_inf, has_complex, amsgrad, beta1, beta2, lr, weight_decay, eps, maximize)\u001b[39m\n\u001b[32m    873\u001b[39m \u001b[38;5;28;01melse\u001b[39;00m:\n\u001b[32m    874\u001b[39m     func = _single_tensor_adam\n\u001b[32m--> \u001b[39m\u001b[32m876\u001b[39m \u001b[43mfunc\u001b[49m\u001b[43m(\u001b[49m\n\u001b[32m    877\u001b[39m \u001b[43m    \u001b[49m\u001b[43mparams\u001b[49m\u001b[43m,\u001b[49m\n\u001b[32m    878\u001b[39m \u001b[43m    \u001b[49m\u001b[43mgrads\u001b[49m\u001b[43m,\u001b[49m\n\u001b[32m    879\u001b[39m \u001b[43m    \u001b[49m\u001b[43mexp_avgs\u001b[49m\u001b[43m,\u001b[49m\n\u001b[32m    880\u001b[39m \u001b[43m    \u001b[49m\u001b[43mexp_avg_sqs\u001b[49m\u001b[43m,\u001b[49m\n\u001b[32m    881\u001b[39m \u001b[43m    \u001b[49m\u001b[43mmax_exp_avg_sqs\u001b[49m\u001b[43m,\u001b[49m\n\u001b[32m    882\u001b[39m \u001b[43m    \u001b[49m\u001b[43mstate_steps\u001b[49m\u001b[43m,\u001b[49m\n\u001b[32m    883\u001b[39m \u001b[43m    \u001b[49m\u001b[43mamsgrad\u001b[49m\u001b[43m=\u001b[49m\u001b[43mamsgrad\u001b[49m\u001b[43m,\u001b[49m\n\u001b[32m    884\u001b[39m \u001b[43m    \u001b[49m\u001b[43mhas_complex\u001b[49m\u001b[43m=\u001b[49m\u001b[43mhas_complex\u001b[49m\u001b[43m,\u001b[49m\n\u001b[32m    885\u001b[39m \u001b[43m    \u001b[49m\u001b[43mbeta1\u001b[49m\u001b[43m=\u001b[49m\u001b[43mbeta1\u001b[49m\u001b[43m,\u001b[49m\n\u001b[32m    886\u001b[39m \u001b[43m    \u001b[49m\u001b[43mbeta2\u001b[49m\u001b[43m=\u001b[49m\u001b[43mbeta2\u001b[49m\u001b[43m,\u001b[49m\n\u001b[32m    887\u001b[39m \u001b[43m    \u001b[49m\u001b[43mlr\u001b[49m\u001b[43m=\u001b[49m\u001b[43mlr\u001b[49m\u001b[43m,\u001b[49m\n\u001b[32m    888\u001b[39m \u001b[43m    \u001b[49m\u001b[43mweight_decay\u001b[49m\u001b[43m=\u001b[49m\u001b[43mweight_decay\u001b[49m\u001b[43m,\u001b[49m\n\u001b[32m    889\u001b[39m \u001b[43m    \u001b[49m\u001b[43meps\u001b[49m\u001b[43m=\u001b[49m\u001b[43meps\u001b[49m\u001b[43m,\u001b[49m\n\u001b[32m    890\u001b[39m \u001b[43m    \u001b[49m\u001b[43mmaximize\u001b[49m\u001b[43m=\u001b[49m\u001b[43mmaximize\u001b[49m\u001b[43m,\u001b[49m\n\u001b[32m    891\u001b[39m \u001b[43m    \u001b[49m\u001b[43mcapturable\u001b[49m\u001b[43m=\u001b[49m\u001b[43mcapturable\u001b[49m\u001b[43m,\u001b[49m\n\u001b[32m    892\u001b[39m \u001b[43m    \u001b[49m\u001b[43mdifferentiable\u001b[49m\u001b[43m=\u001b[49m\u001b[43mdifferentiable\u001b[49m\u001b[43m,\u001b[49m\n\u001b[32m    893\u001b[39m \u001b[43m    \u001b[49m\u001b[43mgrad_scale\u001b[49m\u001b[43m=\u001b[49m\u001b[43mgrad_scale\u001b[49m\u001b[43m,\u001b[49m\n\u001b[32m    894\u001b[39m \u001b[43m    \u001b[49m\u001b[43mfound_inf\u001b[49m\u001b[43m=\u001b[49m\u001b[43mfound_inf\u001b[49m\u001b[43m,\u001b[49m\n\u001b[32m    895\u001b[39m \u001b[43m\u001b[49m\u001b[43m)\u001b[49m\n",
      "\u001b[36mFile \u001b[39m\u001b[32m/home/zeus/miniconda3/envs/cloudspace/lib/python3.12/site-packages/torch/optim/adam.py:685\u001b[39m, in \u001b[36m_multi_tensor_adam\u001b[39m\u001b[34m(params, grads, exp_avgs, exp_avg_sqs, max_exp_avg_sqs, state_steps, grad_scale, found_inf, amsgrad, has_complex, beta1, beta2, lr, weight_decay, eps, maximize, capturable, differentiable)\u001b[39m\n\u001b[32m    682\u001b[39m     torch._foreach_addcdiv_(device_params, device_exp_avgs, exp_avg_sq_sqrt)\n\u001b[32m    683\u001b[39m \u001b[38;5;28;01melse\u001b[39;00m:\n\u001b[32m    684\u001b[39m     bias_correction1 = [\n\u001b[32m--> \u001b[39m\u001b[32m685\u001b[39m         \u001b[32m1\u001b[39m - beta1 ** \u001b[43m_get_value\u001b[49m\u001b[43m(\u001b[49m\u001b[43mstep\u001b[49m\u001b[43m)\u001b[49m \u001b[38;5;28;01mfor\u001b[39;00m step \u001b[38;5;129;01min\u001b[39;00m device_state_steps\n\u001b[32m    686\u001b[39m     ]\n\u001b[32m    687\u001b[39m     bias_correction2 = [\n\u001b[32m    688\u001b[39m         \u001b[32m1\u001b[39m - beta2 ** _get_value(step) \u001b[38;5;28;01mfor\u001b[39;00m step \u001b[38;5;129;01min\u001b[39;00m device_state_steps\n\u001b[32m    689\u001b[39m     ]\n\u001b[32m    691\u001b[39m     step_size = _stack_if_compiling([(lr / bc) * -\u001b[32m1\u001b[39m \u001b[38;5;28;01mfor\u001b[39;00m bc \u001b[38;5;129;01min\u001b[39;00m bias_correction1])\n",
      "\u001b[36mFile \u001b[39m\u001b[32m/home/zeus/miniconda3/envs/cloudspace/lib/python3.12/site-packages/torch/optim/optimizer.py:106\u001b[39m, in \u001b[36m_get_value\u001b[39m\u001b[34m(x)\u001b[39m\n\u001b[32m    104\u001b[39m     \u001b[38;5;28;01mreturn\u001b[39;00m x\n\u001b[32m    105\u001b[39m \u001b[38;5;28;01melse\u001b[39;00m:\n\u001b[32m--> \u001b[39m\u001b[32m106\u001b[39m     \u001b[38;5;28;01mreturn\u001b[39;00m \u001b[43mx\u001b[49m\u001b[43m.\u001b[49m\u001b[43mitem\u001b[49m\u001b[43m(\u001b[49m\u001b[43m)\u001b[49m \u001b[38;5;28;01mif\u001b[39;00m \u001b[38;5;28misinstance\u001b[39m(x, torch.Tensor) \u001b[38;5;28;01melse\u001b[39;00m x\n",
      "\u001b[31mKeyboardInterrupt\u001b[39m: "
     ]
    }
   ],
   "source": [
    "# --- Training Loop ---\n",
    "EPOCHS = 300\n",
    "best_val_loss = float('inf')\n",
    "train_losses = []\n",
    "val_losses = []\n",
    "\n",
    "# Load checkpoint if exists\n",
    "start_epoch = 0\n",
    "if os.path.exists(checkpoint_path):\n",
    "    print(f\"Loading checkpoint from {checkpoint_path}\")\n",
    "    try:\n",
    "        checkpoint = torch.load(checkpoint_path, map_location=DEVICE)\n",
    "        model.load_state_dict(checkpoint['model_state_dict'])\n",
    "        optimizer.load_state_dict(checkpoint['optimizer_state_dict'])\n",
    "        start_epoch = checkpoint['epoch'] + 1\n",
    "        best_val_loss = checkpoint['loss']\n",
    "        print(f\"Resuming training from epoch {start_epoch}, Best loss: {best_val_loss:.4f}\")\n",
    "    except Exception as e:\n",
    "        print(f\"Error loading checkpoint: {e}. Starting from scratch.\")\n",
    "        start_epoch = 0\n",
    "        best_val_loss = float('inf')\n",
    "\n",
    "\n",
    "print(\"\\nStarting Training...\")\n",
    "num_train_batches = len(train_loader)\n",
    "num_test_batches = len(test_loader)\n",
    "print(f\"Training batches per epoch: {num_train_batches}\")\n",
    "print(f\"Validation batches per epoch: {num_test_batches}\")\n",
    "\n",
    "\n",
    "for epoch in range(start_epoch, EPOCHS):\n",
    "    print(f\"\\nEpoch {epoch+1}/{EPOCHS}\")\n",
    "    model.train()\n",
    "    running_loss = 0.0\n",
    "    train_pbar = tqdm(enumerate(train_loader), total=num_train_batches, desc=f\"Epoch {epoch+1} Train\")\n",
    "\n",
    "    for i, batch_data in train_pbar:\n",
    "        frames_batch, labels_padded, input_lengths, label_lengths = batch_data\n",
    "\n",
    "        # Move data to device\n",
    "        frames_batch = frames_batch.to(DEVICE)\n",
    "        labels_padded = labels_padded.to(DEVICE)\n",
    "        input_lengths = input_lengths.to(DEVICE)\n",
    "        label_lengths = label_lengths.to(DEVICE)\n",
    "\n",
    "        optimizer.zero_grad()\n",
    "\n",
    "        log_probs = model(frames_batch)\n",
    "\n",
    "        T = log_probs.size(0)\n",
    "        input_lengths = torch.clamp(input_lengths, max=T)\n",
    "\n",
    "        loss = ctc_loss(log_probs, labels_padded.cpu(), input_lengths.cpu(), label_lengths.cpu())\n",
    "\n",
    "        # Check for NaN/inf loss\n",
    "        if torch.isnan(loss) or torch.isinf(loss):\n",
    "             print(f\"Warning: NaN or Inf loss detected at batch {i}. Skipping batch.\")\n",
    "             continue # Skip gradient update for this batch\n",
    "\n",
    "        loss.backward()\n",
    "        torch.nn.utils.clip_grad_norm_(model.parameters(), max_norm=1.0) # Clip gradients\n",
    "        optimizer.step()\n",
    "        \n",
    "        running_loss += loss.item()\n",
    "        train_pbar.set_postfix({'loss': running_loss / (i + 1)})\n",
    "\n",
    "    avg_train_loss = running_loss / num_train_batches\n",
    "    train_losses.append(avg_train_loss)\n",
    "    print(f\"Epoch {epoch+1} Training Loss: {avg_train_loss:.4f}\")\n",
    "\n",
    "    # --- Validation ---\n",
    "    model.eval()\n",
    "    running_val_loss = 0.0\n",
    "    val_pbar = tqdm(enumerate(test_loader), total=num_test_batches, desc=f\"Epoch {epoch+1} Val\")\n",
    "    with torch.no_grad():\n",
    "        for i, batch_data in val_pbar:\n",
    "            frames_batch, labels_padded, input_lengths, label_lengths = batch_data\n",
    "            frames_batch = frames_batch.to(DEVICE)\n",
    "            labels_padded = labels_padded.to(DEVICE)\n",
    "            input_lengths = input_lengths.to(DEVICE)\n",
    "            label_lengths = label_lengths.to(DEVICE)\n",
    "\n",
    "            log_probs = model(frames_batch)\n",
    "            T = log_probs.size(0)\n",
    "            input_lengths = torch.clamp(input_lengths, max=T)\n",
    "\n",
    "            loss = ctc_loss(log_probs, labels_padded.cpu(), input_lengths.cpu(), label_lengths.cpu())\n",
    "\n",
    "            if not (torch.isnan(loss) or torch.isinf(loss)):\n",
    "                running_val_loss += loss.item()\n",
    "            val_pbar.set_postfix({'val_loss': running_val_loss / (i + 1)})\n",
    "\n",
    "    avg_val_loss = running_val_loss / num_test_batches\n",
    "    val_losses.append(avg_val_loss)\n",
    "    print(f\"Epoch {epoch+1} Validation Loss: {avg_val_loss:.4f}\")\n",
    "    scheduler.step(avg_val_loss)\n",
    "\n",
    "    # --- Save Checkpoint ---\n",
    "    if avg_val_loss < best_val_loss:\n",
    "        print(f\"Validation loss improved from {best_val_loss:.4f} to {avg_val_loss:.4f}, saving model to {checkpoint_path}\")\n",
    "        torch.save({\n",
    "            'epoch': epoch,\n",
    "            'model_state_dict': model.state_dict(),\n",
    "            'optimizer_state_dict': optimizer.state_dict(),\n",
    "            'loss': avg_val_loss,\n",
    "        }, checkpoint_path)\n",
    "        best_val_loss = avg_val_loss\n",
    "    else:\n",
    "        print(f\"Validation loss ({avg_val_loss:.4f}) did not improve from {best_val_loss:.4f}\")\n",
    "\n",
    "    # --- Show Examples (e.g., every 5 epochs) ---\n",
    "    if (epoch + 1) % 5 == 0 or epoch == EPOCHS - 1:\n",
    "         produce_example(model, test_loader, num_to_char_dict)\n",
    "\n",
    "print(\"\\nTraining Finished.\")"
   ]
  },
  {
   "cell_type": "code",
   "execution_count": 26,
   "id": "033fbf86-b8f4-496e-a34d-d2efc7ebd1a0",
   "metadata": {},
   "outputs": [
    {
     "data": {
      "image/png": "[encoded data removed]",
      "text/plain": [
       "<Figure size 800x300 with 1 Axes>"
      ]
     },
     "metadata": {},
     "output_type": "display_data"
    },
    {
     "name": "stdout",
     "output_type": "stream",
     "text": [
      "\n",
      "--- Running Final Test Examples ---\n",
      "Loading best weights from models_pytorch/lipnet_checkpoint.pth for final test...\n",
      "Best weights loaded successfully.\n",
      "\n",
      "--- Example Predictions ---\n",
      "Original:     place green with r seven again\n",
      "Filtered Idx: [14]\n",
      "Prediction:   n\n",
      "--------------------------------------------------\n",
      "Original:     bin green with u nine again\n",
      "Filtered Idx: [14]\n",
      "Prediction:   n\n",
      "--------------------------------------------------\n",
      "--- End Examples ---\n",
      "\n",
      "--- Final Testing Finished ---\n"
     ]
    }
   ],
   "source": [
    "# --- Plotting Training/Validation Loss ---\n",
    "plt.figure(figsize=(8, 3))\n",
    "plt.plot(train_losses, color='red', label=\"Training Loss\")\n",
    "plt.plot(val_losses, color='green', label=\"Validation Loss\")\n",
    "plt.title(\"Training/Validation Loss vs Epochs\")\n",
    "plt.ylabel(\"Loss\")\n",
    "plt.xlabel(\"Epoch\")\n",
    "plt.legend()\n",
    "plt.grid(True)\n",
    "plt.tight_layout()\n",
    "plt.savefig(\"loss_curve_pytorch.png\")\n",
    "plt.show()\n",
    "\n",
    "print(\"\\n--- Running Final Test Examples ---\")\n",
    "if os.path.exists(checkpoint_path):\n",
    "    print(f\"Loading best weights from {checkpoint_path} for final test...\")\n",
    "    try:\n",
    "        checkpoint = torch.load(checkpoint_path, map_location=DEVICE)\n",
    "        model.load_state_dict(checkpoint['model_state_dict'])\n",
    "        print(\"Best weights loaded successfully.\")\n",
    "    except Exception as e:\n",
    "        print(f\"Error loading best weights: {e}\")\n",
    "else:\n",
    "    print(\"No checkpoint found for final testing.\")\n",
    "\n",
    "produce_example(model, test_loader, num_to_char_dict) # Show examples with best model\n",
    "print(\"--- Final Testing Finished ---\")"
   ]
  },
  {
   "cell_type": "markdown",
   "id": "c5616408-1252-47a9-9906-78fc0e143804",
   "metadata": {},
   "source": [
    "# Testing on Unseen Speakers: s31, s32, s33"
   ]
  },
  {
   "cell_type": "code",
   "execution_count": 16,
   "id": "05c503c4-0743-4006-83bf-6ebc33bbfe77",
   "metadata": {},
   "outputs": [
    {
     "name": "stdout",
     "output_type": "stream",
     "text": [
      "Loading trained model...\n",
      "Model loaded successfully from epoch 285\n",
      "\n",
      "Finding all processed .npy files...\n",
      "Found 3000 total .npy files.\n",
      "\n",
      "Selected 20 files for testing.\n",
      "\n",
      "--- Running Inference on Selected Samples ---\n",
      "\n",
      "--- Sample 1/20 ---\n",
      "File: ./GRIDCorpus/processed_mouth_data/s33_processed/srwz2n_mouth.npy\n",
      "Original:     set red with z sp two now\n",
      "Prediction:   sat breit ie naon\n",
      "\n",
      "--- Sample 2/20 ---\n",
      "File: ./GRIDCorpus/processed_mouth_data/s32_processed/srbe7n_mouth.npy\n",
      "Original:     set red by e seven now\n",
      "Prediction:   say wreit ie naon\n",
      "\n",
      "--- Sample 3/20 ---\n",
      "File: ./GRIDCorpus/processed_mouth_data/s31_processed/prif8p_mouth.npy\n",
      "Original:     place red in f eight please\n",
      "Prediction:   sate breit ie eaon\n",
      "\n",
      "--- Sample 4/20 ---\n",
      "File: ./GRIDCorpus/processed_mouth_data/s32_processed/sriq8s_mouth.npy\n",
      "Original:     set red in q eight soon\n",
      "Prediction:   say greit ie naon\n",
      "\n",
      "--- Sample 5/20 ---\n",
      "File: ./GRIDCorpus/processed_mouth_data/s32_processed/pwaa4a_mouth.npy\n",
      "Original:     place white at a four again\n",
      "Prediction:   say breit ie gaon\n",
      "\n",
      "--- Sample 6/20 ---\n",
      "File: ./GRIDCorpus/processed_mouth_data/s31_processed/bwip9s_mouth.npy\n",
      "Original:     bin white in p nine soon\n",
      "Prediction:   bay wreit ie naon\n",
      "\n",
      "--- Sample 7/20 ---\n",
      "File: ./GRIDCorpus/processed_mouth_data/s32_processed/lwwjzs_mouth.npy\n",
      "Original:     lay white with j zero soon\n",
      "Prediction:   say wreit ie naon\n",
      "\n",
      "--- Sample 8/20 ---\n",
      "File: ./GRIDCorpus/processed_mouth_data/s32_processed/pwat3n_mouth.npy\n",
      "Original:     place white at t three now\n",
      "Prediction:   say greit ie naon\n",
      "\n",
      "--- Sample 9/20 ---\n",
      "File: ./GRIDCorpus/processed_mouth_data/s32_processed/bgaq9p_mouth.npy\n",
      "Original:     bin green at q nine please\n",
      "Prediction:   say greit ie naon\n",
      "\n",
      "--- Sample 10/20 ---\n",
      "File: ./GRIDCorpus/processed_mouth_data/s32_processed/bbivzs_mouth.npy\n",
      "Original:     bin blue in v zero soon\n",
      "Prediction:   sat greit ie naon\n",
      "\n",
      "--- Sample 11/20 ---\n",
      "File: ./GRIDCorpus/processed_mouth_data/s33_processed/lrah5s_mouth.npy\n",
      "Original:     lay red at h five soon\n",
      "Prediction:   sat greit ie naon\n",
      "\n",
      "--- Sample 12/20 ---\n",
      "File: ./GRIDCorpus/processed_mouth_data/s31_processed/pwbt9s_mouth.npy\n",
      "Original:     place white by t nine soon\n",
      "Prediction:   san wreit ie naon\n",
      "\n",
      "--- Sample 13/20 ---\n",
      "File: ./GRIDCorpus/processed_mouth_data/s33_processed/lwio3a_mouth.npy\n",
      "Original:     lay white in o three again\n",
      "Prediction:   say breit ie oaon\n",
      "\n",
      "--- Sample 14/20 ---\n",
      "File: ./GRIDCorpus/processed_mouth_data/s33_processed/bwaqzn_mouth.npy\n",
      "Original:     bin white at q zero now\n",
      "Prediction:   bice breit ie non\n",
      "\n",
      "--- Sample 15/20 ---\n",
      "File: ./GRIDCorpus/processed_mouth_data/s32_processed/pgbu4s_mouth.npy\n",
      "Original:     place green by u four soon\n",
      "Prediction:   sat breit ie non\n",
      "\n",
      "--- Sample 16/20 ---\n",
      "File: ./GRIDCorpus/processed_mouth_data/s32_processed/lbat8s_mouth.npy\n",
      "Original:     lay blue at t eight soon\n",
      "Prediction:   say greit ie non\n",
      "\n",
      "--- Sample 17/20 ---\n",
      "File: ./GRIDCorpus/processed_mouth_data/s33_processed/bbbc7a_mouth.npy\n",
      "Original:     bin blue by c seven again\n",
      "Prediction:   bac breit ie non\n",
      "\n",
      "--- Sample 18/20 ---\n",
      "File: ./GRIDCorpus/processed_mouth_data/s33_processed/lwiu7a_mouth.npy\n",
      "Original:     lay white in u seven again\n",
      "Prediction:   bat breit ie naon\n",
      "\n",
      "--- Sample 19/20 ---\n",
      "File: ./GRIDCorpus/processed_mouth_data/s31_processed/pbil4n_mouth.npy\n",
      "Original:     place blue in l four now\n",
      "Prediction:   bat breit ie eaon\n",
      "\n",
      "--- Sample 20/20 ---\n",
      "File: ./GRIDCorpus/processed_mouth_data/s33_processed/sbiqzn_mouth.npy\n",
      "Original:     set blue in q zero now\n",
      "Prediction:   bat breit ie oaon\n",
      "\n",
      "--- Testing Summary ---\n",
      "Successfully processed: 20/20\n",
      "Correct Predictions: 0/20\n",
      "Accuracy on processed samples: 0.00%\n"
     ]
    }
   ],
   "source": [
    "import random\n",
    "def get_align_path(npy_path):\n",
    "    parts = npy_path.split(os.path.sep)\n",
    "    npy_filename = parts[-1]\n",
    "    speaker_processed_dir = parts[-2] \n",
    "    base_name = os.path.splitext(npy_filename)[0]\n",
    "    if base_name.endswith('_mouth'):\n",
    "         base_name = base_name[:-6] \n",
    "    align_dir = os.path.join(\"./GRIDCorpus/data\", speaker_processed_dir, 'align')\n",
    "    return os.path.join(align_dir, f'{base_name}.align')\n",
    "def load_alignments(align_file: str) -> Optional[List[str]]:\n",
    "    alignments_chars = []\n",
    "    try:\n",
    "        with open(align_file, 'r') as f:\n",
    "            for line in f:\n",
    "                parts = line.strip().split();\n",
    "                if len(parts) != 3: continue\n",
    "                _, _, token = parts\n",
    "                if token != 'sil': alignments_chars.extend(list(token.lower() + ' '))\n",
    "        return alignments_chars[:-1] if alignments_chars else []\n",
    "    except FileNotFoundError: return None\n",
    "    except Exception as e: print(f\"Error loading {align_file}: {e}\"); return None\n",
    "def load_and_normalize_npy(npy_path: str) -> Optional[torch.Tensor]:\n",
    "    try:\n",
    "        frames_uint8 = np.load(npy_path) \n",
    "        current_frame_count = frames_uint8.shape[0]\n",
    "        if current_frame_count != FRAME_COUNT:\n",
    "            if current_frame_count > FRAME_COUNT:\n",
    "                frames_uint8 = frames_uint8[:FRAME_COUNT, ...]\n",
    "            else:\n",
    "                pad_width = ((0, FRAME_COUNT - current_frame_count), (0, 0), (0, 0), (0, 0))\n",
    "                frames_uint8 = np.pad(frames_uint8, pad_width, mode='constant', constant_values=0)\n",
    "        frames_float = frames_uint8.astype(np.float32) / 255.0\n",
    "        frames_rgb = frames_float[..., ::-1]\n",
    "        frames_normalized = (frames_rgb - NORM_MEAN) / NORM_STD\n",
    "        frames_tensor = torch.tensor(frames_normalized, dtype=torch.float32)\n",
    "        if frames_tensor.shape != (FRAME_COUNT, FRAME_HEIGHT, FRAME_WIDTH, FRAME_CHANNELS):\n",
    "            print(f\"Warning: Final tensor shape is incorrect for {npy_path}: {frames_tensor.shape}\")\n",
    "            return None\n",
    "        return frames_tensor \n",
    "    except FileNotFoundError:\n",
    "        print(f\"Warning: Npy file not found {npy_path}.\")\n",
    "        return None\n",
    "    except Exception as e:\n",
    "        print(f\"Error loading/processing npy {npy_path}: {e}\")\n",
    "        return None\n",
    "def greedy_decoder(log_probs, input_lengths):\n",
    "    decoded_sequences = []\n",
    "    for i in range(log_probs.size(1)):\n",
    "        sample_log_probs = log_probs[:input_lengths[i], i, :]\n",
    "        best_path = torch.argmax(sample_log_probs, dim=1)\n",
    "        decoded = []\n",
    "        last_char = -1\n",
    "        for char_idx in best_path:\n",
    "            idx = char_idx.item()\n",
    "            if idx != last_char and idx != CTC_BLANK_INDEX:\n",
    "                decoded.append(idx)\n",
    "            if idx != CTC_BLANK_INDEX:\n",
    "                last_char = idx\n",
    "        decoded_sequences.append(decoded)\n",
    "    return decoded_sequences\n",
    "class LipNet(nn.Module):\n",
    "    def __init__(self, num_classes, dropout_p=DROPOUT_P):\n",
    "        super(LipNet, self).__init__()\n",
    "        self.num_classes = num_classes \n",
    "        self.dropout_p = dropout_p\n",
    "        self.conv1 = nn.Conv3d(FRAME_CHANNELS, 32, kernel_size=(3, 5, 5), stride=(1, 2, 2), padding=(1, 2, 2))\n",
    "        self.bn1 = nn.BatchNorm3d(32)\n",
    "        self.pool1 = nn.MaxPool3d(kernel_size=(1, 2, 2), stride=(1, 2, 2))\n",
    "        self.drop1 = nn.Dropout3d(dropout_p)\n",
    "        self.conv2 = nn.Conv3d(32, 64, kernel_size=(3, 5, 5), stride=(1, 1, 1), padding=(1, 2, 2))\n",
    "        self.bn2 = nn.BatchNorm3d(64)\n",
    "        self.pool2 = nn.MaxPool3d(kernel_size=(1, 2, 2), stride=(1, 2, 2))\n",
    "        self.drop2 = nn.Dropout3d(dropout_p)\n",
    "        self.conv3 = nn.Conv3d(64, 96, kernel_size=(3, 3, 3), stride=(1, 1, 1), padding=(1, 1, 1))\n",
    "        self.bn3 = nn.BatchNorm3d(96)\n",
    "        self.pool3 = nn.MaxPool3d(kernel_size=(1, 2, 2), stride=(1, 2, 2))\n",
    "        self.drop3 = nn.Dropout3d(dropout_p)\n",
    "        self.rnn_input_size = 96 * 3 * 6\n",
    "        self.gru1 = nn.GRU(self.rnn_input_size, 256, bidirectional=True, batch_first=True)\n",
    "        self.drop_gru1 = nn.Dropout(dropout_p)\n",
    "        self.gru2 = nn.GRU(256 * 2, 256, bidirectional=True, batch_first=True)\n",
    "        self.drop_gru2 = nn.Dropout(dropout_p)\n",
    "        self.fc = nn.Linear(256 * 2, self.num_classes)\n",
    "    def forward(self, x):\n",
    "        x = x.permute(0, 4, 1, 2, 3).contiguous()\n",
    "        x = self.conv1(x); x = self.bn1(x); x = F.relu(x); x = self.pool1(x); x = self.drop1(x)\n",
    "        x = self.conv2(x); x = self.bn2(x); x = F.relu(x); x = self.pool2(x); x = self.drop2(x)\n",
    "        x = self.conv3(x); x = self.bn3(x); x = F.relu(x); x = self.pool3(x); x = self.drop3(x)\n",
    "        N, C, T, H, W = x.size(); x = x.permute(0, 2, 1, 3, 4).contiguous(); x = x.view(N, T, -1)\n",
    "        x, _ = self.gru1(x); x = self.drop_gru1(x)\n",
    "        x, _ = self.gru2(x); x = self.drop_gru2(x)\n",
    "        x = self.fc(x)\n",
    "        x = x.permute(1, 0, 2).contiguous()\n",
    "        log_probs = F.log_softmax(x, dim=2)\n",
    "        return log_probs\n",
    "K = 20 \n",
    "CHECKPOINT_PATH = './models_pytorch/lipnet_checkpoint.pth' \n",
    "ALL_SPEAKER_IDS_NUM = [\"s31_processed\", \"s32_processed\", \"s33_processed\"]\n",
    "print(\"Loading trained model...\")\n",
    "model = LipNet(num_classes=VOCAB_SIZE + 1).to(DEVICE)\n",
    "if not os.path.exists(CHECKPOINT_PATH):\n",
    "    print(f\"Error: Checkpoint file not found at {CHECKPOINT_PATH}\")\n",
    "    exit()\n",
    "try:\n",
    "    checkpoint = torch.load(CHECKPOINT_PATH, map_location=DEVICE)\n",
    "    model.load_state_dict(checkpoint['model_state_dict'])\n",
    "    model.eval() \n",
    "    print(f\"Model loaded successfully from epoch {checkpoint.get('epoch', 'N/A')}\")\n",
    "except Exception as e:\n",
    "    print(f\"Error loading model state_dict: {e}\")\n",
    "    exit()\n",
    "print(\"\\nFinding all processed .npy files...\")\n",
    "all_npy_files = []\n",
    "for speaker_id_num in ALL_SPEAKER_IDS_NUM:\n",
    "    speaker_processed_folder = f\"{speaker_id_num}\"\n",
    "    speaker_path_pattern = os.path.join(BASE_PROCESSED_PATH, speaker_processed_folder, '*.npy')\n",
    "    files = glob.glob(speaker_path_pattern)\n",
    "    if not files:\n",
    "        print(f\"Warning: No .npy files found for speaker {speaker_id_num} in {os.path.join(BASE_PROCESSED_PATH, speaker_processed_folder)}\")\n",
    "    all_npy_files.extend(files)\n",
    "if not all_npy_files:\n",
    "    print(f\"Error: No .npy files found in subdirectories like {os.path.join(BASE_PROCESSED_PATH, 's*_processed/')}. Ensure preprocessing was done and BASE_PROCESSED_PATH is correct.\")\n",
    "    exit()\n",
    "print(f\"Found {len(all_npy_files)} total .npy files.\")\n",
    "random.shuffle(all_npy_files)\n",
    "selected_files = all_npy_files[:K]\n",
    "print(f\"\\nSelected {len(selected_files)} files for testing.\")\n",
    "print(\"\\n--- Running Inference on Selected Samples ---\")\n",
    "correct_predictions = 0\n",
    "processed_count = 0\n",
    "with torch.no_grad():\n",
    "    for i, npy_path in enumerate(selected_files):\n",
    "        print(f\"\\n--- Sample {i+1}/{K} ---\")\n",
    "        print(f\"File: {npy_path}\")\n",
    "        frames_tensor = load_and_normalize_npy(npy_path)\n",
    "        if frames_tensor is None:\n",
    "            print(\"  Skipping due to loading/preprocessing error.\")\n",
    "            continue\n",
    "        input_batch = frames_tensor.unsqueeze(0).to(DEVICE) \n",
    "        align_path = get_align_path(npy_path)\n",
    "        alignments_list = load_alignments(align_path)\n",
    "        if alignments_list is None:\n",
    "            print(f\"  Skipping due to missing alignment file: {align_path}\")\n",
    "            continue\n",
    "        original_text = \"\".join(alignments_list)\n",
    "        print(f\"Original:     {original_text}\")\n",
    "        log_probs = model(input_batch) \n",
    "        input_lengths = torch.tensor([FRAME_COUNT], dtype=torch.long).cpu()\n",
    "        decoded_indices_list = greedy_decoder(log_probs.cpu(), input_lengths)\n",
    "        prediction_indices = decoded_indices_list[0]\n",
    "        prediction_text = \"\".join([num_to_char_dict.get(idx, '?') for idx in prediction_indices])\n",
    "        print(f\"Prediction:   {prediction_text}\")\n",
    "        processed_count += 1\n",
    "        if original_text == prediction_text:\n",
    "             correct_predictions += 1\n",
    "print(\"\\n--- Testing Summary ---\")\n",
    "if processed_count > 0:\n",
    "    accuracy = (correct_predictions / processed_count) * 100\n",
    "    print(f\"Successfully processed: {processed_count}/{len(selected_files)}\")\n",
    "    print(f\"Correct Predictions: {correct_predictions}/{processed_count}\")\n",
    "    print(f\"Accuracy on processed samples: {accuracy:.2f}%\")\n",
    "else:\n",
    "    print(\"No samples were successfully processed for testing.\")"
   ]
  },
  {
   "cell_type": "code",
   "execution_count": null,
   "id": "20a0f99a-4de8-4397-86bf-b3a3b642777c",
   "metadata": {},
   "outputs": [],
   "source": []
  }
 ],
 "metadata": {
  "kernelspec": {
   "display_name": "Python 3",
   "language": "python",
   "name": "python3"
  },
  "language_info": {
   "codemirror_mode": {
    "name": "ipython",
    "version": 3
   },
   "file_extension": ".py",
   "mimetype": "text/x-python",
   "name": "python",
   "nbconvert_exporter": "python",
   "pygments_lexer": "ipython3",
   "version": "3.12.5"
  }
 },
 "nbformat": 4,
 "nbformat_minor": 5
}
