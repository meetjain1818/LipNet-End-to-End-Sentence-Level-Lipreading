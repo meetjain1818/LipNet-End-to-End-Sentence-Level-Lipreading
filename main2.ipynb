{
 "cells": [
  {
   "cell_type": "code",
   "execution_count": 1,
   "id": "bf1ece22-b52e-440b-b9f5-e702e54eedb9",
   "metadata": {},
   "outputs": [],
   "source": [
    "import torch\n",
    "import torch.nn as nn\n",
    "import torch.optim as optim\n",
    "import torch.nn.functional as F\n",
    "from torch.utils.data import Dataset, DataLoader\n",
    "from torch.nn.utils.rnn import pad_sequence\n",
    "import torch.nn.init as init\n",
    "\n",
    "import numpy as np\n",
    "import os\n",
    "import glob\n",
    "import matplotlib.pyplot as plt\n",
    "import seaborn as sns\n",
    "from typing import List, Tuple, Optional\n",
    "import imageio\n",
    "# import gdown # Removed, assuming data is downloaded\n",
    "import dlib\n",
    "from tqdm import tqdm\n",
    "import warnings\n",
    "import cv2\n",
    "import time\n",
    "\n",
    "warnings.filterwarnings('ignore')\n",
    "plt.style.use('seaborn-v0_8-dark-palette') # Use a compatible style\n",
    "plt.rcParams[\"figure.figsize\"] = (9, 5)"
   ]
  },
  {
   "cell_type": "code",
   "execution_count": 2,
   "id": "63956a29-bc4d-4178-85eb-cfecf0cf6d9e",
   "metadata": {},
   "outputs": [
    {
     "name": "stdout",
     "output_type": "stream",
     "text": [
      "Using device: cuda\n"
     ]
    }
   ],
   "source": [
    "# --- Configuration ---\n",
    "SEED = 42\n",
    "torch.manual_seed(SEED)\n",
    "np.random.seed(SEED)\n",
    "if torch.cuda.is_available():\n",
    "    torch.cuda.manual_seed_all(SEED)\n",
    "    torch.backends.cudnn.deterministic = True\n",
    "    torch.backends.cudnn.benchmark = False\n",
    "\n",
    "DEVICE = torch.device(\"cuda\" if torch.cuda.is_available() else \"cpu\")\n",
    "print(f\"Using device: {DEVICE}\")"
   ]
  },
  {
   "cell_type": "code",
   "execution_count": 3,
   "id": "8d9ff14b-bfef-4f0c-9378-307c9d7902cb",
   "metadata": {},
   "outputs": [],
   "source": [
    "FRAME_COUNT = 75\n",
    "FRAME_HEIGHT = 50\n",
    "FRAME_WIDTH = 100\n",
    "FRAME_CHANNELS = 3\n",
    "DROPOUT_P = 0.5\n",
    "\n",
    "BASE_PROCESSED_PATH = './processed_mouth_data/'\n",
    "BASE_ALIGN_PATH = './data/alignments/'\n",
    "\n",
    "ALL_SPEAKER_IDS = [f's{i}' for i in range(1, 2) if i != 21]"
   ]
  },
  {
   "cell_type": "code",
   "execution_count": 4,
   "id": "72549801-190e-4f2f-b05a-d65f533e208a",
   "metadata": {},
   "outputs": [],
   "source": [
    "# TEST_SPEAKERS_UNSEEN = ['s1', 's2', 's20', 's22']\n",
    "NUM_TEST_SENTENCES_OVERLAPPED = 200 \n",
    "SPLIT_MODE = 'overlapped' # Choose 'unseen' or 'overlapped'\n",
    "\n",
    "# Normalization constants\n",
    "NORM_MEAN = np.array([0.7136, 0.4906, 0.3283], dtype=np.float32)\n",
    "NORM_STD = np.array([0.1138, 0.1078, 0.0917], dtype=np.float32)"
   ]
  },
  {
   "cell_type": "code",
   "execution_count": 5,
   "id": "2513c15e-8248-48ef-8868-76f8d5b76333",
   "metadata": {},
   "outputs": [
    {
     "name": "stdout",
     "output_type": "stream",
     "text": [
      "The vocabulary is: ['a', 'b', 'c', 'd', 'e', 'f', 'g', 'h', 'i', 'j', 'k', 'l', 'm', 'n', 'o', 'p', 'q', 'r', 's', 't', 'u', 'v', 'w', 'x', 'y', 'z', ' '] (size =27)\n",
      "CTC Blank Index: 0\n",
      "Label Padding Value: 0\n"
     ]
    }
   ],
   "source": [
    "# --- Vocabulary ---\n",
    "vocab = [x for x in \"abcdefghijklmnopqrstuvwxyz \"]\n",
    "char_to_num_dict = {char: i + 1 for i, char in enumerate(vocab)} # Start indices from 1\n",
    "num_to_char_dict = {i + 1: char for i, char in enumerate(vocab)}\n",
    "# Add OOV/padding token if needed by your collate logic, but CTC uses blank\n",
    "VOCAB_SIZE = len(vocab)\n",
    "CTC_BLANK_INDEX = 0 # CTC blank is often index 0 by convention in PyTorch\n",
    "LABEL_PADDING_VALUE = CTC_BLANK_INDEX # Use blank index for padding labels\n",
    "\n",
    "print(\n",
    "    f\"The vocabulary is: {vocab} \"\n",
    "    f\"(size ={VOCAB_SIZE})\"\n",
    ")\n",
    "print(f\"CTC Blank Index: {CTC_BLANK_INDEX}\")\n",
    "print(f\"Label Padding Value: {LABEL_PADDING_VALUE}\")"
   ]
  },
  {
   "cell_type": "code",
   "execution_count": 6,
   "id": "edf8b369-4c32-4436-b361-58c60ac52760",
   "metadata": {},
   "outputs": [],
   "source": [
    "# --- Mouth Extraction (Mostly unchanged, ensure return type is numpy) ---\n",
    "try:\n",
    "    DLIB_LANDMARK_PREDICTOR = \"shape_predictor_68_face_landmarks.dat\"\n",
    "    if not os.path.exists(DLIB_LANDMARK_PREDICTOR):\n",
    "        # Add download/unzip logic here if needed, e.g., using requests/bz2\n",
    "        print(f\"Error: dlib landmark predictor '{DLIB_LANDMARK_PREDICTOR}' not found.\")\n",
    "        print(\"Please download it from http://dlib.net/files/shape_predictor_68_face_landmarks.dat.bz2\")\n",
    "        exit()\n",
    "    detector = dlib.get_frontal_face_detector()\n",
    "    predictor = dlib.shape_predictor(DLIB_LANDMARK_PREDICTOR)\n",
    "except Exception as e:\n",
    "    print(f\"Error initializing dlib: {e}\")\n",
    "    print(\"Make sure dlib is installed correctly and the predictor file exists.\")\n",
    "    exit()\n",
    "\n",
    "def extract_mouth_region(frame: np.ndarray) -> Optional[np.ndarray]:\n",
    "    gray = cv2.cvtColor(frame, cv2.COLOR_BGR2GRAY)\n",
    "    faces = detector(gray)\n",
    "    if len(faces) == 0:\n",
    "        return None\n",
    "    face = faces[0]\n",
    "    landmarks = predictor(gray, face)\n",
    "    points = np.array([(landmarks.part(n).x, landmarks.part(n).y) for n in range(48, 68)])\n",
    "\n",
    "    x, y, w, h = cv2.boundingRect(points)\n",
    "    # Adjust margins carefully - TF code used slightly different logic\n",
    "    # Let's try to match the TF code's effective crop:\n",
    "    y_start = max(y + 15 - 30, 0) # y + 15 was start, margin was 30\n",
    "    y_end = y + 15 + h + 30\n",
    "    x_start = max(x + 15 - 30, 0) # x + 15 was start, margin was 30\n",
    "    x_end = x + 15 + w + 30\n",
    "\n",
    "    # Ensure coordinates are within frame bounds\n",
    "    y_start = max(0, y_start)\n",
    "    y_end = min(frame.shape[0], y_end)\n",
    "    x_start = max(0, x_start)\n",
    "    x_end = min(frame.shape[1], x_end)\n",
    "\n",
    "    cropped = frame[y_start:y_end, x_start:x_end]\n",
    "\n",
    "    if cropped.size == 0: # Handle empty crop\n",
    "        return np.zeros((FRAME_HEIGHT, FRAME_WIDTH, 3), dtype=np.uint8)\n",
    "\n",
    "    try:\n",
    "        cropped = cv2.resize(cropped, (FRAME_WIDTH, FRAME_HEIGHT))\n",
    "        return cropped\n",
    "    except cv2.error as e:\n",
    "        print(f\"Warning: cv2.resize error ({e}). Returning zero frame.\")\n",
    "        return np.zeros((FRAME_HEIGHT, FRAME_WIDTH, 3), dtype=np.uint8)\n",
    "\n",
    "def process_and_save_video(video_path: str, output_dir: str) -> None:\n",
    "    \"\"\"Processes a single video, extracts mouth regions, and saves as .npy\"\"\"\n",
    "    try:\n",
    "        cap = cv2.VideoCapture(video_path)\n",
    "        if not cap.isOpened():\n",
    "            print(f\"Error opening video file: {video_path}\")\n",
    "            return None\n",
    "        frames = []\n",
    "        while True:\n",
    "            ret, frame = cap.read()\n",
    "            if not ret:\n",
    "                break\n",
    "            mouth_frame = extract_mouth_region(frame)\n",
    "            if mouth_frame is not None:\n",
    "                frames.append(mouth_frame)\n",
    "            else:\n",
    "                # If detection fails, append a zero frame\n",
    "                frames.append(np.zeros((FRAME_HEIGHT, FRAME_WIDTH, 3), dtype=np.uint8))\n",
    "        cap.release()\n",
    "\n",
    "        if not frames:\n",
    "            print(f\"Warning: No frames extracted from {video_path}\")\n",
    "            return None\n",
    "\n",
    "        # Ensure video has FRAME_COUNT frames (pad/truncate if needed)\n",
    "        frames_np = np.array(frames, dtype=np.uint8) # Keep as uint8 for now\n",
    "        current_frame_count = frames_np.shape[0]\n",
    "        if current_frame_count != FRAME_COUNT:\n",
    "             if current_frame_count > FRAME_COUNT:\n",
    "                 frames_np = frames_np[:FRAME_COUNT, ...]\n",
    "             else:\n",
    "                 pad_width = ((0, FRAME_COUNT - current_frame_count), (0, 0), (0, 0), (0, 0))\n",
    "                 frames_np = np.pad(frames_np, pad_width, mode='constant', constant_values=0)\n",
    "\n",
    "        video_id = os.path.splitext(os.path.basename(video_path))[0]\n",
    "        output_path = os.path.join(output_dir, f\"{video_id}_mouth.npy\")\n",
    "        np.save(output_path, frames_np)\n",
    "\n",
    "    except Exception as e:\n",
    "        print(f\"Error processing video {video_path}: {e}\")\n",
    "    return None\n",
    "\n",
    "\n",
    "# --- Function to preprocess all videos (Run only once) ---\n",
    "def preprocess_all_videos(force_reprocess=False):\n",
    "    print(\"Starting video preprocessing...\")\n",
    "    processed_count = 0\n",
    "    skipped_count = 0\n",
    "    for speaker_id in ALL_SPEAKER_IDS:\n",
    "        input_videos_dir = os.path.join('./data/', speaker_id, 'video') # Assuming video folder structure\n",
    "        output_preprocessed_dir = os.path.join(BASE_PROCESSED_PATH, speaker_id)\n",
    "        os.makedirs(output_preprocessed_dir, exist_ok=True)\n",
    "\n",
    "        print(f\"Processing speaker: {speaker_id}\")\n",
    "        video_files = glob.glob(os.path.join(input_videos_dir, '*.mpg')) # Assuming .mpg format\n",
    "\n",
    "        if not video_files:\n",
    "             print(f\"  Warning: No .mpg files found in {input_videos_dir}\")\n",
    "             continue\n",
    "\n",
    "        for video_file in tqdm(video_files, desc=f\"Speaker {speaker_id}\", unit=\"video\"):\n",
    "             video_id = os.path.splitext(os.path.basename(video_file))[0]\n",
    "             output_path = os.path.join(output_preprocessed_dir, f\"{video_id}_mouth.npy\")\n",
    "             if not force_reprocess and os.path.exists(output_path):\n",
    "                 skipped_count += 1\n",
    "                 continue\n",
    "             process_and_save_video(video_file, output_preprocessed_dir)\n",
    "             processed_count += 1\n",
    "\n",
    "    print(f\"\\nPreprocessing finished. Processed: {processed_count}, Skipped (already exists): {skipped_count}\")\n",
    "\n",
    "# --- UNCOMMENT AND RUN THIS ONCE TO PREPROCESS ---\n",
    "# preprocess_all_videos(force_reprocess=False)\n",
    "# print(\"Preprocessing complete. You can now comment out the preprocess_all_videos call.\")\n",
    "# --- END PREPROCESSING CALL ---"
   ]
  },
  {
   "cell_type": "code",
   "execution_count": 7,
   "id": "3473b7c4-e4a9-43b8-9ef0-40424b9e6203",
   "metadata": {},
   "outputs": [],
   "source": [
    "# --- GIF Creation (Unchanged) ---\n",
    "def create_gif_from_npy(npy_path: str, gif_path: str, duration: float = 0.04) -> None:\n",
    "    try:\n",
    "        frames = np.load(npy_path) # Should be uint8\n",
    "        imageio.mimsave(gif_path, frames, duration=duration)\n",
    "    except FileNotFoundError:\n",
    "        print(f\"Warning: Npy file not found at {npy_path}, cannot create GIF.\")\n",
    "    except Exception as e:\n",
    "        print(f\"Error creating GIF from {npy_path}: {e}\")\n",
    "    return None"
   ]
  },
  {
   "cell_type": "code",
   "execution_count": 8,
   "id": "8424bde4-0652-4476-a445-3757e6e72fbf",
   "metadata": {},
   "outputs": [],
   "source": [
    "# --- Alignment Loading (Unchanged, returns list of chars) ---\n",
    "def load_alignments(align_file: str) -> Optional[List[str]]:\n",
    "    alignments_chars = []\n",
    "    try:\n",
    "        with open(align_file, 'r') as f:\n",
    "            for line in f:\n",
    "                parts = line.strip().split()\n",
    "                if len(parts) != 3:\n",
    "                    continue\n",
    "                _, _, token = parts\n",
    "                if token != 'sil':\n",
    "                    token_characters = list(token.lower() + ' ')\n",
    "                    alignments_chars.extend(token_characters)\n",
    "        # Remove the trailing space from the last word\n",
    "        return alignments_chars[:-1] if alignments_chars else []\n",
    "    except FileNotFoundError:\n",
    "         print(f\"Warning: Alignment file not found: {align_file}\")\n",
    "         return None\n",
    "    except Exception as e:\n",
    "        print(f\"Error loading alignments {align_file}: {e}\")\n",
    "        return None"
   ]
  },
  {
   "cell_type": "code",
   "execution_count": 9,
   "id": "b14035da-9807-462e-9066-c4aca1bb0e73",
   "metadata": {},
   "outputs": [
    {
     "name": "stdout",
     "output_type": "stream",
     "text": [
      "['l', 'a', 'y', ' ', 'r', 'e', 'd', ' ', 'w', 'i', 't', 'h', ' ', 'z', ' ', 'f', 'o', 'u', 'r', ' ', 'p', 'l', 'e', 'a', 's', 'e']\n"
     ]
    }
   ],
   "source": [
    "example_alignment = load_alignments(\"./data/alignments/s1/lrwz4p.align\")\n",
    "print(example_alignment)"
   ]
  },
  {
   "cell_type": "code",
   "execution_count": 10,
   "id": "338b18fd-fec0-4a19-99ce-7fdbd8eb4e59",
   "metadata": {},
   "outputs": [
    {
     "name": "stdout",
     "output_type": "stream",
     "text": [
      "Using overlapped speakers split. 200 test sentences per speaker.\n",
      "Total files found: 995\n",
      "Training files: 795\n",
      "Test files: 200\n"
     ]
    }
   ],
   "source": [
    "# --- File Listing and Splitting ---\n",
    "all_npy_files = []\n",
    "for speaker_id in ALL_SPEAKER_IDS:\n",
    "    speaker_path = os.path.join(BASE_PROCESSED_PATH, speaker_id, '*.npy')\n",
    "    files = glob.glob(speaker_path)\n",
    "    if not files:\n",
    "        print(f\"Warning: No .npy files found for speaker {speaker_id} in {os.path.join(BASE_PROCESSED_PATH, speaker_id)}\")\n",
    "    all_npy_files.extend(files)\n",
    "\n",
    "if not all_npy_files:\n",
    "    raise FileNotFoundError(f\"No .npy files found in {BASE_PROCESSED_PATH} for speakers {ALL_SPEAKER_IDS}. Did preprocessing run?\")\n",
    "\n",
    "np.random.shuffle(all_npy_files)\n",
    "train_files, test_files = [], []\n",
    "\n",
    "if SPLIT_MODE == 'unseen':\n",
    "    print(f\"Using unseen speakers split. Test speakers: {TEST_SPEAKERS_UNSEEN}\")\n",
    "    for f in all_npy_files:\n",
    "        speaker_id = os.path.basename(os.path.dirname(f))\n",
    "        if speaker_id in TEST_SPEAKERS_UNSEEN:\n",
    "            test_files.append(f)\n",
    "        else:\n",
    "            train_files.append(f)\n",
    "elif SPLIT_MODE == 'overlapped':\n",
    "    print(f\"Using overlapped speakers split. {NUM_TEST_SENTENCES_OVERLAPPED} test sentences per speaker.\")\n",
    "    files_by_speaker = {}\n",
    "    for f in all_npy_files:\n",
    "        speaker_id = os.path.basename(os.path.dirname(f))\n",
    "        if speaker_id not in files_by_speaker:\n",
    "            files_by_speaker[speaker_id] = []\n",
    "        files_by_speaker[speaker_id].append(f)\n",
    "\n",
    "    for speaker_id, files in files_by_speaker.items():\n",
    "        np.random.shuffle(files)\n",
    "        test_count = min(NUM_TEST_SENTENCES_OVERLAPPED, len(files))\n",
    "        test_files.extend(files[:test_count])\n",
    "        train_files.extend(files[test_count:])\n",
    "else:\n",
    "    raise ValueError(\"Invalid SPLIT_MODE. Choose 'unseen' or 'overlapped'.\")\n",
    "\n",
    "print(f\"Total files found: {len(all_npy_files)}\")\n",
    "print(f\"Training files: {len(train_files)}\")\n",
    "print(f\"Test files: {len(test_files)}\")\n",
    "\n",
    "if not train_files or not test_files:\n",
    "    raise ValueError(\"Training or test set is empty. Check file paths and splitting logic.\")"
   ]
  },
  {
   "cell_type": "code",
   "execution_count": 11,
   "id": "834ccdb7-5ff3-44e1-a7d0-b3411f81f4ab",
   "metadata": {},
   "outputs": [],
   "source": [
    "# --- PyTorch Dataset ---\n",
    "class GRIDDataset(Dataset):\n",
    "    def __init__(self, file_paths: List[str], augment: bool = False):\n",
    "        self.file_paths = file_paths\n",
    "        self.augment = augment\n",
    "        self.target_frame_count = FRAME_COUNT # Define target length\n",
    "\n",
    "    def __len__(self):\n",
    "        return len(self.file_paths)\n",
    "\n",
    "    def __getitem__(self, idx):\n",
    "        npy_path = self.file_paths[idx]\n",
    "        try:\n",
    "            # --- Load Frames (Keep as uint8 for now) ---\n",
    "            # This part loads the preprocessed mouth crops saved earlier\n",
    "            frames_uint8 = np.load(npy_path)\n",
    "\n",
    "            if frames_uint8.ndim != 4 or frames_uint8.shape[1:] != (FRAME_HEIGHT, FRAME_WIDTH, FRAME_CHANNELS):\n",
    "                 print(f\"Warning: Unexpected shape {frames_uint8.shape} for {npy_path}. Skipping.\")\n",
    "                 # Return dummy data that collate_fn can handle/filter\n",
    "                 return torch.zeros((FRAME_COUNT, FRAME_HEIGHT, FRAME_WIDTH, FRAME_CHANNELS), dtype=torch.float32), \\\n",
    "                        torch.tensor([], dtype=torch.long)\n",
    "\n",
    "            # --- Ensure Correct Frame Count ---\n",
    "            current_frame_count = frames_uint8.shape[0]\n",
    "            if current_frame_count != self.target_frame_count:\n",
    "                if current_frame_count > self.target_frame_count:\n",
    "                    # Truncate\n",
    "                    frames_uint8 = frames_uint8[:self.target_frame_count, ...]\n",
    "                else:\n",
    "                    # Pad with zeros\n",
    "                    pad_width = ((0, self.target_frame_count - current_frame_count), (0, 0), (0, 0), (0, 0))\n",
    "                    # Ensure padding uses the correct dtype (uint8) before conversion\n",
    "                    frames_uint8 = np.pad(frames_uint8, pad_width, mode='constant', constant_values=0)\n",
    "\n",
    "            # --- Convert to Float, Normalize, Convert BGR->RGB ---\n",
    "            frames_float = frames_uint8.astype(np.float32) / 255.0\n",
    "            frames_rgb = frames_float[..., ::-1] # BGR to RGB\n",
    "            frames_normalized = (frames_rgb - NORM_MEAN) / NORM_STD\n",
    "            frames_tensor = torch.tensor(frames_normalized, dtype=torch.float32)\n",
    "            # Shape should now be guaranteed [75, 50, 100, 3]\n",
    "\n",
    "            # --- Get Alignments ---\n",
    "            # (Rest of your alignment loading logic remains the same)\n",
    "            parts = npy_path.split(os.path.sep)\n",
    "            speaker_id = parts[-2]\n",
    "            base_name = os.path.splitext(parts[-1])[0]\n",
    "            if base_name.endswith('_mouth'):\n",
    "                base_name = base_name[:-6]\n",
    "            align_file = os.path.join(BASE_ALIGN_PATH, speaker_id, f'{base_name}.align')\n",
    "            alignments_list = load_alignments(align_file)\n",
    "\n",
    "            if alignments_list is None:\n",
    "                print(f\"Skipping {npy_path} due to missing alignment.\")\n",
    "                return torch.zeros((FRAME_COUNT, FRAME_HEIGHT, FRAME_WIDTH, FRAME_CHANNELS), dtype=torch.float32), \\\n",
    "                       torch.tensor([], dtype=torch.long)\n",
    "\n",
    "            label_indices = [char_to_num_dict.get(char, CTC_BLANK_INDEX) for char in alignments_list] # Use blank for OOV\n",
    "            label_tensor = torch.tensor(label_indices, dtype=torch.long)\n",
    "\n",
    "            # --- Augmentation (Applied AFTER ensuring correct shape and normalization) ---\n",
    "            if self.augment and torch.rand(1).item() > 0.5:\n",
    "                frames_tensor = torch.flip(frames_tensor, dims=[2]) # Flip width dimension\n",
    "\n",
    "            return frames_tensor, label_tensor\n",
    "\n",
    "        except FileNotFoundError:\n",
    "            print(f\"Warning: File not found {npy_path}. Skipping.\")\n",
    "            return torch.zeros((FRAME_COUNT, FRAME_HEIGHT, FRAME_WIDTH, FRAME_CHANNELS), dtype=torch.float32), \\\n",
    "                   torch.tensor([], dtype=torch.long)\n",
    "        except Exception as e:\n",
    "            print(f\"Error loading item {idx} ({npy_path}): {e}\")\n",
    "            return torch.zeros((FRAME_COUNT, FRAME_HEIGHT, FRAME_WIDTH, FRAME_CHANNELS), dtype=torch.float32), \\\n",
    "                   torch.tensor([], dtype=torch.long)"
   ]
  },
  {
   "cell_type": "code",
   "execution_count": 12,
   "id": "e1976c66-cadc-42de-aadb-631fc8504b47",
   "metadata": {},
   "outputs": [],
   "source": [
    "# --- Collate Function ---\n",
    "def collate_fn(batch):\n",
    "    # Filter out samples where loading failed (indicated by empty label tensor)\n",
    "    batch = [(frames, labels) for frames, labels in batch if labels.numel() > 0]\n",
    "    if not batch:\n",
    "        # Return empty tensors if the whole batch failed\n",
    "        return torch.tensor([]), torch.tensor([]), torch.tensor([]), torch.tensor([])\n",
    "\n",
    "    # Separate frames and labels\n",
    "    frames_list, labels_list = zip(*batch)\n",
    "\n",
    "    # Stack frames (already same size T, H, W, C)\n",
    "    frames_batch = torch.stack(frames_list, dim=0)\n",
    "\n",
    "    # Pad labels\n",
    "    label_lengths = torch.tensor([len(lbl) for lbl in labels_list], dtype=torch.long)\n",
    "    labels_padded = pad_sequence(labels_list, batch_first=True, padding_value=LABEL_PADDING_VALUE)\n",
    "\n",
    "    # Input lengths for CTC (fixed frame count here)\n",
    "    input_lengths = torch.full(size=(len(batch),), fill_value=FRAME_COUNT, dtype=torch.long)\n",
    "\n",
    "    return frames_batch, labels_padded, input_lengths, label_lengths"
   ]
  },
  {
   "cell_type": "code",
   "execution_count": 13,
   "id": "5965b310-b0b2-4ce7-b6c0-cff303debedc",
   "metadata": {},
   "outputs": [
    {
     "name": "stdout",
     "output_type": "stream",
     "text": [
      "DataLoaders created.\n",
      "Train Batch Shapes: torch.Size([32, 75, 50, 100, 3]) torch.Size([32, 28]) torch.Size([32]) torch.Size([32])\n",
      "Test Batch Shapes: torch.Size([32, 75, 50, 100, 3]) torch.Size([32, 30]) torch.Size([32]) torch.Size([32])\n"
     ]
    }
   ],
   "source": [
    "# --- Data Loaders ---\n",
    "BATCH_SIZE_TRAIN = 32 # Adjust based on GPU memory\n",
    "BATCH_SIZE_TEST = 32\n",
    "\n",
    "train_dataset = GRIDDataset(train_files, augment=True)\n",
    "test_dataset = GRIDDataset(test_files, augment=False)\n",
    "\n",
    "train_loader = DataLoader(train_dataset, batch_size=BATCH_SIZE_TRAIN, shuffle=True,\n",
    "                          collate_fn=collate_fn, num_workers=4, pin_memory=True)\n",
    "test_loader = DataLoader(test_dataset, batch_size=BATCH_SIZE_TEST, shuffle=False,\n",
    "                         collate_fn=collate_fn, num_workers=4, pin_memory=True)\n",
    "\n",
    "print(\"DataLoaders created.\")\n",
    "# Optional: Test one batch\n",
    "try:\n",
    "    d_frames, d_labels, d_in_len, d_lbl_len = next(iter(train_loader))\n",
    "    print(\"Train Batch Shapes:\", d_frames.shape, d_labels.shape, d_in_len.shape, d_lbl_len.shape)\n",
    "    d_frames, d_labels, d_in_len, d_lbl_len = next(iter(test_loader))\n",
    "    print(\"Test Batch Shapes:\", d_frames.shape, d_labels.shape, d_in_len.shape, d_lbl_len.shape)\n",
    "except Exception as e:\n",
    "     print(f\"Error fetching batch: {e}\")\n"
   ]
  },
  {
   "cell_type": "code",
   "execution_count": 14,
   "id": "984a9fb3-c55e-4c55-af41-0d143b559140",
   "metadata": {},
   "outputs": [],
   "source": [
    "# --- PyTorch LipNet Model ---\n",
    "class LipNet(nn.Module):\n",
    "    def __init__(self, num_classes, dropout_p=DROPOUT_P):\n",
    "        super(LipNet, self).__init__()\n",
    "        self.num_classes = num_classes # Should include blank token\n",
    "        self.dropout_p = dropout_p\n",
    "\n",
    "        # Spatiotemporal Convolutional Layers (STCNN)\n",
    "        self.conv1 = nn.Conv3d(FRAME_CHANNELS, 32, kernel_size=(3, 5, 5), stride=(1, 2, 2), padding=(1, 2, 2))\n",
    "        self.bn1 = nn.BatchNorm3d(32)\n",
    "        self.pool1 = nn.MaxPool3d(kernel_size=(1, 2, 2), stride=(1, 2, 2))\n",
    "        self.drop1 = nn.Dropout3d(dropout_p) # Using Dropout3d for spatial dropout effect\n",
    "\n",
    "        self.conv2 = nn.Conv3d(32, 64, kernel_size=(3, 5, 5), stride=(1, 1, 1), padding=(1, 2, 2))\n",
    "        self.bn2 = nn.BatchNorm3d(64)\n",
    "        self.pool2 = nn.MaxPool3d(kernel_size=(1, 2, 2), stride=(1, 2, 2))\n",
    "        self.drop2 = nn.Dropout3d(dropout_p)\n",
    "\n",
    "        self.conv3 = nn.Conv3d(64, 96, kernel_size=(3, 3, 3), stride=(1, 1, 1), padding=(1, 1, 1))\n",
    "        self.bn3 = nn.BatchNorm3d(96)\n",
    "        self.pool3 = nn.MaxPool3d(kernel_size=(1, 2, 2), stride=(1, 2, 2))\n",
    "        self.drop3 = nn.Dropout3d(dropout_p)\n",
    "\n",
    "        # Calculate flattened feature size after STCNN and pooling\n",
    "        # Input: (N, C, T, H, W) = (N, 3, 75, 50, 100)\n",
    "        # After conv1+pool1: (N, 32, 75, 12, 25) # H=(50/2)/2=12, W=(100/2)/2=25\n",
    "        # After conv2+pool2: (N, 64, 75, 6, 12)  # H=(12/2)=6, W=(25/2)=12\n",
    "        # After conv3+pool3: (N, 96, 75, 3, 6)   # H=(6/2)=3, W=(12/2)=6\n",
    "        self.rnn_input_size = 96 * 3 * 6 # C_out * H_out * W_out\n",
    "\n",
    "        # Bidirectional GRU Layers\n",
    "        self.gru1 = nn.GRU(self.rnn_input_size, 256, bidirectional=True, batch_first=True)\n",
    "        self.drop_gru1 = nn.Dropout(dropout_p)\n",
    "        self.gru2 = nn.GRU(256 * 2, 256, bidirectional=True, batch_first=True) # Input size is doubled from previous BiGRU\n",
    "        self.drop_gru2 = nn.Dropout(dropout_p)\n",
    "\n",
    "        # Fully Connected Layer\n",
    "        self.fc = nn.Linear(256 * 2, self.num_classes)\n",
    "\n",
    "        # Initialize weights\n",
    "        self._initialize_weights()\n",
    "\n",
    "    def _initialize_weights(self):\n",
    "        # Kaiming (He) for Conv, Xavier (Glorot) for GRU kernel, Orthogonal for GRU recurrent\n",
    "        for m in self.modules():\n",
    "            if isinstance(m, nn.Conv3d):\n",
    "                init.kaiming_normal_(m.weight, mode='fan_out', nonlinearity='relu')\n",
    "                if m.bias is not None:\n",
    "                    init.constant_(m.bias, 0)\n",
    "            elif isinstance(m, nn.BatchNorm3d):\n",
    "                init.constant_(m.weight, 1)\n",
    "                init.constant_(m.bias, 0)\n",
    "            elif isinstance(m, nn.GRU):\n",
    "                for name, param in m.named_parameters():\n",
    "                    if 'weight_ih' in name: # Input-hidden weights\n",
    "                        init.xavier_uniform_(param.data)\n",
    "                    elif 'weight_hh' in name: # Hidden-hidden weights\n",
    "                        init.orthogonal_(param.data)\n",
    "                    elif 'bias' in name: # Biases\n",
    "                        init.constant_(param.data, 0)\n",
    "                        # Optional: Set forget gate bias to 1 (not directly applicable to GRU like LSTM)\n",
    "            elif isinstance(m, nn.Linear):\n",
    "                 init.kaiming_normal_(m.weight, mode='fan_out', nonlinearity='relu') # He for Dense\n",
    "                 if m.bias is not None:\n",
    "                    init.constant_(m.bias, 0)\n",
    "\n",
    "    def forward(self, x):\n",
    "        # Input shape: (N, T, H, W, C) from DataLoader\n",
    "        # Permute to (N, C, T, H, W) for Conv3D\n",
    "        x = x.permute(0, 4, 1, 2, 3).contiguous()\n",
    "\n",
    "        # STCNN blocks\n",
    "        x = self.conv1(x)\n",
    "        x = self.bn1(x)\n",
    "        x = F.relu(x)\n",
    "        x = self.pool1(x)\n",
    "        x = self.drop1(x)\n",
    "\n",
    "        x = self.conv2(x)\n",
    "        x = self.bn2(x)\n",
    "        x = F.relu(x)\n",
    "        x = self.pool2(x)\n",
    "        x = self.drop2(x)\n",
    "\n",
    "        x = self.conv3(x)\n",
    "        x = self.bn3(x)\n",
    "        x = F.relu(x)\n",
    "        x = self.pool3(x)\n",
    "        x = self.drop3(x)\n",
    "\n",
    "        # Reshape for RNN: (N, C, T, H, W) -> (N, T, C*H*W)\n",
    "        N, C, T, H, W = x.size()\n",
    "        x = x.permute(0, 2, 1, 3, 4).contiguous() # (N, T, C, H, W)\n",
    "        x = x.view(N, T, -1) # Flatten C, H, W dims\n",
    "\n",
    "        # Bi-GRU layers\n",
    "        x, _ = self.gru1(x)\n",
    "        x = self.drop_gru1(x)\n",
    "        x, _ = self.gru2(x)\n",
    "        x = self.drop_gru2(x)\n",
    "\n",
    "        # Fully Connected Layer\n",
    "        x = self.fc(x) # Output shape: (N, T, num_classes)\n",
    "\n",
    "        # Prepare for CTC Loss: (T, N, C) and apply log_softmax\n",
    "        x = x.permute(1, 0, 2).contiguous() # T, N, C\n",
    "        log_probs = F.log_softmax(x, dim=2)\n",
    "\n",
    "        return log_probs"
   ]
  },
  {
   "cell_type": "code",
   "execution_count": 15,
   "id": "5d8ccaaf-2b16-44e5-b40f-1a4a1d4b3dda",
   "metadata": {},
   "outputs": [
    {
     "name": "stdout",
     "output_type": "stream",
     "text": [
      "==========================================================================================\n",
      "Layer (type:depth-idx)                   Output Shape              Param #\n",
      "==========================================================================================\n",
      "LipNet                                   [75, 32, 28]              --\n",
      "├─Conv3d: 1-1                            [32, 32, 75, 25, 50]      7,232\n",
      "├─BatchNorm3d: 1-2                       [32, 32, 75, 25, 50]      64\n",
      "├─MaxPool3d: 1-3                         [32, 32, 75, 12, 25]      --\n",
      "├─Dropout3d: 1-4                         [32, 32, 75, 12, 25]      --\n",
      "├─Conv3d: 1-5                            [32, 64, 75, 12, 25]      153,664\n",
      "├─BatchNorm3d: 1-6                       [32, 64, 75, 12, 25]      128\n",
      "├─MaxPool3d: 1-7                         [32, 64, 75, 6, 12]       --\n",
      "├─Dropout3d: 1-8                         [32, 64, 75, 6, 12]       --\n",
      "├─Conv3d: 1-9                            [32, 96, 75, 6, 12]       165,984\n",
      "├─BatchNorm3d: 1-10                      [32, 96, 75, 6, 12]       192\n",
      "├─MaxPool3d: 1-11                        [32, 96, 75, 3, 6]        --\n",
      "├─Dropout3d: 1-12                        [32, 96, 75, 3, 6]        --\n",
      "├─GRU: 1-13                              [32, 75, 512]             3,050,496\n",
      "├─Dropout: 1-14                          [32, 75, 512]             --\n",
      "├─GRU: 1-15                              [32, 75, 512]             1,182,720\n",
      "├─Dropout: 1-16                          [32, 75, 512]             --\n",
      "├─Linear: 1-17                           [32, 75, 28]              14,364\n",
      "==========================================================================================\n",
      "Total params: 4,574,844\n",
      "Trainable params: 4,574,844\n",
      "Non-trainable params: 0\n",
      "Total mult-adds (Units.GIGABYTES): 171.18\n",
      "==========================================================================================\n",
      "Input size (MB): 144.00\n",
      "Forward/backward pass size (MB): 2558.90\n",
      "Params size (MB): 18.30\n",
      "Estimated Total Size (MB): 2721.20\n",
      "==========================================================================================\n"
     ]
    }
   ],
   "source": [
    "model = LipNet(num_classes=VOCAB_SIZE + 1).to(DEVICE) # +1 for blank\n",
    "\n",
    "# --- Optional: Print Model Summary (requires torchinfo) ---\n",
    "try:\n",
    "    from torchinfo import summary\n",
    "    # Input shape: (N, T, H, W, C)\n",
    "    print(summary(model, input_size=(BATCH_SIZE_TRAIN, FRAME_COUNT, FRAME_HEIGHT, FRAME_WIDTH, FRAME_CHANNELS)))\n",
    "except ImportError:\n",
    "    print(\"torchinfo not installed. Skipping model summary.\")\n",
    "    print(model)"
   ]
  },
  {
   "cell_type": "code",
   "execution_count": 16,
   "id": "884339bd-d7d2-4b0f-9a4f-7a1e8eaad87f",
   "metadata": {},
   "outputs": [],
   "source": [
    "# --- Loss Function ---\n",
    "# reduction='mean' averages loss over the batch\n",
    "# zero_infinity=True helps prevent NaN/inf gradients if loss explodes\n",
    "ctc_loss = nn.CTCLoss(blank=CTC_BLANK_INDEX, reduction='mean', zero_infinity=True)\n",
    "\n",
    "# --- Optimizer ---\n",
    "LEARNING_RATE = 1e-4\n",
    "optimizer = optim.Adam(model.parameters(), lr=LEARNING_RATE)"
   ]
  },
  {
   "cell_type": "code",
   "execution_count": 17,
   "id": "723e00e2-f449-4abb-b93d-a296fe8da20a",
   "metadata": {},
   "outputs": [],
   "source": [
    "# --- Checkpoint Path ---\n",
    "checkpoint_dir = 'models_pytorch'\n",
    "checkpoint_path = os.path.join(checkpoint_dir, 'lipnet_checkpoint.pth')\n",
    "os.makedirs(checkpoint_dir, exist_ok=True)"
   ]
  },
  {
   "cell_type": "code",
   "execution_count": 18,
   "id": "2c134986-8e30-41cb-a21d-11974017a273",
   "metadata": {},
   "outputs": [],
   "source": [
    "# --- Greedy CTC Decoder (for ProduceExample) ---\n",
    "def greedy_decoder(log_probs, input_lengths):\n",
    "    decoded_sequences = []\n",
    "    # log_probs shape: (T, N, C)\n",
    "    # input_lengths shape: (N,)\n",
    "    for i in range(log_probs.size(1)): # Iterate through batch\n",
    "        # Get relevant log_probs for this sample based on its input length\n",
    "        sample_log_probs = log_probs[:input_lengths[i], i, :]\n",
    "        # Get the best class index at each time step\n",
    "        best_path = torch.argmax(sample_log_probs, dim=1)\n",
    "        # Collapse repeated labels and remove blanks\n",
    "        decoded = []\n",
    "        last_char = -1\n",
    "        for char_idx in best_path:\n",
    "            idx = char_idx.item()\n",
    "            if idx != last_char and idx != CTC_BLANK_INDEX:\n",
    "                decoded.append(idx)\n",
    "            if idx != CTC_BLANK_INDEX: # Update last_char only if it's not blank\n",
    "                last_char = idx\n",
    "        decoded_sequences.append(decoded)\n",
    "    return decoded_sequences\n",
    "\n",
    "# --- ProduceExample Function (Replaces Keras Callback) ---\n",
    "def produce_example(model, dataset_loader, num_to_char_map):\n",
    "    model.eval() # Set model to evaluation mode\n",
    "    with torch.no_grad():\n",
    "        try:\n",
    "            # Get one batch from the provided loader (e.g., test_loader.take(1))\n",
    "            frames_batch, labels_batch, input_lengths, label_lengths = next(iter(dataset_loader))\n",
    "            frames_batch = frames_batch.to(DEVICE)\n",
    "            # No need to move labels/lengths to GPU for this function\n",
    "\n",
    "            log_probs = model(frames_batch) # Shape (T, N, C)\n",
    "            # Move log_probs back to CPU for decoding if necessary, ensure input_lengths is CPU tensor\n",
    "            log_probs_cpu = log_probs.cpu()\n",
    "            input_lengths_cpu = input_lengths.cpu()\n",
    "\n",
    "            # Greedy decoding\n",
    "            decoded_indices_list = greedy_decoder(log_probs_cpu, input_lengths_cpu)\n",
    "\n",
    "            print(\"\\n--- Example Predictions ---\")\n",
    "            N_EXAMPLES_TO_SHOW = min(2, frames_batch.size(0))\n",
    "            for i in range(N_EXAMPLES_TO_SHOW):\n",
    "                # Original Label\n",
    "                original_indices = labels_batch[i][:label_lengths[i]].tolist()\n",
    "                original_text = \"\".join([num_to_char_map.get(idx, '?') for idx in original_indices])\n",
    "                print(f'Original:     {original_text}')\n",
    "\n",
    "                # Prediction\n",
    "                prediction_indices = decoded_indices_list[i]\n",
    "                print(f'Filtered Idx: {prediction_indices}') # For debugging\n",
    "                prediction_text = \"\".join([num_to_char_map.get(idx, '?') for idx in prediction_indices])\n",
    "                print(f'Prediction:   {prediction_text}')\n",
    "                print('-'*50)\n",
    "            print(\"--- End Examples ---\\n\")\n",
    "\n",
    "        except StopIteration:\n",
    "            print(\"Warning: Could not get a batch from the dataset loader for ProduceExample.\")\n",
    "        except Exception as e:\n",
    "            print(f\"Error during ProduceExample: {e}\")\n",
    "    model.train() # Set model back to training mode"
   ]
  },
  {
   "cell_type": "code",
   "execution_count": 24,
   "id": "e1edb1f6-c6be-4826-a7f8-2f2cc37043e4",
   "metadata": {},
   "outputs": [
    {
     "name": "stdout",
     "output_type": "stream",
     "text": [
      "Loading checkpoint from models_pytorch/lipnet_checkpoint.pth\n",
      "Resuming training from epoch 10, Best loss: 5.6313\n",
      "\n",
      "Starting Training...\n",
      "Training batches per epoch: 25\n",
      "Validation batches per epoch: 7\n",
      "\n",
      "Epoch 11/100\n"
     ]
    },
    {
     "name": "stderr",
     "output_type": "stream",
     "text": [
      "Epoch 11 Train: 100%|██████████| 25/25 [00:15<00:00,  1.60it/s, loss=3.57]"
     ]
    },
    {
     "name": "stdout",
     "output_type": "stream",
     "text": [
      "Epoch 11 Training Loss: 3.5723\n"
     ]
    },
    {
     "name": "stderr",
     "output_type": "stream",
     "text": [
      "\n",
      "Epoch 11 Val: 100%|██████████| 7/7 [00:02<00:00,  3.24it/s, val_loss=5.62]\n"
     ]
    },
    {
     "name": "stdout",
     "output_type": "stream",
     "text": [
      "Epoch 11 Validation Loss: 5.6227\n",
      "Validation loss improved from 5.6313 to 5.6227, saving model to models_pytorch/lipnet_checkpoint.pth\n",
      "\n",
      "Epoch 12/100\n"
     ]
    },
    {
     "name": "stderr",
     "output_type": "stream",
     "text": [
      "Epoch 12 Train: 100%|██████████| 25/25 [00:15<00:00,  1.58it/s, loss=3.48]"
     ]
    },
    {
     "name": "stdout",
     "output_type": "stream",
     "text": [
      "Epoch 12 Training Loss: 3.4782\n"
     ]
    },
    {
     "name": "stderr",
     "output_type": "stream",
     "text": [
      "\n",
      "Epoch 12 Val: 100%|██████████| 7/7 [00:02<00:00,  3.06it/s, val_loss=4.99]\n"
     ]
    },
    {
     "name": "stdout",
     "output_type": "stream",
     "text": [
      "Epoch 12 Validation Loss: 4.9936\n",
      "Validation loss improved from 5.6227 to 4.9936, saving model to models_pytorch/lipnet_checkpoint.pth\n",
      "\n",
      "Epoch 13/100\n"
     ]
    },
    {
     "name": "stderr",
     "output_type": "stream",
     "text": [
      "Epoch 13 Train: 100%|██████████| 25/25 [00:16<00:00,  1.55it/s, loss=3.37]"
     ]
    },
    {
     "name": "stdout",
     "output_type": "stream",
     "text": [
      "Epoch 13 Training Loss: 3.3737\n"
     ]
    },
    {
     "name": "stderr",
     "output_type": "stream",
     "text": [
      "\n",
      "Epoch 13 Val: 100%|██████████| 7/7 [00:02<00:00,  3.10it/s, val_loss=5.07]"
     ]
    },
    {
     "name": "stdout",
     "output_type": "stream",
     "text": [
      "Epoch 13 Validation Loss: 5.0674\n",
      "Validation loss (5.0674) did not improve from 4.9936\n",
      "\n",
      "Epoch 14/100\n"
     ]
    },
    {
     "name": "stderr",
     "output_type": "stream",
     "text": [
      "\n",
      "Epoch 14 Train: 100%|██████████| 25/25 [00:16<00:00,  1.55it/s, loss=3.27]"
     ]
    },
    {
     "name": "stdout",
     "output_type": "stream",
     "text": [
      "Epoch 14 Training Loss: 3.2679\n"
     ]
    },
    {
     "name": "stderr",
     "output_type": "stream",
     "text": [
      "\n",
      "Epoch 14 Val: 100%|██████████| 7/7 [00:02<00:00,  3.17it/s, val_loss=4.5] \n"
     ]
    },
    {
     "name": "stdout",
     "output_type": "stream",
     "text": [
      "Epoch 14 Validation Loss: 4.5019\n",
      "Validation loss improved from 4.9936 to 4.5019, saving model to models_pytorch/lipnet_checkpoint.pth\n",
      "\n",
      "Epoch 15/100\n"
     ]
    },
    {
     "name": "stderr",
     "output_type": "stream",
     "text": [
      "Epoch 15 Train: 100%|██████████| 25/25 [00:15<00:00,  1.57it/s, loss=3.17]"
     ]
    },
    {
     "name": "stdout",
     "output_type": "stream",
     "text": [
      "Epoch 15 Training Loss: 3.1715\n"
     ]
    },
    {
     "name": "stderr",
     "output_type": "stream",
     "text": [
      "\n",
      "Epoch 15 Val: 100%|██████████| 7/7 [00:02<00:00,  3.24it/s, val_loss=4.39]\n"
     ]
    },
    {
     "name": "stdout",
     "output_type": "stream",
     "text": [
      "Epoch 15 Validation Loss: 4.3916\n",
      "Validation loss improved from 4.5019 to 4.3916, saving model to models_pytorch/lipnet_checkpoint.pth\n",
      "\n",
      "Epoch 16/100\n"
     ]
    },
    {
     "name": "stderr",
     "output_type": "stream",
     "text": [
      "Epoch 16 Train: 100%|██████████| 25/25 [00:15<00:00,  1.57it/s, loss=3.11]"
     ]
    },
    {
     "name": "stdout",
     "output_type": "stream",
     "text": [
      "Epoch 16 Training Loss: 3.1084\n"
     ]
    },
    {
     "name": "stderr",
     "output_type": "stream",
     "text": [
      "\n",
      "Epoch 16 Val: 100%|██████████| 7/7 [00:02<00:00,  3.28it/s, val_loss=3.86]\n"
     ]
    },
    {
     "name": "stdout",
     "output_type": "stream",
     "text": [
      "Epoch 16 Validation Loss: 3.8554\n",
      "Validation loss improved from 4.3916 to 3.8554, saving model to models_pytorch/lipnet_checkpoint.pth\n",
      "\n",
      "Epoch 17/100\n"
     ]
    },
    {
     "name": "stderr",
     "output_type": "stream",
     "text": [
      "Epoch 17 Train: 100%|██████████| 25/25 [00:15<00:00,  1.57it/s, loss=3.05]"
     ]
    },
    {
     "name": "stdout",
     "output_type": "stream",
     "text": [
      "Epoch 17 Training Loss: 3.0481\n"
     ]
    },
    {
     "name": "stderr",
     "output_type": "stream",
     "text": [
      "\n",
      "Epoch 17 Val: 100%|██████████| 7/7 [00:02<00:00,  3.17it/s, val_loss=3.91]"
     ]
    },
    {
     "name": "stdout",
     "output_type": "stream",
     "text": [
      "Epoch 17 Validation Loss: 3.9138\n",
      "Validation loss (3.9138) did not improve from 3.8554\n",
      "\n",
      "Epoch 18/100\n"
     ]
    },
    {
     "name": "stderr",
     "output_type": "stream",
     "text": [
      "\n",
      "Epoch 18 Train: 100%|██████████| 25/25 [00:16<00:00,  1.56it/s, loss=3.01]"
     ]
    },
    {
     "name": "stdout",
     "output_type": "stream",
     "text": [
      "Epoch 18 Training Loss: 3.0094\n"
     ]
    },
    {
     "name": "stderr",
     "output_type": "stream",
     "text": [
      "\n",
      "Epoch 18 Val: 100%|██████████| 7/7 [00:02<00:00,  3.18it/s, val_loss=3.96]"
     ]
    },
    {
     "name": "stdout",
     "output_type": "stream",
     "text": [
      "Epoch 18 Validation Loss: 3.9615\n",
      "Validation loss (3.9615) did not improve from 3.8554\n",
      "\n",
      "Epoch 19/100\n"
     ]
    },
    {
     "name": "stderr",
     "output_type": "stream",
     "text": [
      "\n",
      "Epoch 19 Train: 100%|██████████| 25/25 [00:16<00:00,  1.56it/s, loss=2.99]"
     ]
    },
    {
     "name": "stdout",
     "output_type": "stream",
     "text": [
      "Epoch 19 Training Loss: 2.9869\n"
     ]
    },
    {
     "name": "stderr",
     "output_type": "stream",
     "text": [
      "\n",
      "Epoch 19 Val: 100%|██████████| 7/7 [00:02<00:00,  2.95it/s, val_loss=3.55]\n"
     ]
    },
    {
     "name": "stdout",
     "output_type": "stream",
     "text": [
      "Epoch 19 Validation Loss: 3.5453\n",
      "Validation loss improved from 3.8554 to 3.5453, saving model to models_pytorch/lipnet_checkpoint.pth\n",
      "\n",
      "Epoch 20/100\n"
     ]
    },
    {
     "name": "stderr",
     "output_type": "stream",
     "text": [
      "Epoch 20 Train: 100%|██████████| 25/25 [00:15<00:00,  1.58it/s, loss=2.96]"
     ]
    },
    {
     "name": "stdout",
     "output_type": "stream",
     "text": [
      "Epoch 20 Training Loss: 2.9576\n"
     ]
    },
    {
     "name": "stderr",
     "output_type": "stream",
     "text": [
      "\n",
      "Epoch 20 Val: 100%|██████████| 7/7 [00:02<00:00,  3.11it/s, val_loss=3.3] \n"
     ]
    },
    {
     "name": "stdout",
     "output_type": "stream",
     "text": [
      "Epoch 20 Validation Loss: 3.3019\n",
      "Validation loss improved from 3.5453 to 3.3019, saving model to models_pytorch/lipnet_checkpoint.pth\n",
      "\n",
      "--- Example Predictions ---\n",
      "Original:     place green with r seven again\n",
      "Filtered Idx: []\n",
      "Prediction:   \n",
      "--------------------------------------------------\n",
      "Original:     bin green with u nine again\n",
      "Filtered Idx: []\n",
      "Prediction:   \n",
      "--------------------------------------------------\n",
      "--- End Examples ---\n",
      "\n",
      "\n",
      "Epoch 21/100\n"
     ]
    },
    {
     "name": "stderr",
     "output_type": "stream",
     "text": [
      "Epoch 21 Train: 100%|██████████| 25/25 [00:15<00:00,  1.56it/s, loss=2.91]"
     ]
    },
    {
     "name": "stdout",
     "output_type": "stream",
     "text": [
      "Epoch 21 Training Loss: 2.9064\n"
     ]
    },
    {
     "name": "stderr",
     "output_type": "stream",
     "text": [
      "\n",
      "Epoch 21 Val: 100%|██████████| 7/7 [00:02<00:00,  3.14it/s, val_loss=3.5] "
     ]
    },
    {
     "name": "stdout",
     "output_type": "stream",
     "text": [
      "Epoch 21 Validation Loss: 3.4981\n",
      "Validation loss (3.4981) did not improve from 3.3019\n",
      "\n",
      "Epoch 22/100\n"
     ]
    },
    {
     "name": "stderr",
     "output_type": "stream",
     "text": [
      "\n",
      "Epoch 22 Train: 100%|██████████| 25/25 [00:16<00:00,  1.55it/s, loss=2.89]"
     ]
    },
    {
     "name": "stdout",
     "output_type": "stream",
     "text": [
      "Epoch 22 Training Loss: 2.8879\n"
     ]
    },
    {
     "name": "stderr",
     "output_type": "stream",
     "text": [
      "\n",
      "Epoch 22 Val: 100%|██████████| 7/7 [00:02<00:00,  3.12it/s, val_loss=3.43]"
     ]
    },
    {
     "name": "stdout",
     "output_type": "stream",
     "text": [
      "Epoch 22 Validation Loss: 3.4335\n",
      "Validation loss (3.4335) did not improve from 3.3019\n",
      "\n",
      "Epoch 23/100\n"
     ]
    },
    {
     "name": "stderr",
     "output_type": "stream",
     "text": [
      "\n",
      "Epoch 23 Train: 100%|██████████| 25/25 [00:16<00:00,  1.56it/s, loss=2.87]"
     ]
    },
    {
     "name": "stdout",
     "output_type": "stream",
     "text": [
      "Epoch 23 Training Loss: 2.8676\n"
     ]
    },
    {
     "name": "stderr",
     "output_type": "stream",
     "text": [
      "\n",
      "Epoch 23 Val: 100%|██████████| 7/7 [00:02<00:00,  3.10it/s, val_loss=3.45]"
     ]
    },
    {
     "name": "stdout",
     "output_type": "stream",
     "text": [
      "Epoch 23 Validation Loss: 3.4461\n",
      "Validation loss (3.4461) did not improve from 3.3019\n",
      "\n",
      "Epoch 24/100\n"
     ]
    },
    {
     "name": "stderr",
     "output_type": "stream",
     "text": [
      "\n",
      "Epoch 24 Train: 100%|██████████| 25/25 [00:15<00:00,  1.57it/s, loss=2.84]"
     ]
    },
    {
     "name": "stdout",
     "output_type": "stream",
     "text": [
      "Epoch 24 Training Loss: 2.8418\n"
     ]
    },
    {
     "name": "stderr",
     "output_type": "stream",
     "text": [
      "\n",
      "Epoch 24 Val: 100%|██████████| 7/7 [00:02<00:00,  3.12it/s, val_loss=3.2] \n"
     ]
    },
    {
     "name": "stdout",
     "output_type": "stream",
     "text": [
      "Epoch 24 Validation Loss: 3.2002\n",
      "Validation loss improved from 3.3019 to 3.2002, saving model to models_pytorch/lipnet_checkpoint.pth\n",
      "\n",
      "Epoch 25/100\n"
     ]
    },
    {
     "name": "stderr",
     "output_type": "stream",
     "text": [
      "Epoch 25 Train: 100%|██████████| 25/25 [00:15<00:00,  1.56it/s, loss=2.83]"
     ]
    },
    {
     "name": "stdout",
     "output_type": "stream",
     "text": [
      "Epoch 25 Training Loss: 2.8291\n"
     ]
    },
    {
     "name": "stderr",
     "output_type": "stream",
     "text": [
      "\n",
      "Epoch 25 Val: 100%|██████████| 7/7 [00:02<00:00,  3.05it/s, val_loss=3.03]\n"
     ]
    },
    {
     "name": "stdout",
     "output_type": "stream",
     "text": [
      "Epoch 25 Validation Loss: 3.0337\n",
      "Validation loss improved from 3.2002 to 3.0337, saving model to models_pytorch/lipnet_checkpoint.pth\n",
      "\n",
      "Epoch 26/100\n"
     ]
    },
    {
     "name": "stderr",
     "output_type": "stream",
     "text": [
      "Epoch 26 Train: 100%|██████████| 25/25 [00:16<00:00,  1.55it/s, loss=2.82]"
     ]
    },
    {
     "name": "stdout",
     "output_type": "stream",
     "text": [
      "Epoch 26 Training Loss: 2.8239\n"
     ]
    },
    {
     "name": "stderr",
     "output_type": "stream",
     "text": [
      "\n",
      "Epoch 26 Val: 100%|██████████| 7/7 [00:02<00:00,  3.20it/s, val_loss=3.25]"
     ]
    },
    {
     "name": "stdout",
     "output_type": "stream",
     "text": [
      "Epoch 26 Validation Loss: 3.2514\n",
      "Validation loss (3.2514) did not improve from 3.0337\n",
      "\n",
      "Epoch 27/100\n"
     ]
    },
    {
     "name": "stderr",
     "output_type": "stream",
     "text": [
      "\n",
      "Epoch 27 Train: 100%|██████████| 25/25 [00:16<00:00,  1.55it/s, loss=2.81]"
     ]
    },
    {
     "name": "stdout",
     "output_type": "stream",
     "text": [
      "Epoch 27 Training Loss: 2.8079\n"
     ]
    },
    {
     "name": "stderr",
     "output_type": "stream",
     "text": [
      "\n",
      "Epoch 27 Val: 100%|██████████| 7/7 [00:02<00:00,  2.86it/s, val_loss=2.97]\n"
     ]
    },
    {
     "name": "stdout",
     "output_type": "stream",
     "text": [
      "Epoch 27 Validation Loss: 2.9733\n",
      "Validation loss improved from 3.0337 to 2.9733, saving model to models_pytorch/lipnet_checkpoint.pth\n",
      "\n",
      "Epoch 28/100\n"
     ]
    },
    {
     "name": "stderr",
     "output_type": "stream",
     "text": [
      "Epoch 28 Train: 100%|██████████| 25/25 [00:16<00:00,  1.55it/s, loss=2.79]"
     ]
    },
    {
     "name": "stdout",
     "output_type": "stream",
     "text": [
      "Epoch 28 Training Loss: 2.7907\n"
     ]
    },
    {
     "name": "stderr",
     "output_type": "stream",
     "text": [
      "\n",
      "Epoch 28 Val: 100%|██████████| 7/7 [00:02<00:00,  3.18it/s, val_loss=3.33]"
     ]
    },
    {
     "name": "stdout",
     "output_type": "stream",
     "text": [
      "Epoch 28 Validation Loss: 3.3320\n",
      "Validation loss (3.3320) did not improve from 2.9733\n",
      "\n",
      "Epoch 29/100\n"
     ]
    },
    {
     "name": "stderr",
     "output_type": "stream",
     "text": [
      "\n",
      "Epoch 29 Train: 100%|██████████| 25/25 [00:16<00:00,  1.54it/s, loss=2.79]"
     ]
    },
    {
     "name": "stdout",
     "output_type": "stream",
     "text": [
      "Epoch 29 Training Loss: 2.7892\n"
     ]
    },
    {
     "name": "stderr",
     "output_type": "stream",
     "text": [
      "\n",
      "Epoch 29 Val: 100%|██████████| 7/7 [00:02<00:00,  3.17it/s, val_loss=3.08]"
     ]
    },
    {
     "name": "stdout",
     "output_type": "stream",
     "text": [
      "Epoch 29 Validation Loss: 3.0807\n",
      "Validation loss (3.0807) did not improve from 2.9733\n",
      "\n",
      "Epoch 30/100\n"
     ]
    },
    {
     "name": "stderr",
     "output_type": "stream",
     "text": [
      "\n",
      "Epoch 30 Train: 100%|██████████| 25/25 [00:15<00:00,  1.57it/s, loss=2.77]"
     ]
    },
    {
     "name": "stdout",
     "output_type": "stream",
     "text": [
      "Epoch 30 Training Loss: 2.7744\n"
     ]
    },
    {
     "name": "stderr",
     "output_type": "stream",
     "text": [
      "\n",
      "Epoch 30 Val: 100%|██████████| 7/7 [00:02<00:00,  3.11it/s, val_loss=3.02]"
     ]
    },
    {
     "name": "stdout",
     "output_type": "stream",
     "text": [
      "Epoch 30 Validation Loss: 3.0170\n",
      "Validation loss (3.0170) did not improve from 2.9733\n"
     ]
    },
    {
     "name": "stderr",
     "output_type": "stream",
     "text": [
      "\n"
     ]
    },
    {
     "name": "stdout",
     "output_type": "stream",
     "text": [
      "\n",
      "--- Example Predictions ---\n",
      "Original:     place green with r seven again\n",
      "Filtered Idx: []\n",
      "Prediction:   \n",
      "--------------------------------------------------\n",
      "Original:     bin green with u nine again\n",
      "Filtered Idx: []\n",
      "Prediction:   \n",
      "--------------------------------------------------\n",
      "--- End Examples ---\n",
      "\n",
      "\n",
      "Epoch 31/100\n"
     ]
    },
    {
     "name": "stderr",
     "output_type": "stream",
     "text": [
      "Epoch 31 Train: 100%|██████████| 25/25 [00:15<00:00,  1.57it/s, loss=2.76]"
     ]
    },
    {
     "name": "stdout",
     "output_type": "stream",
     "text": [
      "Epoch 31 Training Loss: 2.7570\n"
     ]
    },
    {
     "name": "stderr",
     "output_type": "stream",
     "text": [
      "\n",
      "Epoch 31 Val: 100%|██████████| 7/7 [00:02<00:00,  3.08it/s, val_loss=2.91]\n"
     ]
    },
    {
     "name": "stdout",
     "output_type": "stream",
     "text": [
      "Epoch 31 Validation Loss: 2.9103\n",
      "Validation loss improved from 2.9733 to 2.9103, saving model to models_pytorch/lipnet_checkpoint.pth\n",
      "\n",
      "Epoch 32/100\n"
     ]
    },
    {
     "name": "stderr",
     "output_type": "stream",
     "text": [
      "Epoch 32 Train: 100%|██████████| 25/25 [00:16<00:00,  1.56it/s, loss=2.75]"
     ]
    },
    {
     "name": "stdout",
     "output_type": "stream",
     "text": [
      "Epoch 32 Training Loss: 2.7511\n"
     ]
    },
    {
     "name": "stderr",
     "output_type": "stream",
     "text": [
      "\n",
      "Epoch 32 Val: 100%|██████████| 7/7 [00:02<00:00,  3.24it/s, val_loss=2.92]"
     ]
    },
    {
     "name": "stdout",
     "output_type": "stream",
     "text": [
      "Epoch 32 Validation Loss: 2.9248\n",
      "Validation loss (2.9248) did not improve from 2.9103\n",
      "\n",
      "Epoch 33/100\n"
     ]
    },
    {
     "name": "stderr",
     "output_type": "stream",
     "text": [
      "\n",
      "Epoch 33 Train: 100%|██████████| 25/25 [00:15<00:00,  1.56it/s, loss=2.74]"
     ]
    },
    {
     "name": "stdout",
     "output_type": "stream",
     "text": [
      "Epoch 33 Training Loss: 2.7373\n"
     ]
    },
    {
     "name": "stderr",
     "output_type": "stream",
     "text": [
      "\n",
      "Epoch 33 Val: 100%|██████████| 7/7 [00:02<00:00,  3.05it/s, val_loss=2.92]"
     ]
    },
    {
     "name": "stdout",
     "output_type": "stream",
     "text": [
      "Epoch 33 Validation Loss: 2.9154\n",
      "Validation loss (2.9154) did not improve from 2.9103\n",
      "\n",
      "Epoch 34/100\n"
     ]
    },
    {
     "name": "stderr",
     "output_type": "stream",
     "text": [
      "\n",
      "Epoch 34 Train: 100%|██████████| 25/25 [00:15<00:00,  1.57it/s, loss=2.73]"
     ]
    },
    {
     "name": "stdout",
     "output_type": "stream",
     "text": [
      "Epoch 34 Training Loss: 2.7318\n"
     ]
    },
    {
     "name": "stderr",
     "output_type": "stream",
     "text": [
      "\n",
      "Epoch 34 Val: 100%|██████████| 7/7 [00:02<00:00,  3.19it/s, val_loss=2.94]"
     ]
    },
    {
     "name": "stdout",
     "output_type": "stream",
     "text": [
      "Epoch 34 Validation Loss: 2.9429\n",
      "Validation loss (2.9429) did not improve from 2.9103\n",
      "\n",
      "Epoch 35/100\n"
     ]
    },
    {
     "name": "stderr",
     "output_type": "stream",
     "text": [
      "\n",
      "Epoch 35 Train: 100%|██████████| 25/25 [00:15<00:00,  1.57it/s, loss=2.73]"
     ]
    },
    {
     "name": "stdout",
     "output_type": "stream",
     "text": [
      "Epoch 35 Training Loss: 2.7259\n"
     ]
    },
    {
     "name": "stderr",
     "output_type": "stream",
     "text": [
      "\n",
      "Epoch 35 Val: 100%|██████████| 7/7 [00:02<00:00,  3.07it/s, val_loss=2.88]\n"
     ]
    },
    {
     "name": "stdout",
     "output_type": "stream",
     "text": [
      "Epoch 35 Validation Loss: 2.8818\n",
      "Validation loss improved from 2.9103 to 2.8818, saving model to models_pytorch/lipnet_checkpoint.pth\n",
      "\n",
      "Epoch 36/100\n"
     ]
    },
    {
     "name": "stderr",
     "output_type": "stream",
     "text": [
      "Epoch 36 Train: 100%|██████████| 25/25 [00:15<00:00,  1.57it/s, loss=2.71]"
     ]
    },
    {
     "name": "stdout",
     "output_type": "stream",
     "text": [
      "Epoch 36 Training Loss: 2.7134\n"
     ]
    },
    {
     "name": "stderr",
     "output_type": "stream",
     "text": [
      "\n",
      "Epoch 36 Val: 100%|██████████| 7/7 [00:02<00:00,  3.07it/s, val_loss=2.95]"
     ]
    },
    {
     "name": "stdout",
     "output_type": "stream",
     "text": [
      "Epoch 36 Validation Loss: 2.9488\n",
      "Validation loss (2.9488) did not improve from 2.8818\n",
      "\n",
      "Epoch 37/100\n"
     ]
    },
    {
     "name": "stderr",
     "output_type": "stream",
     "text": [
      "\n",
      "Epoch 37 Train: 100%|██████████| 25/25 [00:16<00:00,  1.56it/s, loss=2.71]"
     ]
    },
    {
     "name": "stdout",
     "output_type": "stream",
     "text": [
      "Epoch 37 Training Loss: 2.7116\n"
     ]
    },
    {
     "name": "stderr",
     "output_type": "stream",
     "text": [
      "\n",
      "Epoch 37 Val: 100%|██████████| 7/7 [00:02<00:00,  3.14it/s, val_loss=2.82]\n"
     ]
    },
    {
     "name": "stdout",
     "output_type": "stream",
     "text": [
      "Epoch 37 Validation Loss: 2.8166\n",
      "Validation loss improved from 2.8818 to 2.8166, saving model to models_pytorch/lipnet_checkpoint.pth\n",
      "\n",
      "Epoch 38/100\n"
     ]
    },
    {
     "name": "stderr",
     "output_type": "stream",
     "text": [
      "Epoch 38 Train: 100%|██████████| 25/25 [00:15<00:00,  1.57it/s, loss=2.71]"
     ]
    },
    {
     "name": "stdout",
     "output_type": "stream",
     "text": [
      "Epoch 38 Training Loss: 2.7112\n"
     ]
    },
    {
     "name": "stderr",
     "output_type": "stream",
     "text": [
      "\n",
      "Epoch 38 Val: 100%|██████████| 7/7 [00:02<00:00,  3.07it/s, val_loss=2.92]"
     ]
    },
    {
     "name": "stdout",
     "output_type": "stream",
     "text": [
      "Epoch 38 Validation Loss: 2.9198\n",
      "Validation loss (2.9198) did not improve from 2.8166\n",
      "\n",
      "Epoch 39/100\n"
     ]
    },
    {
     "name": "stderr",
     "output_type": "stream",
     "text": [
      "\n",
      "Epoch 39 Train: 100%|██████████| 25/25 [00:15<00:00,  1.57it/s, loss=2.7]"
     ]
    },
    {
     "name": "stdout",
     "output_type": "stream",
     "text": [
      "Epoch 39 Training Loss: 2.6989\n"
     ]
    },
    {
     "name": "stderr",
     "output_type": "stream",
     "text": [
      "\n",
      "Epoch 39 Val: 100%|██████████| 7/7 [00:02<00:00,  2.93it/s, val_loss=2.79]\n"
     ]
    },
    {
     "name": "stdout",
     "output_type": "stream",
     "text": [
      "Epoch 39 Validation Loss: 2.7876\n",
      "Validation loss improved from 2.8166 to 2.7876, saving model to models_pytorch/lipnet_checkpoint.pth\n",
      "\n",
      "Epoch 40/100\n"
     ]
    },
    {
     "name": "stderr",
     "output_type": "stream",
     "text": [
      "Epoch 40 Train: 100%|██████████| 25/25 [00:15<00:00,  1.57it/s, loss=2.7] "
     ]
    },
    {
     "name": "stdout",
     "output_type": "stream",
     "text": [
      "Epoch 40 Training Loss: 2.7007\n"
     ]
    },
    {
     "name": "stderr",
     "output_type": "stream",
     "text": [
      "\n",
      "Epoch 40 Val: 100%|██████████| 7/7 [00:02<00:00,  3.15it/s, val_loss=2.8] "
     ]
    },
    {
     "name": "stdout",
     "output_type": "stream",
     "text": [
      "Epoch 40 Validation Loss: 2.7989\n",
      "Validation loss (2.7989) did not improve from 2.7876\n"
     ]
    },
    {
     "name": "stderr",
     "output_type": "stream",
     "text": [
      "\n"
     ]
    },
    {
     "name": "stdout",
     "output_type": "stream",
     "text": [
      "\n",
      "--- Example Predictions ---\n",
      "Original:     place green with r seven again\n",
      "Filtered Idx: []\n",
      "Prediction:   \n",
      "--------------------------------------------------\n",
      "Original:     bin green with u nine again\n",
      "Filtered Idx: []\n",
      "Prediction:   \n",
      "--------------------------------------------------\n",
      "--- End Examples ---\n",
      "\n",
      "\n",
      "Epoch 41/100\n"
     ]
    },
    {
     "name": "stderr",
     "output_type": "stream",
     "text": [
      "Epoch 41 Train: 100%|██████████| 25/25 [00:16<00:00,  1.55it/s, loss=2.68]"
     ]
    },
    {
     "name": "stdout",
     "output_type": "stream",
     "text": [
      "Epoch 41 Training Loss: 2.6848\n"
     ]
    },
    {
     "name": "stderr",
     "output_type": "stream",
     "text": [
      "\n",
      "Epoch 41 Val: 100%|██████████| 7/7 [00:02<00:00,  3.07it/s, val_loss=2.81]"
     ]
    },
    {
     "name": "stdout",
     "output_type": "stream",
     "text": [
      "Epoch 41 Validation Loss: 2.8135\n",
      "Validation loss (2.8135) did not improve from 2.7876\n",
      "\n",
      "Epoch 42/100\n"
     ]
    },
    {
     "name": "stderr",
     "output_type": "stream",
     "text": [
      "\n",
      "Epoch 42 Train: 100%|██████████| 25/25 [00:15<00:00,  1.57it/s, loss=2.69]"
     ]
    },
    {
     "name": "stdout",
     "output_type": "stream",
     "text": [
      "Epoch 42 Training Loss: 2.6854\n"
     ]
    },
    {
     "name": "stderr",
     "output_type": "stream",
     "text": [
      "\n",
      "Epoch 42 Val: 100%|██████████| 7/7 [00:02<00:00,  2.97it/s, val_loss=2.74]\n"
     ]
    },
    {
     "name": "stdout",
     "output_type": "stream",
     "text": [
      "Epoch 42 Validation Loss: 2.7406\n",
      "Validation loss improved from 2.7876 to 2.7406, saving model to models_pytorch/lipnet_checkpoint.pth\n",
      "\n",
      "Epoch 43/100\n"
     ]
    },
    {
     "name": "stderr",
     "output_type": "stream",
     "text": [
      "Epoch 43 Train: 100%|██████████| 25/25 [00:15<00:00,  1.57it/s, loss=2.68]"
     ]
    },
    {
     "name": "stdout",
     "output_type": "stream",
     "text": [
      "Epoch 43 Training Loss: 2.6812\n"
     ]
    },
    {
     "name": "stderr",
     "output_type": "stream",
     "text": [
      "\n",
      "Epoch 43 Val: 100%|██████████| 7/7 [00:02<00:00,  3.06it/s, val_loss=2.79]"
     ]
    },
    {
     "name": "stdout",
     "output_type": "stream",
     "text": [
      "Epoch 43 Validation Loss: 2.7889\n",
      "Validation loss (2.7889) did not improve from 2.7406\n",
      "\n",
      "Epoch 44/100\n"
     ]
    },
    {
     "name": "stderr",
     "output_type": "stream",
     "text": [
      "\n",
      "Epoch 44 Train: 100%|██████████| 25/25 [00:15<00:00,  1.57it/s, loss=2.68]"
     ]
    },
    {
     "name": "stdout",
     "output_type": "stream",
     "text": [
      "Epoch 44 Training Loss: 2.6790\n"
     ]
    },
    {
     "name": "stderr",
     "output_type": "stream",
     "text": [
      "\n",
      "Epoch 44 Val: 100%|██████████| 7/7 [00:02<00:00,  3.20it/s, val_loss=2.77]"
     ]
    },
    {
     "name": "stdout",
     "output_type": "stream",
     "text": [
      "Epoch 44 Validation Loss: 2.7657\n",
      "Validation loss (2.7657) did not improve from 2.7406\n",
      "\n",
      "Epoch 45/100\n"
     ]
    },
    {
     "name": "stderr",
     "output_type": "stream",
     "text": [
      "\n",
      "Epoch 45 Train: 100%|██████████| 25/25 [00:16<00:00,  1.56it/s, loss=2.67]"
     ]
    },
    {
     "name": "stdout",
     "output_type": "stream",
     "text": [
      "Epoch 45 Training Loss: 2.6704\n"
     ]
    },
    {
     "name": "stderr",
     "output_type": "stream",
     "text": [
      "\n",
      "Epoch 45 Val: 100%|██████████| 7/7 [00:02<00:00,  3.21it/s, val_loss=2.78]"
     ]
    },
    {
     "name": "stdout",
     "output_type": "stream",
     "text": [
      "Epoch 45 Validation Loss: 2.7765\n",
      "Validation loss (2.7765) did not improve from 2.7406\n",
      "\n",
      "Epoch 46/100\n"
     ]
    },
    {
     "name": "stderr",
     "output_type": "stream",
     "text": [
      "\n",
      "Epoch 46 Train: 100%|██████████| 25/25 [00:16<00:00,  1.56it/s, loss=2.67]"
     ]
    },
    {
     "name": "stdout",
     "output_type": "stream",
     "text": [
      "Epoch 46 Training Loss: 2.6653\n"
     ]
    },
    {
     "name": "stderr",
     "output_type": "stream",
     "text": [
      "\n",
      "Epoch 46 Val: 100%|██████████| 7/7 [00:02<00:00,  3.19it/s, val_loss=2.71]\n"
     ]
    },
    {
     "name": "stdout",
     "output_type": "stream",
     "text": [
      "Epoch 46 Validation Loss: 2.7057\n",
      "Validation loss improved from 2.7406 to 2.7057, saving model to models_pytorch/lipnet_checkpoint.pth\n",
      "\n",
      "Epoch 47/100\n"
     ]
    },
    {
     "name": "stderr",
     "output_type": "stream",
     "text": [
      "Epoch 47 Train: 100%|██████████| 25/25 [00:15<00:00,  1.57it/s, loss=2.66]"
     ]
    },
    {
     "name": "stdout",
     "output_type": "stream",
     "text": [
      "Epoch 47 Training Loss: 2.6622\n"
     ]
    },
    {
     "name": "stderr",
     "output_type": "stream",
     "text": [
      "\n",
      "Epoch 47 Val: 100%|██████████| 7/7 [00:02<00:00,  3.12it/s, val_loss=2.73]"
     ]
    },
    {
     "name": "stdout",
     "output_type": "stream",
     "text": [
      "Epoch 47 Validation Loss: 2.7294\n",
      "Validation loss (2.7294) did not improve from 2.7057\n",
      "\n",
      "Epoch 48/100\n"
     ]
    },
    {
     "name": "stderr",
     "output_type": "stream",
     "text": [
      "\n",
      "Epoch 48 Train: 100%|██████████| 25/25 [00:15<00:00,  1.57it/s, loss=2.65]"
     ]
    },
    {
     "name": "stdout",
     "output_type": "stream",
     "text": [
      "Epoch 48 Training Loss: 2.6518\n"
     ]
    },
    {
     "name": "stderr",
     "output_type": "stream",
     "text": [
      "\n",
      "Epoch 48 Val: 100%|██████████| 7/7 [00:02<00:00,  3.01it/s, val_loss=2.79]"
     ]
    },
    {
     "name": "stdout",
     "output_type": "stream",
     "text": [
      "Epoch 48 Validation Loss: 2.7878\n",
      "Validation loss (2.7878) did not improve from 2.7057\n",
      "\n",
      "Epoch 49/100\n"
     ]
    },
    {
     "name": "stderr",
     "output_type": "stream",
     "text": [
      "\n",
      "Epoch 49 Train: 100%|██████████| 25/25 [00:15<00:00,  1.57it/s, loss=2.65]"
     ]
    },
    {
     "name": "stdout",
     "output_type": "stream",
     "text": [
      "Epoch 49 Training Loss: 2.6465\n"
     ]
    },
    {
     "name": "stderr",
     "output_type": "stream",
     "text": [
      "\n",
      "Epoch 49 Val: 100%|██████████| 7/7 [00:02<00:00,  3.13it/s, val_loss=2.73]"
     ]
    },
    {
     "name": "stdout",
     "output_type": "stream",
     "text": [
      "Epoch 49 Validation Loss: 2.7266\n",
      "Validation loss (2.7266) did not improve from 2.7057\n",
      "\n",
      "Epoch 50/100\n"
     ]
    },
    {
     "name": "stderr",
     "output_type": "stream",
     "text": [
      "\n",
      "Epoch 50 Train: 100%|██████████| 25/25 [00:16<00:00,  1.56it/s, loss=2.64]"
     ]
    },
    {
     "name": "stdout",
     "output_type": "stream",
     "text": [
      "Epoch 50 Training Loss: 2.6405\n"
     ]
    },
    {
     "name": "stderr",
     "output_type": "stream",
     "text": [
      "\n",
      "Epoch 50 Val: 100%|██████████| 7/7 [00:02<00:00,  3.03it/s, val_loss=2.64]\n"
     ]
    },
    {
     "name": "stdout",
     "output_type": "stream",
     "text": [
      "Epoch 50 Validation Loss: 2.6435\n",
      "Validation loss improved from 2.7057 to 2.6435, saving model to models_pytorch/lipnet_checkpoint.pth\n",
      "\n",
      "--- Example Predictions ---\n",
      "Original:     place green with r seven again\n",
      "Filtered Idx: [14]\n",
      "Prediction:   n\n",
      "--------------------------------------------------\n",
      "Original:     bin green with u nine again\n",
      "Filtered Idx: [14]\n",
      "Prediction:   n\n",
      "--------------------------------------------------\n",
      "--- End Examples ---\n",
      "\n",
      "\n",
      "Epoch 51/100\n"
     ]
    },
    {
     "name": "stderr",
     "output_type": "stream",
     "text": [
      "Epoch 51 Train: 100%|██████████| 25/25 [00:16<00:00,  1.56it/s, loss=2.65]"
     ]
    },
    {
     "name": "stdout",
     "output_type": "stream",
     "text": [
      "Epoch 51 Training Loss: 2.6451\n"
     ]
    },
    {
     "name": "stderr",
     "output_type": "stream",
     "text": [
      "\n",
      "Epoch 51 Val: 100%|██████████| 7/7 [00:02<00:00,  2.92it/s, val_loss=2.69]"
     ]
    },
    {
     "name": "stdout",
     "output_type": "stream",
     "text": [
      "Epoch 51 Validation Loss: 2.6880\n",
      "Validation loss (2.6880) did not improve from 2.6435\n",
      "\n",
      "Epoch 52/100\n"
     ]
    },
    {
     "name": "stderr",
     "output_type": "stream",
     "text": [
      "\n",
      "Epoch 52 Train: 100%|██████████| 25/25 [00:16<00:00,  1.55it/s, loss=2.64]"
     ]
    },
    {
     "name": "stdout",
     "output_type": "stream",
     "text": [
      "Epoch 52 Training Loss: 2.6410\n"
     ]
    },
    {
     "name": "stderr",
     "output_type": "stream",
     "text": [
      "\n",
      "Epoch 52 Val: 100%|██████████| 7/7 [00:02<00:00,  3.10it/s, val_loss=2.68]"
     ]
    },
    {
     "name": "stdout",
     "output_type": "stream",
     "text": [
      "Epoch 52 Validation Loss: 2.6793\n",
      "Validation loss (2.6793) did not improve from 2.6435\n",
      "\n",
      "Epoch 53/100\n"
     ]
    },
    {
     "name": "stderr",
     "output_type": "stream",
     "text": [
      "\n",
      "Epoch 53 Train: 100%|██████████| 25/25 [00:15<00:00,  1.56it/s, loss=2.63]"
     ]
    },
    {
     "name": "stdout",
     "output_type": "stream",
     "text": [
      "Epoch 53 Training Loss: 2.6314\n"
     ]
    },
    {
     "name": "stderr",
     "output_type": "stream",
     "text": [
      "\n",
      "Epoch 53 Val: 100%|██████████| 7/7 [00:02<00:00,  3.17it/s, val_loss=2.63]\n"
     ]
    },
    {
     "name": "stdout",
     "output_type": "stream",
     "text": [
      "Epoch 53 Validation Loss: 2.6325\n",
      "Validation loss improved from 2.6435 to 2.6325, saving model to models_pytorch/lipnet_checkpoint.pth\n",
      "\n",
      "Epoch 54/100\n"
     ]
    },
    {
     "name": "stderr",
     "output_type": "stream",
     "text": [
      "Epoch 54 Train: 100%|██████████| 25/25 [00:15<00:00,  1.57it/s, loss=2.63]"
     ]
    },
    {
     "name": "stdout",
     "output_type": "stream",
     "text": [
      "Epoch 54 Training Loss: 2.6268\n"
     ]
    },
    {
     "name": "stderr",
     "output_type": "stream",
     "text": [
      "\n",
      "Epoch 54 Val: 100%|██████████| 7/7 [00:02<00:00,  3.12it/s, val_loss=2.69]"
     ]
    },
    {
     "name": "stdout",
     "output_type": "stream",
     "text": [
      "Epoch 54 Validation Loss: 2.6900\n",
      "Validation loss (2.6900) did not improve from 2.6325\n",
      "\n",
      "Epoch 55/100\n"
     ]
    },
    {
     "name": "stderr",
     "output_type": "stream",
     "text": [
      "\n",
      "Epoch 55 Train: 100%|██████████| 25/25 [00:15<00:00,  1.57it/s, loss=2.63]"
     ]
    },
    {
     "name": "stdout",
     "output_type": "stream",
     "text": [
      "Epoch 55 Training Loss: 2.6271\n"
     ]
    },
    {
     "name": "stderr",
     "output_type": "stream",
     "text": [
      "\n",
      "Epoch 55 Val: 100%|██████████| 7/7 [00:02<00:00,  3.13it/s, val_loss=2.65]"
     ]
    },
    {
     "name": "stdout",
     "output_type": "stream",
     "text": [
      "Epoch 55 Validation Loss: 2.6528\n",
      "Validation loss (2.6528) did not improve from 2.6325\n",
      "\n",
      "Epoch 56/100\n"
     ]
    },
    {
     "name": "stderr",
     "output_type": "stream",
     "text": [
      "\n",
      "Epoch 56 Train: 100%|██████████| 25/25 [00:16<00:00,  1.55it/s, loss=2.63]"
     ]
    },
    {
     "name": "stdout",
     "output_type": "stream",
     "text": [
      "Epoch 56 Training Loss: 2.6264\n"
     ]
    },
    {
     "name": "stderr",
     "output_type": "stream",
     "text": [
      "\n",
      "Epoch 56 Val: 100%|██████████| 7/7 [00:02<00:00,  3.11it/s, val_loss=2.64]"
     ]
    },
    {
     "name": "stdout",
     "output_type": "stream",
     "text": [
      "Epoch 56 Validation Loss: 2.6415\n",
      "Validation loss (2.6415) did not improve from 2.6325\n",
      "\n",
      "Epoch 57/100\n"
     ]
    },
    {
     "name": "stderr",
     "output_type": "stream",
     "text": [
      "\n",
      "Epoch 57 Train: 100%|██████████| 25/25 [00:15<00:00,  1.57it/s, loss=2.62]"
     ]
    },
    {
     "name": "stdout",
     "output_type": "stream",
     "text": [
      "Epoch 57 Training Loss: 2.6166\n"
     ]
    },
    {
     "name": "stderr",
     "output_type": "stream",
     "text": [
      "\n",
      "Epoch 57 Val: 100%|██████████| 7/7 [00:02<00:00,  3.14it/s, val_loss=2.74]"
     ]
    },
    {
     "name": "stdout",
     "output_type": "stream",
     "text": [
      "Epoch 57 Validation Loss: 2.7416\n",
      "Validation loss (2.7416) did not improve from 2.6325\n",
      "\n",
      "Epoch 58/100\n"
     ]
    },
    {
     "name": "stderr",
     "output_type": "stream",
     "text": [
      "\n",
      "Epoch 58 Train: 100%|██████████| 25/25 [00:16<00:00,  1.55it/s, loss=2.61]"
     ]
    },
    {
     "name": "stdout",
     "output_type": "stream",
     "text": [
      "Epoch 58 Training Loss: 2.6126\n"
     ]
    },
    {
     "name": "stderr",
     "output_type": "stream",
     "text": [
      "\n",
      "Epoch 58 Val: 100%|██████████| 7/7 [00:02<00:00,  2.93it/s, val_loss=2.61]\n"
     ]
    },
    {
     "name": "stdout",
     "output_type": "stream",
     "text": [
      "Epoch 58 Validation Loss: 2.6130\n",
      "Validation loss improved from 2.6325 to 2.6130, saving model to models_pytorch/lipnet_checkpoint.pth\n",
      "\n",
      "Epoch 59/100\n"
     ]
    },
    {
     "name": "stderr",
     "output_type": "stream",
     "text": [
      "Epoch 59 Train: 100%|██████████| 25/25 [00:15<00:00,  1.57it/s, loss=2.62]"
     ]
    },
    {
     "name": "stdout",
     "output_type": "stream",
     "text": [
      "Epoch 59 Training Loss: 2.6183\n"
     ]
    },
    {
     "name": "stderr",
     "output_type": "stream",
     "text": [
      "\n",
      "Epoch 59 Val: 100%|██████████| 7/7 [00:02<00:00,  2.85it/s, val_loss=2.65]"
     ]
    },
    {
     "name": "stdout",
     "output_type": "stream",
     "text": [
      "Epoch 59 Validation Loss: 2.6523\n",
      "Validation loss (2.6523) did not improve from 2.6130\n",
      "\n",
      "Epoch 60/100\n"
     ]
    },
    {
     "name": "stderr",
     "output_type": "stream",
     "text": [
      "\n",
      "Epoch 60 Train: 100%|██████████| 25/25 [00:16<00:00,  1.56it/s, loss=2.6] "
     ]
    },
    {
     "name": "stdout",
     "output_type": "stream",
     "text": [
      "Epoch 60 Training Loss: 2.6026\n"
     ]
    },
    {
     "name": "stderr",
     "output_type": "stream",
     "text": [
      "\n",
      "Epoch 60 Val: 100%|██████████| 7/7 [00:02<00:00,  3.08it/s, val_loss=2.62]"
     ]
    },
    {
     "name": "stdout",
     "output_type": "stream",
     "text": [
      "Epoch 60 Validation Loss: 2.6223\n",
      "Validation loss (2.6223) did not improve from 2.6130\n"
     ]
    },
    {
     "name": "stderr",
     "output_type": "stream",
     "text": [
      "\n"
     ]
    },
    {
     "name": "stdout",
     "output_type": "stream",
     "text": [
      "\n",
      "--- Example Predictions ---\n",
      "Original:     place green with r seven again\n",
      "Filtered Idx: [14]\n",
      "Prediction:   n\n",
      "--------------------------------------------------\n",
      "Original:     bin green with u nine again\n",
      "Filtered Idx: [14]\n",
      "Prediction:   n\n",
      "--------------------------------------------------\n",
      "--- End Examples ---\n",
      "\n",
      "\n",
      "Epoch 61/100\n"
     ]
    },
    {
     "name": "stderr",
     "output_type": "stream",
     "text": [
      "Epoch 61 Train: 100%|██████████| 25/25 [00:15<00:00,  1.57it/s, loss=2.6] "
     ]
    },
    {
     "name": "stdout",
     "output_type": "stream",
     "text": [
      "Epoch 61 Training Loss: 2.6009\n"
     ]
    },
    {
     "name": "stderr",
     "output_type": "stream",
     "text": [
      "\n",
      "Epoch 61 Val: 100%|██████████| 7/7 [00:02<00:00,  3.10it/s, val_loss=2.66]"
     ]
    },
    {
     "name": "stdout",
     "output_type": "stream",
     "text": [
      "Epoch 61 Validation Loss: 2.6563\n",
      "Validation loss (2.6563) did not improve from 2.6130\n",
      "\n",
      "Epoch 62/100\n"
     ]
    },
    {
     "name": "stderr",
     "output_type": "stream",
     "text": [
      "\n",
      "Epoch 62 Train: 100%|██████████| 25/25 [00:16<00:00,  1.54it/s, loss=2.6] "
     ]
    },
    {
     "name": "stdout",
     "output_type": "stream",
     "text": [
      "Epoch 62 Training Loss: 2.6037\n"
     ]
    },
    {
     "name": "stderr",
     "output_type": "stream",
     "text": [
      "\n",
      "Epoch 62 Val: 100%|██████████| 7/7 [00:02<00:00,  3.17it/s, val_loss=2.64]"
     ]
    },
    {
     "name": "stdout",
     "output_type": "stream",
     "text": [
      "Epoch 62 Validation Loss: 2.6399\n",
      "Validation loss (2.6399) did not improve from 2.6130\n",
      "\n",
      "Epoch 63/100\n"
     ]
    },
    {
     "name": "stderr",
     "output_type": "stream",
     "text": [
      "\n",
      "Epoch 63 Train: 100%|██████████| 25/25 [00:16<00:00,  1.56it/s, loss=2.6] "
     ]
    },
    {
     "name": "stdout",
     "output_type": "stream",
     "text": [
      "Epoch 63 Training Loss: 2.5954\n"
     ]
    },
    {
     "name": "stderr",
     "output_type": "stream",
     "text": [
      "\n",
      "Epoch 63 Val: 100%|██████████| 7/7 [00:02<00:00,  3.06it/s, val_loss=2.65]"
     ]
    },
    {
     "name": "stdout",
     "output_type": "stream",
     "text": [
      "Epoch 63 Validation Loss: 2.6515\n",
      "Validation loss (2.6515) did not improve from 2.6130\n",
      "\n",
      "Epoch 64/100\n"
     ]
    },
    {
     "name": "stderr",
     "output_type": "stream",
     "text": [
      "\n",
      "Epoch 64 Train: 100%|██████████| 25/25 [00:16<00:00,  1.55it/s, loss=2.6] "
     ]
    },
    {
     "name": "stdout",
     "output_type": "stream",
     "text": [
      "Epoch 64 Training Loss: 2.5963\n"
     ]
    },
    {
     "name": "stderr",
     "output_type": "stream",
     "text": [
      "\n",
      "Epoch 64 Val: 100%|██████████| 7/7 [00:02<00:00,  3.21it/s, val_loss=2.66]"
     ]
    },
    {
     "name": "stdout",
     "output_type": "stream",
     "text": [
      "Epoch 64 Validation Loss: 2.6643\n",
      "Validation loss (2.6643) did not improve from 2.6130\n",
      "\n",
      "Epoch 65/100\n"
     ]
    },
    {
     "name": "stderr",
     "output_type": "stream",
     "text": [
      "\n",
      "Epoch 65 Train: 100%|██████████| 25/25 [00:15<00:00,  1.56it/s, loss=2.59]"
     ]
    },
    {
     "name": "stdout",
     "output_type": "stream",
     "text": [
      "Epoch 65 Training Loss: 2.5892\n"
     ]
    },
    {
     "name": "stderr",
     "output_type": "stream",
     "text": [
      "\n",
      "Epoch 65 Val: 100%|██████████| 7/7 [00:02<00:00,  3.19it/s, val_loss=2.65]"
     ]
    },
    {
     "name": "stdout",
     "output_type": "stream",
     "text": [
      "Epoch 65 Validation Loss: 2.6503\n",
      "Validation loss (2.6503) did not improve from 2.6130\n",
      "\n",
      "Epoch 66/100\n"
     ]
    },
    {
     "name": "stderr",
     "output_type": "stream",
     "text": [
      "\n",
      "Epoch 66 Train: 100%|██████████| 25/25 [00:16<00:00,  1.56it/s, loss=2.59]"
     ]
    },
    {
     "name": "stdout",
     "output_type": "stream",
     "text": [
      "Epoch 66 Training Loss: 2.5864\n"
     ]
    },
    {
     "name": "stderr",
     "output_type": "stream",
     "text": [
      "\n",
      "Epoch 66 Val: 100%|██████████| 7/7 [00:02<00:00,  3.15it/s, val_loss=2.69]"
     ]
    },
    {
     "name": "stdout",
     "output_type": "stream",
     "text": [
      "Epoch 66 Validation Loss: 2.6871\n",
      "Validation loss (2.6871) did not improve from 2.6130\n",
      "\n",
      "Epoch 67/100\n"
     ]
    },
    {
     "name": "stderr",
     "output_type": "stream",
     "text": [
      "\n",
      "Epoch 67 Train: 100%|██████████| 25/25 [00:16<00:00,  1.55it/s, loss=2.59]"
     ]
    },
    {
     "name": "stdout",
     "output_type": "stream",
     "text": [
      "Epoch 67 Training Loss: 2.5861\n"
     ]
    },
    {
     "name": "stderr",
     "output_type": "stream",
     "text": [
      "\n",
      "Epoch 67 Val: 100%|██████████| 7/7 [00:02<00:00,  2.94it/s, val_loss=2.63]"
     ]
    },
    {
     "name": "stdout",
     "output_type": "stream",
     "text": [
      "Epoch 67 Validation Loss: 2.6265\n",
      "Validation loss (2.6265) did not improve from 2.6130\n",
      "\n",
      "Epoch 68/100\n"
     ]
    },
    {
     "name": "stderr",
     "output_type": "stream",
     "text": [
      "\n",
      "Epoch 68 Train:  44%|████▍     | 11/25 [00:08<00:10,  1.33it/s, loss=2.59]\n"
     ]
    },
    {
     "ename": "KeyboardInterrupt",
     "evalue": "",
     "output_type": "error",
     "traceback": [
      "\u001b[31m---------------------------------------------------------------------------\u001b[39m",
      "\u001b[31mKeyboardInterrupt\u001b[39m                         Traceback (most recent call last)",
      "\u001b[36mCell\u001b[39m\u001b[36m \u001b[39m\u001b[32mIn[24]\u001b[39m\u001b[32m, line 65\u001b[39m\n\u001b[32m     62\u001b[39m      \u001b[38;5;28;01mcontinue\u001b[39;00m \u001b[38;5;66;03m# Skip gradient update for this batch\u001b[39;00m\n\u001b[32m     64\u001b[39m loss.backward()\n\u001b[32m---> \u001b[39m\u001b[32m65\u001b[39m \u001b[43moptimizer\u001b[49m\u001b[43m.\u001b[49m\u001b[43mstep\u001b[49m\u001b[43m(\u001b[49m\u001b[43m)\u001b[49m\n\u001b[32m     67\u001b[39m running_loss += loss.item()\n\u001b[32m     68\u001b[39m train_pbar.set_postfix({\u001b[33m'\u001b[39m\u001b[33mloss\u001b[39m\u001b[33m'\u001b[39m: running_loss / (i + \u001b[32m1\u001b[39m)})\n",
      "\u001b[36mFile \u001b[39m\u001b[32m/home/zeus/miniconda3/envs/cloudspace/lib/python3.12/site-packages/torch/optim/optimizer.py:493\u001b[39m, in \u001b[36mOptimizer.profile_hook_step.<locals>.wrapper\u001b[39m\u001b[34m(*args, **kwargs)\u001b[39m\n\u001b[32m    488\u001b[39m         \u001b[38;5;28;01melse\u001b[39;00m:\n\u001b[32m    489\u001b[39m             \u001b[38;5;28;01mraise\u001b[39;00m \u001b[38;5;167;01mRuntimeError\u001b[39;00m(\n\u001b[32m    490\u001b[39m                 \u001b[33mf\u001b[39m\u001b[33m\"\u001b[39m\u001b[38;5;132;01m{\u001b[39;00mfunc\u001b[38;5;132;01m}\u001b[39;00m\u001b[33m must return None or a tuple of (new_args, new_kwargs), but got \u001b[39m\u001b[38;5;132;01m{\u001b[39;00mresult\u001b[38;5;132;01m}\u001b[39;00m\u001b[33m.\u001b[39m\u001b[33m\"\u001b[39m\n\u001b[32m    491\u001b[39m             )\n\u001b[32m--> \u001b[39m\u001b[32m493\u001b[39m out = \u001b[43mfunc\u001b[49m\u001b[43m(\u001b[49m\u001b[43m*\u001b[49m\u001b[43margs\u001b[49m\u001b[43m,\u001b[49m\u001b[43m \u001b[49m\u001b[43m*\u001b[49m\u001b[43m*\u001b[49m\u001b[43mkwargs\u001b[49m\u001b[43m)\u001b[49m\n\u001b[32m    494\u001b[39m \u001b[38;5;28mself\u001b[39m._optimizer_step_code()\n\u001b[32m    496\u001b[39m \u001b[38;5;66;03m# call optimizer step post hooks\u001b[39;00m\n",
      "\u001b[36mFile \u001b[39m\u001b[32m/home/zeus/miniconda3/envs/cloudspace/lib/python3.12/site-packages/torch/optim/optimizer.py:91\u001b[39m, in \u001b[36m_use_grad_for_differentiable.<locals>._use_grad\u001b[39m\u001b[34m(self, *args, **kwargs)\u001b[39m\n\u001b[32m     89\u001b[39m     torch.set_grad_enabled(\u001b[38;5;28mself\u001b[39m.defaults[\u001b[33m\"\u001b[39m\u001b[33mdifferentiable\u001b[39m\u001b[33m\"\u001b[39m])\n\u001b[32m     90\u001b[39m     torch._dynamo.graph_break()\n\u001b[32m---> \u001b[39m\u001b[32m91\u001b[39m     ret = \u001b[43mfunc\u001b[49m\u001b[43m(\u001b[49m\u001b[38;5;28;43mself\u001b[39;49m\u001b[43m,\u001b[49m\u001b[43m \u001b[49m\u001b[43m*\u001b[49m\u001b[43margs\u001b[49m\u001b[43m,\u001b[49m\u001b[43m \u001b[49m\u001b[43m*\u001b[49m\u001b[43m*\u001b[49m\u001b[43mkwargs\u001b[49m\u001b[43m)\u001b[49m\n\u001b[32m     92\u001b[39m \u001b[38;5;28;01mfinally\u001b[39;00m:\n\u001b[32m     93\u001b[39m     torch._dynamo.graph_break()\n",
      "\u001b[36mFile \u001b[39m\u001b[32m/home/zeus/miniconda3/envs/cloudspace/lib/python3.12/site-packages/torch/optim/adam.py:244\u001b[39m, in \u001b[36mAdam.step\u001b[39m\u001b[34m(self, closure)\u001b[39m\n\u001b[32m    232\u001b[39m     beta1, beta2 = group[\u001b[33m\"\u001b[39m\u001b[33mbetas\u001b[39m\u001b[33m\"\u001b[39m]\n\u001b[32m    234\u001b[39m     has_complex = \u001b[38;5;28mself\u001b[39m._init_group(\n\u001b[32m    235\u001b[39m         group,\n\u001b[32m    236\u001b[39m         params_with_grad,\n\u001b[32m   (...)\u001b[39m\u001b[32m    241\u001b[39m         state_steps,\n\u001b[32m    242\u001b[39m     )\n\u001b[32m--> \u001b[39m\u001b[32m244\u001b[39m     \u001b[43madam\u001b[49m\u001b[43m(\u001b[49m\n\u001b[32m    245\u001b[39m \u001b[43m        \u001b[49m\u001b[43mparams_with_grad\u001b[49m\u001b[43m,\u001b[49m\n\u001b[32m    246\u001b[39m \u001b[43m        \u001b[49m\u001b[43mgrads\u001b[49m\u001b[43m,\u001b[49m\n\u001b[32m    247\u001b[39m \u001b[43m        \u001b[49m\u001b[43mexp_avgs\u001b[49m\u001b[43m,\u001b[49m\n\u001b[32m    248\u001b[39m \u001b[43m        \u001b[49m\u001b[43mexp_avg_sqs\u001b[49m\u001b[43m,\u001b[49m\n\u001b[32m    249\u001b[39m \u001b[43m        \u001b[49m\u001b[43mmax_exp_avg_sqs\u001b[49m\u001b[43m,\u001b[49m\n\u001b[32m    250\u001b[39m \u001b[43m        \u001b[49m\u001b[43mstate_steps\u001b[49m\u001b[43m,\u001b[49m\n\u001b[32m    251\u001b[39m \u001b[43m        \u001b[49m\u001b[43mamsgrad\u001b[49m\u001b[43m=\u001b[49m\u001b[43mgroup\u001b[49m\u001b[43m[\u001b[49m\u001b[33;43m\"\u001b[39;49m\u001b[33;43mamsgrad\u001b[39;49m\u001b[33;43m\"\u001b[39;49m\u001b[43m]\u001b[49m\u001b[43m,\u001b[49m\n\u001b[32m    252\u001b[39m \u001b[43m        \u001b[49m\u001b[43mhas_complex\u001b[49m\u001b[43m=\u001b[49m\u001b[43mhas_complex\u001b[49m\u001b[43m,\u001b[49m\n\u001b[32m    253\u001b[39m \u001b[43m        \u001b[49m\u001b[43mbeta1\u001b[49m\u001b[43m=\u001b[49m\u001b[43mbeta1\u001b[49m\u001b[43m,\u001b[49m\n\u001b[32m    254\u001b[39m \u001b[43m        \u001b[49m\u001b[43mbeta2\u001b[49m\u001b[43m=\u001b[49m\u001b[43mbeta2\u001b[49m\u001b[43m,\u001b[49m\n\u001b[32m    255\u001b[39m \u001b[43m        \u001b[49m\u001b[43mlr\u001b[49m\u001b[43m=\u001b[49m\u001b[43mgroup\u001b[49m\u001b[43m[\u001b[49m\u001b[33;43m\"\u001b[39;49m\u001b[33;43mlr\u001b[39;49m\u001b[33;43m\"\u001b[39;49m\u001b[43m]\u001b[49m\u001b[43m,\u001b[49m\n\u001b[32m    256\u001b[39m \u001b[43m        \u001b[49m\u001b[43mweight_decay\u001b[49m\u001b[43m=\u001b[49m\u001b[43mgroup\u001b[49m\u001b[43m[\u001b[49m\u001b[33;43m\"\u001b[39;49m\u001b[33;43mweight_decay\u001b[39;49m\u001b[33;43m\"\u001b[39;49m\u001b[43m]\u001b[49m\u001b[43m,\u001b[49m\n\u001b[32m    257\u001b[39m \u001b[43m        \u001b[49m\u001b[43meps\u001b[49m\u001b[43m=\u001b[49m\u001b[43mgroup\u001b[49m\u001b[43m[\u001b[49m\u001b[33;43m\"\u001b[39;49m\u001b[33;43meps\u001b[39;49m\u001b[33;43m\"\u001b[39;49m\u001b[43m]\u001b[49m\u001b[43m,\u001b[49m\n\u001b[32m    258\u001b[39m \u001b[43m        \u001b[49m\u001b[43mmaximize\u001b[49m\u001b[43m=\u001b[49m\u001b[43mgroup\u001b[49m\u001b[43m[\u001b[49m\u001b[33;43m\"\u001b[39;49m\u001b[33;43mmaximize\u001b[39;49m\u001b[33;43m\"\u001b[39;49m\u001b[43m]\u001b[49m\u001b[43m,\u001b[49m\n\u001b[32m    259\u001b[39m \u001b[43m        \u001b[49m\u001b[43mforeach\u001b[49m\u001b[43m=\u001b[49m\u001b[43mgroup\u001b[49m\u001b[43m[\u001b[49m\u001b[33;43m\"\u001b[39;49m\u001b[33;43mforeach\u001b[39;49m\u001b[33;43m\"\u001b[39;49m\u001b[43m]\u001b[49m\u001b[43m,\u001b[49m\n\u001b[32m    260\u001b[39m \u001b[43m        \u001b[49m\u001b[43mcapturable\u001b[49m\u001b[43m=\u001b[49m\u001b[43mgroup\u001b[49m\u001b[43m[\u001b[49m\u001b[33;43m\"\u001b[39;49m\u001b[33;43mcapturable\u001b[39;49m\u001b[33;43m\"\u001b[39;49m\u001b[43m]\u001b[49m\u001b[43m,\u001b[49m\n\u001b[32m    261\u001b[39m \u001b[43m        \u001b[49m\u001b[43mdifferentiable\u001b[49m\u001b[43m=\u001b[49m\u001b[43mgroup\u001b[49m\u001b[43m[\u001b[49m\u001b[33;43m\"\u001b[39;49m\u001b[33;43mdifferentiable\u001b[39;49m\u001b[33;43m\"\u001b[39;49m\u001b[43m]\u001b[49m\u001b[43m,\u001b[49m\n\u001b[32m    262\u001b[39m \u001b[43m        \u001b[49m\u001b[43mfused\u001b[49m\u001b[43m=\u001b[49m\u001b[43mgroup\u001b[49m\u001b[43m[\u001b[49m\u001b[33;43m\"\u001b[39;49m\u001b[33;43mfused\u001b[39;49m\u001b[33;43m\"\u001b[39;49m\u001b[43m]\u001b[49m\u001b[43m,\u001b[49m\n\u001b[32m    263\u001b[39m \u001b[43m        \u001b[49m\u001b[43mgrad_scale\u001b[49m\u001b[43m=\u001b[49m\u001b[38;5;28;43mgetattr\u001b[39;49m\u001b[43m(\u001b[49m\u001b[38;5;28;43mself\u001b[39;49m\u001b[43m,\u001b[49m\u001b[43m \u001b[49m\u001b[33;43m\"\u001b[39;49m\u001b[33;43mgrad_scale\u001b[39;49m\u001b[33;43m\"\u001b[39;49m\u001b[43m,\u001b[49m\u001b[43m \u001b[49m\u001b[38;5;28;43;01mNone\u001b[39;49;00m\u001b[43m)\u001b[49m\u001b[43m,\u001b[49m\n\u001b[32m    264\u001b[39m \u001b[43m        \u001b[49m\u001b[43mfound_inf\u001b[49m\u001b[43m=\u001b[49m\u001b[38;5;28;43mgetattr\u001b[39;49m\u001b[43m(\u001b[49m\u001b[38;5;28;43mself\u001b[39;49m\u001b[43m,\u001b[49m\u001b[43m \u001b[49m\u001b[33;43m\"\u001b[39;49m\u001b[33;43mfound_inf\u001b[39;49m\u001b[33;43m\"\u001b[39;49m\u001b[43m,\u001b[49m\u001b[43m \u001b[49m\u001b[38;5;28;43;01mNone\u001b[39;49;00m\u001b[43m)\u001b[49m\u001b[43m,\u001b[49m\n\u001b[32m    265\u001b[39m \u001b[43m    \u001b[49m\u001b[43m)\u001b[49m\n\u001b[32m    267\u001b[39m \u001b[38;5;28;01mreturn\u001b[39;00m loss\n",
      "\u001b[36mFile \u001b[39m\u001b[32m/home/zeus/miniconda3/envs/cloudspace/lib/python3.12/site-packages/torch/optim/optimizer.py:154\u001b[39m, in \u001b[36m_disable_dynamo_if_unsupported.<locals>.wrapper.<locals>.maybe_fallback\u001b[39m\u001b[34m(*args, **kwargs)\u001b[39m\n\u001b[32m    152\u001b[39m     \u001b[38;5;28;01mreturn\u001b[39;00m disabled_func(*args, **kwargs)\n\u001b[32m    153\u001b[39m \u001b[38;5;28;01melse\u001b[39;00m:\n\u001b[32m--> \u001b[39m\u001b[32m154\u001b[39m     \u001b[38;5;28;01mreturn\u001b[39;00m \u001b[43mfunc\u001b[49m\u001b[43m(\u001b[49m\u001b[43m*\u001b[49m\u001b[43margs\u001b[49m\u001b[43m,\u001b[49m\u001b[43m \u001b[49m\u001b[43m*\u001b[49m\u001b[43m*\u001b[49m\u001b[43mkwargs\u001b[49m\u001b[43m)\u001b[49m\n",
      "\u001b[36mFile \u001b[39m\u001b[32m/home/zeus/miniconda3/envs/cloudspace/lib/python3.12/site-packages/torch/optim/adam.py:876\u001b[39m, in \u001b[36madam\u001b[39m\u001b[34m(params, grads, exp_avgs, exp_avg_sqs, max_exp_avg_sqs, state_steps, foreach, capturable, differentiable, fused, grad_scale, found_inf, has_complex, amsgrad, beta1, beta2, lr, weight_decay, eps, maximize)\u001b[39m\n\u001b[32m    873\u001b[39m \u001b[38;5;28;01melse\u001b[39;00m:\n\u001b[32m    874\u001b[39m     func = _single_tensor_adam\n\u001b[32m--> \u001b[39m\u001b[32m876\u001b[39m \u001b[43mfunc\u001b[49m\u001b[43m(\u001b[49m\n\u001b[32m    877\u001b[39m \u001b[43m    \u001b[49m\u001b[43mparams\u001b[49m\u001b[43m,\u001b[49m\n\u001b[32m    878\u001b[39m \u001b[43m    \u001b[49m\u001b[43mgrads\u001b[49m\u001b[43m,\u001b[49m\n\u001b[32m    879\u001b[39m \u001b[43m    \u001b[49m\u001b[43mexp_avgs\u001b[49m\u001b[43m,\u001b[49m\n\u001b[32m    880\u001b[39m \u001b[43m    \u001b[49m\u001b[43mexp_avg_sqs\u001b[49m\u001b[43m,\u001b[49m\n\u001b[32m    881\u001b[39m \u001b[43m    \u001b[49m\u001b[43mmax_exp_avg_sqs\u001b[49m\u001b[43m,\u001b[49m\n\u001b[32m    882\u001b[39m \u001b[43m    \u001b[49m\u001b[43mstate_steps\u001b[49m\u001b[43m,\u001b[49m\n\u001b[32m    883\u001b[39m \u001b[43m    \u001b[49m\u001b[43mamsgrad\u001b[49m\u001b[43m=\u001b[49m\u001b[43mamsgrad\u001b[49m\u001b[43m,\u001b[49m\n\u001b[32m    884\u001b[39m \u001b[43m    \u001b[49m\u001b[43mhas_complex\u001b[49m\u001b[43m=\u001b[49m\u001b[43mhas_complex\u001b[49m\u001b[43m,\u001b[49m\n\u001b[32m    885\u001b[39m \u001b[43m    \u001b[49m\u001b[43mbeta1\u001b[49m\u001b[43m=\u001b[49m\u001b[43mbeta1\u001b[49m\u001b[43m,\u001b[49m\n\u001b[32m    886\u001b[39m \u001b[43m    \u001b[49m\u001b[43mbeta2\u001b[49m\u001b[43m=\u001b[49m\u001b[43mbeta2\u001b[49m\u001b[43m,\u001b[49m\n\u001b[32m    887\u001b[39m \u001b[43m    \u001b[49m\u001b[43mlr\u001b[49m\u001b[43m=\u001b[49m\u001b[43mlr\u001b[49m\u001b[43m,\u001b[49m\n\u001b[32m    888\u001b[39m \u001b[43m    \u001b[49m\u001b[43mweight_decay\u001b[49m\u001b[43m=\u001b[49m\u001b[43mweight_decay\u001b[49m\u001b[43m,\u001b[49m\n\u001b[32m    889\u001b[39m \u001b[43m    \u001b[49m\u001b[43meps\u001b[49m\u001b[43m=\u001b[49m\u001b[43meps\u001b[49m\u001b[43m,\u001b[49m\n\u001b[32m    890\u001b[39m \u001b[43m    \u001b[49m\u001b[43mmaximize\u001b[49m\u001b[43m=\u001b[49m\u001b[43mmaximize\u001b[49m\u001b[43m,\u001b[49m\n\u001b[32m    891\u001b[39m \u001b[43m    \u001b[49m\u001b[43mcapturable\u001b[49m\u001b[43m=\u001b[49m\u001b[43mcapturable\u001b[49m\u001b[43m,\u001b[49m\n\u001b[32m    892\u001b[39m \u001b[43m    \u001b[49m\u001b[43mdifferentiable\u001b[49m\u001b[43m=\u001b[49m\u001b[43mdifferentiable\u001b[49m\u001b[43m,\u001b[49m\n\u001b[32m    893\u001b[39m \u001b[43m    \u001b[49m\u001b[43mgrad_scale\u001b[49m\u001b[43m=\u001b[49m\u001b[43mgrad_scale\u001b[49m\u001b[43m,\u001b[49m\n\u001b[32m    894\u001b[39m \u001b[43m    \u001b[49m\u001b[43mfound_inf\u001b[49m\u001b[43m=\u001b[49m\u001b[43mfound_inf\u001b[49m\u001b[43m,\u001b[49m\n\u001b[32m    895\u001b[39m \u001b[43m\u001b[49m\u001b[43m)\u001b[49m\n",
      "\u001b[36mFile \u001b[39m\u001b[32m/home/zeus/miniconda3/envs/cloudspace/lib/python3.12/site-packages/torch/optim/adam.py:685\u001b[39m, in \u001b[36m_multi_tensor_adam\u001b[39m\u001b[34m(params, grads, exp_avgs, exp_avg_sqs, max_exp_avg_sqs, state_steps, grad_scale, found_inf, amsgrad, has_complex, beta1, beta2, lr, weight_decay, eps, maximize, capturable, differentiable)\u001b[39m\n\u001b[32m    682\u001b[39m     torch._foreach_addcdiv_(device_params, device_exp_avgs, exp_avg_sq_sqrt)\n\u001b[32m    683\u001b[39m \u001b[38;5;28;01melse\u001b[39;00m:\n\u001b[32m    684\u001b[39m     bias_correction1 = [\n\u001b[32m--> \u001b[39m\u001b[32m685\u001b[39m         \u001b[32m1\u001b[39m - beta1 ** \u001b[43m_get_value\u001b[49m\u001b[43m(\u001b[49m\u001b[43mstep\u001b[49m\u001b[43m)\u001b[49m \u001b[38;5;28;01mfor\u001b[39;00m step \u001b[38;5;129;01min\u001b[39;00m device_state_steps\n\u001b[32m    686\u001b[39m     ]\n\u001b[32m    687\u001b[39m     bias_correction2 = [\n\u001b[32m    688\u001b[39m         \u001b[32m1\u001b[39m - beta2 ** _get_value(step) \u001b[38;5;28;01mfor\u001b[39;00m step \u001b[38;5;129;01min\u001b[39;00m device_state_steps\n\u001b[32m    689\u001b[39m     ]\n\u001b[32m    691\u001b[39m     step_size = _stack_if_compiling([(lr / bc) * -\u001b[32m1\u001b[39m \u001b[38;5;28;01mfor\u001b[39;00m bc \u001b[38;5;129;01min\u001b[39;00m bias_correction1])\n",
      "\u001b[36mFile \u001b[39m\u001b[32m/home/zeus/miniconda3/envs/cloudspace/lib/python3.12/site-packages/torch/optim/optimizer.py:106\u001b[39m, in \u001b[36m_get_value\u001b[39m\u001b[34m(x)\u001b[39m\n\u001b[32m    104\u001b[39m     \u001b[38;5;28;01mreturn\u001b[39;00m x\n\u001b[32m    105\u001b[39m \u001b[38;5;28;01melse\u001b[39;00m:\n\u001b[32m--> \u001b[39m\u001b[32m106\u001b[39m     \u001b[38;5;28;01mreturn\u001b[39;00m \u001b[43mx\u001b[49m\u001b[43m.\u001b[49m\u001b[43mitem\u001b[49m\u001b[43m(\u001b[49m\u001b[43m)\u001b[49m \u001b[38;5;28;01mif\u001b[39;00m \u001b[38;5;28misinstance\u001b[39m(x, torch.Tensor) \u001b[38;5;28;01melse\u001b[39;00m x\n",
      "\u001b[31mKeyboardInterrupt\u001b[39m: "
     ]
    }
   ],
   "source": [
    "# --- Training Loop ---\n",
    "EPOCHS = 100 # As in TF code\n",
    "best_val_loss = float('inf')\n",
    "train_losses = []\n",
    "val_losses = []\n",
    "\n",
    "# Optional: Load checkpoint if exists\n",
    "start_epoch = 0\n",
    "if os.path.exists(checkpoint_path):\n",
    "    print(f\"Loading checkpoint from {checkpoint_path}\")\n",
    "    try:\n",
    "        checkpoint = torch.load(checkpoint_path, map_location=DEVICE)\n",
    "        model.load_state_dict(checkpoint['model_state_dict'])\n",
    "        optimizer.load_state_dict(checkpoint['optimizer_state_dict'])\n",
    "        start_epoch = checkpoint['epoch'] + 1\n",
    "        best_val_loss = checkpoint['loss']\n",
    "        print(f\"Resuming training from epoch {start_epoch}, Best loss: {best_val_loss:.4f}\")\n",
    "    except Exception as e:\n",
    "        print(f\"Error loading checkpoint: {e}. Starting from scratch.\")\n",
    "        start_epoch = 0\n",
    "        best_val_loss = float('inf')\n",
    "\n",
    "\n",
    "print(\"\\nStarting Training...\")\n",
    "num_train_batches = len(train_loader)\n",
    "num_test_batches = len(test_loader)\n",
    "print(f\"Training batches per epoch: {num_train_batches}\")\n",
    "print(f\"Validation batches per epoch: {num_test_batches}\")\n",
    "\n",
    "\n",
    "for epoch in range(start_epoch, EPOCHS):\n",
    "    print(f\"\\nEpoch {epoch+1}/{EPOCHS}\")\n",
    "    model.train()\n",
    "    running_loss = 0.0\n",
    "    train_pbar = tqdm(enumerate(train_loader), total=num_train_batches, desc=f\"Epoch {epoch+1} Train\")\n",
    "\n",
    "    for i, batch_data in train_pbar:\n",
    "        frames_batch, labels_padded, input_lengths, label_lengths = batch_data\n",
    "\n",
    "        # Move data to device\n",
    "        frames_batch = frames_batch.to(DEVICE)\n",
    "        labels_padded = labels_padded.to(DEVICE)\n",
    "        input_lengths = input_lengths.to(DEVICE) # Though lengths often stay CPU for CTC\n",
    "        label_lengths = label_lengths.to(DEVICE)\n",
    "\n",
    "        optimizer.zero_grad()\n",
    "\n",
    "        # Forward pass -> Logits (T, N, C)\n",
    "        log_probs = model(frames_batch)\n",
    "\n",
    "        # Ensure input lengths don't exceed T\n",
    "        T = log_probs.size(0)\n",
    "        input_lengths = torch.clamp(input_lengths, max=T)\n",
    "\n",
    "        # Calculate CTC Loss\n",
    "        # Ensure labels_padded, input_lengths, label_lengths are on CPU if required by CTCLoss implementation\n",
    "        loss = ctc_loss(log_probs, labels_padded.cpu(), input_lengths.cpu(), label_lengths.cpu())\n",
    "\n",
    "        # Check for NaN/inf loss\n",
    "        if torch.isnan(loss) or torch.isinf(loss):\n",
    "             print(f\"Warning: NaN or Inf loss detected at batch {i}. Skipping batch.\")\n",
    "             continue # Skip gradient update for this batch\n",
    "\n",
    "        loss.backward()\n",
    "        optimizer.step()\n",
    "\n",
    "        running_loss += loss.item()\n",
    "        train_pbar.set_postfix({'loss': running_loss / (i + 1)})\n",
    "\n",
    "    avg_train_loss = running_loss / num_train_batches\n",
    "    train_losses.append(avg_train_loss)\n",
    "    print(f\"Epoch {epoch+1} Training Loss: {avg_train_loss:.4f}\")\n",
    "\n",
    "    # --- Validation ---\n",
    "    model.eval()\n",
    "    running_val_loss = 0.0\n",
    "    val_pbar = tqdm(enumerate(test_loader), total=num_test_batches, desc=f\"Epoch {epoch+1} Val\")\n",
    "    with torch.no_grad():\n",
    "        for i, batch_data in val_pbar:\n",
    "            frames_batch, labels_padded, input_lengths, label_lengths = batch_data\n",
    "            frames_batch = frames_batch.to(DEVICE)\n",
    "            labels_padded = labels_padded.to(DEVICE)\n",
    "            input_lengths = input_lengths.to(DEVICE)\n",
    "            label_lengths = label_lengths.to(DEVICE)\n",
    "\n",
    "            log_probs = model(frames_batch)\n",
    "            T = log_probs.size(0)\n",
    "            input_lengths = torch.clamp(input_lengths, max=T)\n",
    "\n",
    "            loss = ctc_loss(log_probs, labels_padded.cpu(), input_lengths.cpu(), label_lengths.cpu())\n",
    "\n",
    "            if not (torch.isnan(loss) or torch.isinf(loss)):\n",
    "                running_val_loss += loss.item()\n",
    "            val_pbar.set_postfix({'val_loss': running_val_loss / (i + 1)})\n",
    "\n",
    "    avg_val_loss = running_val_loss / num_test_batches\n",
    "    val_losses.append(avg_val_loss)\n",
    "    print(f\"Epoch {epoch+1} Validation Loss: {avg_val_loss:.4f}\")\n",
    "\n",
    "    # --- Save Checkpoint ---\n",
    "    if avg_val_loss < best_val_loss:\n",
    "        print(f\"Validation loss improved from {best_val_loss:.4f} to {avg_val_loss:.4f}, saving model to {checkpoint_path}\")\n",
    "        torch.save({\n",
    "            'epoch': epoch,\n",
    "            'model_state_dict': model.state_dict(),\n",
    "            'optimizer_state_dict': optimizer.state_dict(),\n",
    "            'loss': avg_val_loss,\n",
    "        }, checkpoint_path)\n",
    "        best_val_loss = avg_val_loss\n",
    "    else:\n",
    "        print(f\"Validation loss ({avg_val_loss:.4f}) did not improve from {best_val_loss:.4f}\")\n",
    "\n",
    "    # --- Show Examples (e.g., every 5 epochs) ---\n",
    "    if (epoch + 1) % 10 == 0 or epoch == EPOCHS - 1:\n",
    "         produce_example(model, test_loader, num_to_char_dict)\n",
    "\n",
    "print(\"\\nTraining Finished.\")"
   ]
  },
  {
   "cell_type": "code",
   "execution_count": 26,
   "id": "033fbf86-b8f4-496e-a34d-d2efc7ebd1a0",
   "metadata": {},
   "outputs": [
    {
     "data": {
      "image/png": "[encoded data removed]",
      "text/plain": [
       "<Figure size 800x300 with 1 Axes>"
      ]
     },
     "metadata": {},
     "output_type": "display_data"
    },
    {
     "name": "stdout",
     "output_type": "stream",
     "text": [
      "\n",
      "--- Running Final Test Examples ---\n",
      "Loading best weights from models_pytorch/lipnet_checkpoint.pth for final test...\n",
      "Best weights loaded successfully.\n",
      "\n",
      "--- Example Predictions ---\n",
      "Original:     place green with r seven again\n",
      "Filtered Idx: [14]\n",
      "Prediction:   n\n",
      "--------------------------------------------------\n",
      "Original:     bin green with u nine again\n",
      "Filtered Idx: [14]\n",
      "Prediction:   n\n",
      "--------------------------------------------------\n",
      "--- End Examples ---\n",
      "\n",
      "--- Final Testing Finished ---\n"
     ]
    }
   ],
   "source": [
    "# --- Plotting Training/Validation Loss ---\n",
    "plt.figure(figsize=(8, 3))\n",
    "# plt.plot(range(1, (EPOCHS - start_epoch) + 1), train_losses, color='red', label=\"Training Loss\")\n",
    "# plt.plot(range(1, (EPOCHS - start_epoch) + 1), val_losses, color='green', label=\"Validation Loss\")\n",
    "plt.plot(train_losses, color='red', label=\"Training Loss\")\n",
    "plt.plot(val_losses, color='green', label=\"Validation Loss\")\n",
    "plt.title(\"Training/Validation Loss vs Epochs\")\n",
    "plt.ylabel(\"Loss\")\n",
    "plt.xlabel(\"Epoch\")\n",
    "plt.legend()\n",
    "plt.grid(True)\n",
    "plt.tight_layout()\n",
    "plt.savefig(\"loss_curve_pytorch.png\")\n",
    "plt.show()\n",
    "\n",
    "# --- Final Testing Example (similar to TF code) ---\n",
    "print(\"\\n--- Running Final Test Examples ---\")\n",
    "# Load best weights\n",
    "if os.path.exists(checkpoint_path):\n",
    "    print(f\"Loading best weights from {checkpoint_path} for final test...\")\n",
    "    try:\n",
    "        checkpoint = torch.load(checkpoint_path, map_location=DEVICE)\n",
    "        model.load_state_dict(checkpoint['model_state_dict'])\n",
    "        print(\"Best weights loaded successfully.\")\n",
    "    except Exception as e:\n",
    "        print(f\"Error loading best weights: {e}\")\n",
    "else:\n",
    "    print(\"No checkpoint found for final testing.\")\n",
    "\n",
    "produce_example(model, test_loader, num_to_char_dict) # Show examples with best model\n",
    "print(\"--- Final Testing Finished ---\")"
   ]
  },
  {
   "cell_type": "code",
   "execution_count": 39,
   "id": "ade41079-8532-4bcf-a517-606be35085cf",
   "metadata": {},
   "outputs": [
    {
     "name": "stdout",
     "output_type": "stream",
     "text": [
      "Checking .npy files in ./processed_mouth_data/...\n",
      "Found 1000 files. Checking shapes...\n",
      "PROBLEM: ./processed_mouth_data/s1/lrae3s_mouth.npy has shape (74, 50, 100, 3)\n",
      "PROBLEM: ./processed_mouth_data/s1/sbbbzp_mouth.npy has shape (74, 50, 100, 3)\n",
      "PROBLEM: ./processed_mouth_data/s1/srbb4n_mouth.npy has shape (74, 50, 100, 3)\n",
      "PROBLEM: ./processed_mouth_data/s1/srwi5a_mouth.npy has shape (74, 50, 100, 3)\n",
      "PROBLEM: ./processed_mouth_data/s1/swao7a_mouth.npy has shape (74, 50, 100, 3)\n",
      "\n",
      "Found 5 files with potential shape issues.\n",
      "Problematic files removed. Please re-run preprocessing.\n"
     ]
    }
   ],
   "source": [
    "# import numpy as np\n",
    "# import glob\n",
    "# import os\n",
    "\n",
    "# BASE_PROCESSED_PATH = './processed_mouth_data/'\n",
    "# FRAME_HEIGHT = 50\n",
    "# FRAME_WIDTH = 100\n",
    "# FRAME_CHANNELS = 3\n",
    "# TARGET_SHAPE_LAST_DIMS = (75, FRAME_HEIGHT, FRAME_WIDTH, FRAME_CHANNELS)\n",
    "\n",
    "# print(f\"Checking .npy files in {BASE_PROCESSED_PATH}...\")\n",
    "# problem_files = []\n",
    "# all_files = glob.glob(os.path.join(BASE_PROCESSED_PATH, 's*', '*.npy'))\n",
    "\n",
    "# if not all_files:\n",
    "#     print(\"No .npy files found. Make sure BASE_PROCESSED_PATH is correct.\")\n",
    "# else:\n",
    "#     print(f\"Found {len(all_files)} files. Checking shapes...\")\n",
    "#     for npy_file in all_files:\n",
    "#         try:\n",
    "#             data = np.load(npy_file)\n",
    "#             if data.ndim != 4 or data.shape[:] != TARGET_SHAPE_LAST_DIMS:\n",
    "#                 print(f\"PROBLEM: {npy_file} has shape {data.shape}\")\n",
    "#                 problem_files.append(npy_file)\n",
    "#         except Exception as e:\n",
    "#             print(f\"ERROR reading {npy_file}: {e}\")\n",
    "#             problem_files.append(npy_file)\n",
    "\n",
    "#     if not problem_files:\n",
    "#         print(\"All checked .npy files seem to have correct H, W, C dimensions.\")\n",
    "#     else:\n",
    "#         print(f\"\\nFound {len(problem_files)} files with potential shape issues.\")\n",
    "#         # Optionally, you could delete or reprocess these problem files\n",
    "#         for f_path in problem_files:\n",
    "#             os.remove(f_path)\n",
    "#         print(\"Problematic files removed. Please re-run preprocessing.\")"
   ]
  },
  {
   "cell_type": "code",
   "execution_count": null,
   "id": "381c6b21-846a-4c2b-b2f1-7d15f749b46f",
   "metadata": {},
   "outputs": [],
   "source": []
  }
 ],
 "metadata": {
  "kernelspec": {
   "display_name": "Python 3",
   "language": "python",
   "name": "python3"
  },
  "language_info": {
   "codemirror_mode": {
    "name": "ipython",
    "version": 3
   },
   "file_extension": ".py",
   "mimetype": "text/x-python",
   "name": "python",
   "nbconvert_exporter": "python",
   "pygments_lexer": "ipython3",
   "version": "3.12.5"
  }
 },
 "nbformat": 4,
 "nbformat_minor": 5
}
